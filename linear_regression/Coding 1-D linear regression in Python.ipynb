{
 "cells": [
  {
   "cell_type": "markdown",
   "metadata": {},
   "source": [
    "### Coding 1-D (1 feature) linear regression in Python"
   ]
  },
  {
   "cell_type": "code",
   "execution_count": 3,
   "metadata": {},
   "outputs": [],
   "source": [
    "import numpy as np\n",
    "\n",
    "def sigmoid(z):\n",
    "    return 1/(1+np.exp(-z))"
   ]
  },
  {
   "cell_type": "markdown",
   "metadata": {},
   "source": [
    "Compute the output of a neuron/logistic classifier"
   ]
  },
  {
   "cell_type": "code",
   "execution_count": 8,
   "metadata": {},
   "outputs": [
    {
     "name": "stdout",
     "output_type": "stream",
     "text": [
      "[  7.91126880e-01   9.77338435e-01   9.98999917e-01   9.98428235e-01\n",
      "   7.52759279e-03   9.21220386e-01   9.93167318e-01   1.62681919e-01\n",
      "   9.44859766e-01   7.01123984e-01   9.23458349e-01   9.96433840e-01\n",
      "   9.77096528e-01   9.93358231e-01   9.13927513e-01   9.81370671e-01\n",
      "   7.98831274e-01   9.41185651e-01   9.28301623e-01   3.14159416e-01\n",
      "   8.62513391e-01   8.79706301e-04   8.91363015e-01   5.31366137e-02\n",
      "   4.79920019e-01   9.58215314e-01   8.11272028e-01   2.51039822e-01\n",
      "   9.93028036e-01   9.79122729e-01   3.36125949e-01   3.93239199e-02\n",
      "   9.97331514e-01   9.65918300e-01   9.99136148e-01   1.62334618e-01\n",
      "   9.96570841e-01   9.59526694e-01   7.92637376e-01   2.04925012e-01\n",
      "   6.41909980e-01   5.83080809e-01   2.12157516e-01   8.16161730e-01\n",
      "   7.86006347e-01   5.63463118e-01   8.14917164e-01   9.64449038e-01\n",
      "   5.20194335e-01   9.35483967e-01   1.29103893e-01   8.78900222e-01\n",
      "   4.32784062e-01   1.65685410e-02   9.90294560e-01   9.11800268e-01\n",
      "   9.56404787e-01   9.54250039e-01   4.95956002e-01   9.36803266e-01\n",
      "   1.92021439e-01   9.84586480e-01   2.59259259e-01   2.03763074e-01\n",
      "   2.51070357e-01   6.95571676e-01   9.46807648e-01   2.26025448e-01\n",
      "   9.88104912e-01   4.19982675e-01   9.91843020e-01   8.10384654e-01\n",
      "   9.97384776e-01   9.26333348e-01   7.97235828e-01   8.93320945e-01\n",
      "   9.76925908e-01   6.34677221e-01   8.80394936e-01   9.05593071e-01\n",
      "   3.18294109e-01   8.18975859e-01   1.11132484e-03   9.99947653e-01\n",
      "   2.49860567e-01   9.87827134e-01   8.80699539e-01   2.18608632e-01\n",
      "   9.92748066e-01   9.86331590e-01   1.79051996e-01   3.28537101e-01\n",
      "   8.72560818e-01   9.75971058e-01   9.33781352e-01   1.30007048e-01\n",
      "   9.66508201e-01   4.45612367e-02   9.68193621e-01   1.58398385e-01]\n"
     ]
    }
   ],
   "source": [
    "N = 100  # 100 samples\n",
    "D = 2    # 2 dimensions/features\n",
    "\n",
    "X = np.random.randn(N, D)\n",
    "ones = np.ones((N,1))    #\n",
    "Xb = np.concatenate((ones, X), axis=1)\n",
    "\n",
    "w = np.random.randn(D + 1) # randomly initialize weights\n",
    "\n",
    "z = Xb.dot(w)\n",
    "\n",
    "print(sigmoid(z))"
   ]
  },
  {
   "cell_type": "code",
   "execution_count": null,
   "metadata": {},
   "outputs": [],
   "source": []
  }
 ],
 "metadata": {
  "kernelspec": {
   "display_name": "Python 3",
   "language": "python",
   "name": "python3"
  },
  "language_info": {
   "codemirror_mode": {
    "name": "ipython",
    "version": 3
   },
   "file_extension": ".py",
   "mimetype": "text/x-python",
   "name": "python",
   "nbconvert_exporter": "python",
   "pygments_lexer": "ipython3",
   "version": "3.4.4"
  }
 },
 "nbformat": 4,
 "nbformat_minor": 2
}
