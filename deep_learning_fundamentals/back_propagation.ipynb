{
 "cells": [
  {
   "cell_type": "markdown",
   "metadata": {},
   "source": [
    "* Input-to-hidden weight matrix: W (DxM)\n",
    "* Hidden bias: b(M)\n",
    "* Hidden-to-ouput weight matrix: V (MxK) \n",
    "* Output bias: c(K)\n",
    "\n",
    "<img src=\"images/one_hidden_layer.png\" alt=\"Drawing\" style=\"width:30%;height:30%\"/>"
   ]
  },
  {
   "cell_type": "markdown",
   "metadata": {},
   "source": [
    "### Prediction\n",
    "* Feedforward\n",
    "\n",
    "```\n",
    "Z1 = s(W_0 * X)\n",
    "Z2 = s(W_1 * Z1)\n",
    "Z3 = s(W_2 * Z2)\n",
    "y = s(W_3 * Z3)\n",
    "```\n",
    "\n",
    "* s( ) is nonlinearity such as sigmoid, tanh, relu or softmax\n",
    "* Last layer is sigmoid for binary, softmax for more than 2 classes"
   ]
  },
  {
   "cell_type": "code",
   "execution_count": 8,
   "metadata": {},
   "outputs": [],
   "source": [
    "import numpy as np\n",
    "import matplotlib.pyplot as plt"
   ]
  },
  {
   "cell_type": "code",
   "execution_count": 17,
   "metadata": {},
   "outputs": [
    {
     "name": "stdout",
     "output_type": "stream",
     "text": [
      "(3, 4)\n",
      "(4,)\n",
      "[[ 0  1  2  3]\n",
      " [ 4  5  6  7]\n",
      " [ 8  9 10 11]]\n",
      "[0 1 2 3]\n",
      "[[ 0  2  4  6]\n",
      " [ 4  6  8 10]\n",
      " [ 8 10 12 14]]\n",
      "(3, 4)\n"
     ]
    }
   ],
   "source": [
    "XW = np.arange(12).reshape(3,4)\n",
    "b = np.arange(4)\n",
    "\n",
    "print(XW.shape)\n",
    "print(b.shape)\n",
    "print(XW)\n",
    "print(b)\n",
    "Y = np.add(XW,b)\n",
    "print(Y)\n",
    "print(Y.shape)"
   ]
  },
  {
   "cell_type": "code",
   "execution_count": 46,
   "metadata": {},
   "outputs": [],
   "source": [
    "def sigmoid(A):\n",
    "    return 1/(1+np.exp(-A))\n",
    "\n",
    "def softmax(A):\n",
    "    expA = np.exp(A)\n",
    "    return expA / expA.sum(axis=1, keepdims=True)\n"
   ]
  },
  {
   "cell_type": "code",
   "execution_count": 47,
   "metadata": {},
   "outputs": [
    {
     "name": "stdout",
     "output_type": "stream",
     "text": [
      "[[0 1 2]\n",
      " [3 4 5]\n",
      " [6 7 8]]\n"
     ]
    },
    {
     "data": {
      "text/plain": [
       "array([ 1.,  1.,  1.])"
      ]
     },
     "execution_count": 47,
     "metadata": {},
     "output_type": "execute_result"
    }
   ],
   "source": [
    "A = np.arange(9).reshape(3,3)\n",
    "print(A)\n",
    "A = softmax(A)\n",
    "A.sum(axis=1)"
   ]
  },
  {
   "cell_type": "code",
   "execution_count": 56,
   "metadata": {},
   "outputs": [
    {
     "name": "stdout",
     "output_type": "stream",
     "text": [
      "(50, 2)\n",
      "(50, 4)\n",
      "(50, 3)\n",
      "[[ 0.31937312  0.46055521  0.22007167]\n",
      " [ 0.36309794  0.34154628  0.29535578]\n",
      " [ 0.30066031  0.56799514  0.13134455]\n",
      " [ 0.31136977  0.48722925  0.20140099]\n",
      " [ 0.31900617  0.52547146  0.15552237]]\n"
     ]
    }
   ],
   "source": [
    "N=50\n",
    "D=2 # dimensionality of input\n",
    "M=4 # hidden layer size\n",
    "K=3 # number of classes\n",
    "\n",
    "# input\n",
    "X=np.random.randn(N, D)\n",
    "print(X.shape)\n",
    "\n",
    "# enter the hidden layer\n",
    "ones1 = np.ones((N,1))\n",
    "X = np.concatenate((X, ones1), axis=1)\n",
    "W1= np.random.randn(D+1,M)\n",
    "I1 = X.dot(W1)\n",
    "\n",
    "Z = sigmoid(I1)\n",
    "print(Z.shape)\n",
    "# enter the outer layer\n",
    "ones2 = np.ones((N,1))\n",
    "Z = np.concatenate((Z, ones2), axis=1)\n",
    "W2= np.random.randn(M+1,K)\n",
    "I2= Z.dot(W2)\n",
    "\n",
    "P = softmax(I2)\n",
    "print(P.shape)\n",
    "\n",
    "# print(P.shape)\n",
    "# print(P.sum(axis=1, keepdims=True))\n",
    "print(P[0:5,:])"
   ]
  },
  {
   "cell_type": "markdown",
   "metadata": {},
   "source": [
    "### Train\n",
    "* The training is an application of gradient descent\n",
    "* W <- W - learning_rate * derivative of loss function w.r.t. W\n",
    "* Thena and TensorFlow will calculate the derivative for us"
   ]
  },
  {
   "cell_type": "code",
   "execution_count": 68,
   "metadata": {},
   "outputs": [],
   "source": [
    "def fit(X, Y, hidden_num):\n",
    "    \n",
    "    N, D = X.shape\n",
    "    K = len(set(Y))\n",
    "    M = hidden_num\n",
    "    \n",
    "    # one-hot-encoding on the target/class label\n",
    "    T = np.zeros((N, K))\n",
    "    for i in range(N):\n",
    "        T[i, Y[i]] = 1\n",
    "    \n",
    "    # randomly initialize weights and bias\n",
    "    # W1 is the weight matrix for first layer (hidden layer)\n",
    "    # W2 is the weight matrix for second layer (out payer)\n",
    "    W1 = np.random.randn(D, M)\n",
    "    b1 = np.random.randn(M)\n",
    "    W2 = np.random.randn(M, K)\n",
    "    b2 = np.random.randn(K)\n",
    "\n",
    "    learning_rate = 10e-7\n",
    "    costs = []\n",
    "    epochs = 10000\n",
    "    for e in range(epochs + 1):\n",
    "        output, hidden = forward(X, W1, b1, W2, b2)\n",
    "        if e % 100 == 0:\n",
    "            # probably 'cost' is not a good name since we are using gradient ascent here\n",
    "            c = cost(T, output) \n",
    "            P = np.argmax(output, axis=1)\n",
    "            r = classification_rate(Y, P)\n",
    "            print(e, \"cost: \", c, \"classification rate: \", r)\n",
    "            costs.append(c)\n",
    "\n",
    "        W2 += learning_rate * derivative_W2(T, output, hidden)\n",
    "        b2 += learning_rate * derivative_b2(T, output);\n",
    "        W1 += learning_rate * derivative_W1(T, output, W2, hidden, X)\n",
    "        b1 += learning_rate * derivative_b1(T, output, W2, hidden)\n",
    "    "
   ]
  },
  {
   "cell_type": "code",
   "execution_count": 60,
   "metadata": {},
   "outputs": [],
   "source": [
    "# softmax(sigmoid(X*W1 + b1)*W2 + b2)\n",
    "def forward(X, W1, b1, W2, b2):\n",
    "    Z = sigmoid(X.dot(W1) + b1)\n",
    "    Y = softmax(Z.dot(W2) + b2)  \n",
    "    return Y, Z"
   ]
  },
  {
   "cell_type": "code",
   "execution_count": 61,
   "metadata": {},
   "outputs": [],
   "source": [
    "\n",
    "def derivative_W2(T, Y, Z):\n",
    "    N, K = T.shape\n",
    "    M = Z.shape[1]\n",
    "    \n",
    "    ret1 = np.zeros((M, K))\n",
    "    for n in range(N):\n",
    "        for m in range(M):\n",
    "            for k in range(K):\n",
    "                ret1[m, k] += (T[n, k] - Y[n, k]) * Z[n, m]\n",
    "                \n",
    "    return ret1\n",
    "\n",
    "\n",
    "def derivative_b2(T, Y):\n",
    "    N, K = T.shape\n",
    "    \n",
    "    ret1 = np.zeros(K)\n",
    "    for n in range(N):\n",
    "            for k in range(K):\n",
    "                ret1[k] += T[n, k] - Y[n, k]\n",
    "    return ret1\n",
    "    \n",
    "    \n",
    "def derivative_W1(T, Y, W2, Z, X):\n",
    "    N, K = T.shape\n",
    "    M = Z.shape[1]\n",
    "    D = X.shape[1]\n",
    "    \n",
    "    ret1 = np.zeros((D, M))\n",
    "    for n in range(N):\n",
    "        for d in range(D):\n",
    "            for m in range(M):\n",
    "                for k in range(K):\n",
    "                    ret1[d, m] += (T[n, k] - Y[n, k]) * W2[m, k] * Z[n, m] * (1 - Z[n, m]) * X[n, d]\n",
    "    \n",
    "    return ret1\n",
    "\n",
    "def derivative_b1(T, Y, W2, Z):\n",
    "    N, K = T.shape\n",
    "    M = Z.shape[1]\n",
    "    \n",
    "    ret1 = np.zeros(M)\n",
    "    for n in range(N):\n",
    "        for m in range(M):\n",
    "            for k in range(K):\n",
    "                ret1[m] += (T[n, k] - Y[n, k]) * W2[m, k] * Z[n, m] * (1 - Z[n, m])\n",
    "    \n",
    "    return ret1"
   ]
  },
  {
   "cell_type": "code",
   "execution_count": 62,
   "metadata": {},
   "outputs": [],
   "source": [
    "def classification_rate(Y, T):\n",
    "    n_correct = 0\n",
    "    n_total = 0\n",
    "    for i in range(len(Y)):\n",
    "        n_total += 1\n",
    "        if Y[i] == T[i]:\n",
    "            n_correct += 1\n",
    "    return float(n_correct/n_total)\n",
    "\n",
    "\n",
    "def cost(T, Y):\n",
    "    tot = T * np.log(Y)\n",
    "    return tot.sum()"
   ]
  },
  {
   "cell_type": "code",
   "execution_count": 63,
   "metadata": {},
   "outputs": [
    {
     "data": {
      "image/png": "[encoded data removed]",
      "text/plain": [
       "<matplotlib.figure.Figure at 0x106106908>"
      ]
     },
     "metadata": {},
     "output_type": "display_data"
    }
   ],
   "source": [
    "Nclass = 500 # number of samples for each classes\n",
    "D = 2 # dimensionality of input\n",
    "M = 3 # hidden layer size\n",
    "K = 3 # number of classes\n",
    "\n",
    "X1 = np.random.randn(Nclass, D) + np.array([0, -2])\n",
    "X2 = np.random.randn(Nclass, D) + np.array([2, 2])\n",
    "X3 = np.random.randn(Nclass, D) + np.array([-2, 2])\n",
    "X = np.vstack([X1, X2, X3])\n",
    "\n",
    "Y = np.array([0]*Nclass + [1]*Nclass + [2]*Nclass)\n",
    "N = len(Y)\n",
    "\n",
    "plt.scatter(X[:, 0], X[:, 1], c=Y, s=100, alpha=0.5)\n",
    "plt.show()"
   ]
  },
  {
   "cell_type": "code",
   "execution_count": 64,
   "metadata": {},
   "outputs": [
    {
     "name": "stdout",
     "output_type": "stream",
     "text": [
      "0 cost:  -2530.11476537 classification rate:  0.30733333333333335\n",
      "100 cost:  -2440.16513969 classification rate:  0.328\n",
      "200 cost:  -2356.55959168 classification rate:  0.352\n",
      "300 cost:  -2279.0366912 classification rate:  0.37866666666666665\n",
      "400 cost:  -2207.29847285 classification rate:  0.4106666666666667\n",
      "500 cost:  -2141.0110723 classification rate:  0.434\n",
      "600 cost:  -2079.81023027 classification rate:  0.438\n",
      "700 cost:  -2023.31028773 classification rate:  0.44466666666666665\n",
      "800 cost:  -1971.1150904 classification rate:  0.452\n",
      "900 cost:  -1922.82926668 classification rate:  0.454\n",
      "1000 cost:  -1878.06859445 classification rate:  0.46266666666666667\n",
      "1100 cost:  -1836.46855301 classification rate:  0.4573333333333333\n",
      "1200 cost:  -1797.69057846 classification rate:  0.458\n",
      "1300 cost:  -1761.42592816 classification rate:  0.46\n",
      "1400 cost:  -1727.39735812 classification rate:  0.466\n",
      "1500 cost:  -1695.35900484 classification rate:  0.468\n",
      "1600 cost:  -1665.09494184 classification rate:  0.48\n",
      "1700 cost:  -1636.41687444 classification rate:  0.48733333333333334\n",
      "1800 cost:  -1609.16137288 classification rate:  0.49466666666666664\n",
      "1900 cost:  -1583.1869539 classification rate:  0.5006666666666667\n",
      "2000 cost:  -1558.3712276 classification rate:  0.51\n",
      "2100 cost:  -1534.60824387 classification rate:  0.526\n",
      "2200 cost:  -1511.80610799 classification rate:  0.5346666666666666\n",
      "2300 cost:  -1489.88488957 classification rate:  0.5513333333333333\n",
      "2400 cost:  -1468.77481948 classification rate:  0.5593333333333333\n",
      "2500 cost:  -1448.41475303 classification rate:  0.5793333333333334\n",
      "2600 cost:  -1428.75086999 classification rate:  0.614\n",
      "2700 cost:  -1409.73558004 classification rate:  0.6533333333333333\n",
      "2800 cost:  -1391.32660341 classification rate:  0.6946666666666667\n",
      "2900 cost:  -1373.48619949 classification rate:  0.718\n",
      "3000 cost:  -1356.18051946 classification rate:  0.734\n",
      "3100 cost:  -1339.37906262 classification rate:  0.7486666666666667\n",
      "3200 cost:  -1323.05421922 classification rate:  0.754\n",
      "3300 cost:  -1307.18088534 classification rate:  0.764\n",
      "3400 cost:  -1291.73613804 classification rate:  0.7746666666666666\n",
      "3500 cost:  -1276.69896057 classification rate:  0.7853333333333333\n",
      "3600 cost:  -1262.05000958 classification rate:  0.7913333333333333\n",
      "3700 cost:  -1247.77141737 classification rate:  0.798\n",
      "3800 cost:  -1233.84662339 classification rate:  0.8046666666666666\n",
      "3900 cost:  -1220.26023041 classification rate:  0.8086666666666666\n",
      "4000 cost:  -1206.99788121 classification rate:  0.8106666666666666\n",
      "4100 cost:  -1194.04615258 classification rate:  0.814\n",
      "4200 cost:  -1181.39246382 classification rate:  0.8193333333333334\n",
      "4300 cost:  -1169.02499753 classification rate:  0.822\n",
      "4400 cost:  -1156.93263067 classification rate:  0.828\n",
      "4500 cost:  -1145.10487436 classification rate:  0.8313333333333334\n",
      "4600 cost:  -1133.53182097 classification rate:  0.8366666666666667\n",
      "4700 cost:  -1122.20409761 classification rate:  0.8413333333333334\n",
      "4800 cost:  -1111.11282482 classification rate:  0.8466666666666667\n",
      "4900 cost:  -1100.2495799 classification rate:  0.852\n"
     ]
    },
    {
     "ename": "KeyboardInterrupt",
     "evalue": "",
     "output_type": "error",
     "traceback": [
      "\u001b[0;31m---------------------------------------------------------------------------\u001b[0m",
      "\u001b[0;31mKeyboardInterrupt\u001b[0m                         Traceback (most recent call last)",
      "\u001b[0;32m<ipython-input-64-8895c1c1a145>\u001b[0m in \u001b[0;36m<module>\u001b[0;34m()\u001b[0m\n\u001b[0;32m----> 1\u001b[0;31m \u001b[0mfit\u001b[0m\u001b[0;34m(\u001b[0m\u001b[0mX\u001b[0m\u001b[0;34m,\u001b[0m \u001b[0mY\u001b[0m\u001b[0;34m,\u001b[0m \u001b[0mM\u001b[0m\u001b[0;34m)\u001b[0m\u001b[0;34m\u001b[0m\u001b[0m\n\u001b[0m",
      "\u001b[0;32m<ipython-input-59-20a7721b265e>\u001b[0m in \u001b[0;36mfit\u001b[0;34m(X, Y, hidden_num)\u001b[0m\n\u001b[1;32m     32\u001b[0m         \u001b[0mW2\u001b[0m \u001b[0;34m+=\u001b[0m \u001b[0mlearning_rate\u001b[0m \u001b[0;34m*\u001b[0m \u001b[0mderivative_W2\u001b[0m\u001b[0;34m(\u001b[0m\u001b[0mT\u001b[0m\u001b[0;34m,\u001b[0m \u001b[0moutput\u001b[0m\u001b[0;34m,\u001b[0m \u001b[0mhidden\u001b[0m\u001b[0;34m)\u001b[0m\u001b[0;34m\u001b[0m\u001b[0m\n\u001b[1;32m     33\u001b[0m         \u001b[0mb2\u001b[0m \u001b[0;34m+=\u001b[0m \u001b[0mlearning_rate\u001b[0m \u001b[0;34m*\u001b[0m \u001b[0mderivative_b2\u001b[0m\u001b[0;34m(\u001b[0m\u001b[0mT\u001b[0m\u001b[0;34m,\u001b[0m \u001b[0moutput\u001b[0m\u001b[0;34m)\u001b[0m\u001b[0;34m;\u001b[0m\u001b[0;34m\u001b[0m\u001b[0m\n\u001b[0;32m---> 34\u001b[0;31m         \u001b[0mW1\u001b[0m \u001b[0;34m+=\u001b[0m \u001b[0mlearning_rate\u001b[0m \u001b[0;34m*\u001b[0m \u001b[0mderivative_W1\u001b[0m\u001b[0;34m(\u001b[0m\u001b[0mT\u001b[0m\u001b[0;34m,\u001b[0m \u001b[0moutput\u001b[0m\u001b[0;34m,\u001b[0m \u001b[0mW2\u001b[0m\u001b[0;34m,\u001b[0m \u001b[0mhidden\u001b[0m\u001b[0;34m,\u001b[0m \u001b[0mX\u001b[0m\u001b[0;34m)\u001b[0m\u001b[0;34m\u001b[0m\u001b[0m\n\u001b[0m\u001b[1;32m     35\u001b[0m         \u001b[0mb1\u001b[0m \u001b[0;34m+=\u001b[0m \u001b[0mlearning_rate\u001b[0m \u001b[0;34m*\u001b[0m \u001b[0mderivative_b1\u001b[0m\u001b[0;34m(\u001b[0m\u001b[0mT\u001b[0m\u001b[0;34m,\u001b[0m \u001b[0moutput\u001b[0m\u001b[0;34m,\u001b[0m \u001b[0mW2\u001b[0m\u001b[0;34m,\u001b[0m \u001b[0mhidden\u001b[0m\u001b[0;34m)\u001b[0m\u001b[0;34m\u001b[0m\u001b[0m\n\u001b[1;32m     36\u001b[0m \u001b[0;34m\u001b[0m\u001b[0m\n",
      "\u001b[0;32m<ipython-input-61-2a125b8c277f>\u001b[0m in \u001b[0;36mderivative_W1\u001b[0;34m(T, Y, W2, Z, X)\u001b[0m\n\u001b[1;32m     35\u001b[0m             \u001b[0;32mfor\u001b[0m \u001b[0mm\u001b[0m \u001b[0;32min\u001b[0m \u001b[0mrange\u001b[0m\u001b[0;34m(\u001b[0m\u001b[0mM\u001b[0m\u001b[0;34m)\u001b[0m\u001b[0;34m:\u001b[0m\u001b[0;34m\u001b[0m\u001b[0m\n\u001b[1;32m     36\u001b[0m                 \u001b[0;32mfor\u001b[0m \u001b[0mk\u001b[0m \u001b[0;32min\u001b[0m \u001b[0mrange\u001b[0m\u001b[0;34m(\u001b[0m\u001b[0mK\u001b[0m\u001b[0;34m)\u001b[0m\u001b[0;34m:\u001b[0m\u001b[0;34m\u001b[0m\u001b[0m\n\u001b[0;32m---> 37\u001b[0;31m                     \u001b[0mret1\u001b[0m\u001b[0;34m[\u001b[0m\u001b[0md\u001b[0m\u001b[0;34m,\u001b[0m \u001b[0mm\u001b[0m\u001b[0;34m]\u001b[0m \u001b[0;34m+=\u001b[0m \u001b[0;34m(\u001b[0m\u001b[0mT\u001b[0m\u001b[0;34m[\u001b[0m\u001b[0mn\u001b[0m\u001b[0;34m,\u001b[0m \u001b[0mk\u001b[0m\u001b[0;34m]\u001b[0m \u001b[0;34m-\u001b[0m \u001b[0mY\u001b[0m\u001b[0;34m[\u001b[0m\u001b[0mn\u001b[0m\u001b[0;34m,\u001b[0m \u001b[0mk\u001b[0m\u001b[0;34m]\u001b[0m\u001b[0;34m)\u001b[0m\u001b[0;34m*\u001b[0m\u001b[0mW2\u001b[0m\u001b[0;34m[\u001b[0m\u001b[0mm\u001b[0m\u001b[0;34m,\u001b[0m \u001b[0mk\u001b[0m\u001b[0;34m]\u001b[0m\u001b[0;34m*\u001b[0m\u001b[0mZ\u001b[0m\u001b[0;34m[\u001b[0m\u001b[0mn\u001b[0m\u001b[0;34m,\u001b[0m \u001b[0mm\u001b[0m\u001b[0;34m]\u001b[0m\u001b[0;34m*\u001b[0m\u001b[0;34m(\u001b[0m\u001b[0;36m1\u001b[0m \u001b[0;34m-\u001b[0m \u001b[0mZ\u001b[0m\u001b[0;34m[\u001b[0m\u001b[0mn\u001b[0m\u001b[0;34m,\u001b[0m \u001b[0mm\u001b[0m\u001b[0;34m]\u001b[0m\u001b[0;34m)\u001b[0m\u001b[0;34m*\u001b[0m\u001b[0mX\u001b[0m\u001b[0;34m[\u001b[0m\u001b[0mn\u001b[0m\u001b[0;34m,\u001b[0m \u001b[0md\u001b[0m\u001b[0;34m]\u001b[0m\u001b[0;34m\u001b[0m\u001b[0m\n\u001b[0m\u001b[1;32m     38\u001b[0m \u001b[0;34m\u001b[0m\u001b[0m\n\u001b[1;32m     39\u001b[0m     \u001b[0;32mreturn\u001b[0m \u001b[0mret1\u001b[0m\u001b[0;34m\u001b[0m\u001b[0m\n",
      "\u001b[0;31mKeyboardInterrupt\u001b[0m: "
     ]
    }
   ],
   "source": [
    "fit(X, Y, M)"
   ]
  },
  {
   "cell_type": "code",
   "execution_count": 66,
   "metadata": {},
   "outputs": [],
   "source": [
    "\n",
    "def derivative_W2(T, Y, Z):\n",
    "#     N, K = T.shape\n",
    "#     M = Z.shape[1]\n",
    "#     ret1 = np.zeros((M, K))\n",
    "#     for n in range(N):\n",
    "#         for m in range(M):\n",
    "#             for k in range(K):\n",
    "#                 ret1[m, k] += (T[n, k] - Y[n, k]) * Z[n, m]\n",
    "#     return ret1\n",
    "\n",
    "    return Z.T.dot(T-Y)\n",
    "\n",
    "\n",
    "def derivative_b2(T, Y):\n",
    "#     N, K = T.shape\n",
    "#     ret1 = np.zeros(K)\n",
    "#     for n in range(N):\n",
    "#             for k in range(K):\n",
    "#                 ret1[k] += T[n, k] - Y[n, k]\n",
    "#     return ret1\n",
    "\n",
    "    return (T - Y).sum(axis=0)\n",
    "    \n",
    "    \n",
    "def derivative_W1(T, Y, W2, Z, X):\n",
    "#     N, K = T.shape\n",
    "#     M = Z.shape[1]\n",
    "#     D = X.shape[1]\n",
    "#     ret1 = np.zeros((D, M))\n",
    "#     for n in range(N):\n",
    "#         for d in range(D):\n",
    "#             for m in range(M):\n",
    "#                 for k in range(K):\n",
    "#                     ret1[d, m] += (T[n, k] - Y[n, k]) * W2[m, k] * Z[n, m] * (1 - Z[n, m]) * X[n, d]\n",
    "#     return ret1\n",
    "\n",
    "    dA = (T - Y).dot(W2.T) * Z * (1 - Z)\n",
    "    return X.T.dot(dA)\n",
    "\n",
    "def derivative_b1(T, Y, W2, Z):\n",
    "#     N, K = T.shape\n",
    "#     M = Z.shape[1]\n",
    "#     ret1 = np.zeros(M)\n",
    "#     for n in range(N):\n",
    "#         for m in range(M):\n",
    "#             for k in range(K):\n",
    "#                 ret1[m] += (T[n, k] - Y[n, k]) * W2[m, k] * Z[n, m] * (1 - Z[n, m])\n",
    "#     return ret1\n",
    "\n",
    "    dz = (T - Y).dot(W2.T) * Z * (1 - Z)\n",
    "    return dz.sum(axis=0)"
   ]
  },
  {
   "cell_type": "code",
   "execution_count": 69,
   "metadata": {},
   "outputs": [
    {
     "name": "stdout",
     "output_type": "stream",
     "text": [
      "0 cost:  -1607.10308608 classification rate:  0.3333333333333333\n",
      "100 cost:  -1542.00793155 classification rate:  0.36\n",
      "200 cost:  -1484.28154125 classification rate:  0.43133333333333335\n",
      "300 cost:  -1432.9236673 classification rate:  0.47733333333333333\n",
      "400 cost:  -1387.02095501 classification rate:  0.5093333333333333\n",
      "500 cost:  -1345.76500016 classification rate:  0.534\n",
      "600 cost:  -1308.45856972 classification rate:  0.552\n",
      "700 cost:  -1274.51300618 classification rate:  0.5706666666666667\n",
      "800 cost:  -1243.43968912 classification rate:  0.584\n",
      "900 cost:  -1214.83802043 classification rate:  0.5966666666666667\n",
      "1000 cost:  -1188.38191321 classification rate:  0.604\n",
      "1100 cost:  -1163.80628199 classification rate:  0.618\n",
      "1200 cost:  -1140.89457874 classification rate:  0.6313333333333333\n",
      "1300 cost:  -1119.46800453 classification rate:  0.6473333333333333\n",
      "1400 cost:  -1099.37666811 classification rate:  0.674\n",
      "1500 cost:  -1080.49268091 classification rate:  0.7193333333333334\n",
      "1600 cost:  -1062.70498748 classification rate:  0.774\n",
      "1700 cost:  -1045.9156301 classification rate:  0.8313333333333334\n",
      "1800 cost:  -1030.03712131 classification rate:  0.884\n",
      "1900 cost:  -1014.9906232 classification rate:  0.9053333333333333\n",
      "2000 cost:  -1000.70468397 classification rate:  0.9186666666666666\n",
      "2100 cost:  -987.11434148 classification rate:  0.9306666666666666\n",
      "2200 cost:  -974.160458497 classification rate:  0.936\n",
      "2300 cost:  -961.789198808 classification rate:  0.9393333333333334\n",
      "2400 cost:  -949.951587235 classification rate:  0.9433333333333334\n",
      "2500 cost:  -938.603119721 classification rate:  0.9466666666666667\n",
      "2600 cost:  -927.703405007 classification rate:  0.952\n",
      "2700 cost:  -917.21582875 classification rate:  0.9546666666666667\n",
      "2800 cost:  -907.107236269 classification rate:  0.956\n",
      "2900 cost:  -897.347632873 classification rate:  0.956\n",
      "3000 cost:  -887.909901891 classification rate:  0.958\n",
      "3100 cost:  -878.769540916 classification rate:  0.958\n",
      "3200 cost:  -869.904416576 classification rate:  0.9573333333333334\n",
      "3300 cost:  -861.294537947 classification rate:  0.9566666666666667\n",
      "3400 cost:  -852.921848316 classification rate:  0.956\n",
      "3500 cost:  -844.770034737 classification rate:  0.9566666666666667\n",
      "3600 cost:  -836.824354592 classification rate:  0.9573333333333334\n",
      "3700 cost:  -829.07147818 classification rate:  0.958\n",
      "3800 cost:  -821.499346267 classification rate:  0.9593333333333334\n",
      "3900 cost:  -814.097041484 classification rate:  0.9586666666666667\n",
      "4000 cost:  -806.854672432 classification rate:  0.9573333333333334\n",
      "4100 cost:  -799.763269412 classification rate:  0.958\n",
      "4200 cost:  -792.814690701 classification rate:  0.9593333333333334\n",
      "4300 cost:  -786.001538396 classification rate:  0.9606666666666667\n",
      "4400 cost:  -779.317082877 classification rate:  0.9606666666666667\n",
      "4500 cost:  -772.75519505 classification rate:  0.9613333333333334\n",
      "4600 cost:  -766.310285573 classification rate:  0.9613333333333334\n",
      "4700 cost:  -759.977250347 classification rate:  0.9613333333333334\n",
      "4800 cost:  -753.751421642 classification rate:  0.962\n",
      "4900 cost:  -747.628524249 classification rate:  0.962\n",
      "5000 cost:  -741.604636158 classification rate:  0.962\n",
      "5100 cost:  -735.67615327 classification rate:  0.962\n",
      "5200 cost:  -729.839757729 classification rate:  0.962\n",
      "5300 cost:  -724.092389502 classification rate:  0.962\n",
      "5400 cost:  -718.431220851 classification rate:  0.9626666666666667\n",
      "5500 cost:  -712.853633419 classification rate:  0.9626666666666667\n",
      "5600 cost:  -707.35719764 classification rate:  0.9626666666666667\n",
      "5700 cost:  -701.939654239 classification rate:  0.9626666666666667\n",
      "5800 cost:  -696.598897612 classification rate:  0.964\n",
      "5900 cost:  -691.332960886 classification rate:  0.964\n",
      "6000 cost:  -686.140002487 classification rate:  0.964\n",
      "6100 cost:  -681.018294072 classification rate:  0.9646666666666667\n",
      "6200 cost:  -675.966209675 classification rate:  0.9653333333333334\n",
      "6300 cost:  -670.982215949 classification rate:  0.9653333333333334\n",
      "6400 cost:  -666.064863394 classification rate:  0.9653333333333334\n",
      "6500 cost:  -661.212778476 classification rate:  0.966\n",
      "6600 cost:  -656.424656532 classification rate:  0.966\n",
      "6700 cost:  -651.699255405 classification rate:  0.966\n",
      "6800 cost:  -647.035389717 classification rate:  0.9666666666666667\n",
      "6900 cost:  -642.431925724 classification rate:  0.9673333333333334\n",
      "7000 cost:  -637.887776697 classification rate:  0.9673333333333334\n",
      "7100 cost:  -633.401898771 classification rate:  0.968\n",
      "7200 cost:  -628.97328722 classification rate:  0.968\n",
      "7300 cost:  -624.60097311 classification rate:  0.968\n",
      "7400 cost:  -620.284020297 classification rate:  0.9686666666666667\n",
      "7500 cost:  -616.021522739 classification rate:  0.9686666666666667\n",
      "7600 cost:  -611.812602075 classification rate:  0.968\n",
      "7700 cost:  -607.656405463 classification rate:  0.9693333333333334\n",
      "7800 cost:  -603.552103638 classification rate:  0.9693333333333334\n",
      "7900 cost:  -599.498889174 classification rate:  0.9693333333333334\n",
      "8000 cost:  -595.495974924 classification rate:  0.9693333333333334\n",
      "8100 cost:  -591.542592625 classification rate:  0.9693333333333334\n",
      "8200 cost:  -587.637991651 classification rate:  0.9693333333333334\n",
      "8300 cost:  -583.781437891 classification rate:  0.9693333333333334\n",
      "8400 cost:  -579.972212751 classification rate:  0.97\n",
      "8500 cost:  -576.209612253 classification rate:  0.97\n",
      "8600 cost:  -572.492946238 classification rate:  0.97\n",
      "8700 cost:  -568.821537641 classification rate:  0.97\n",
      "8800 cost:  -565.194721855 classification rate:  0.97\n",
      "8900 cost:  -561.611846147 classification rate:  0.97\n",
      "9000 cost:  -558.072269147 classification rate:  0.97\n",
      "9100 cost:  -554.575360381 classification rate:  0.97\n",
      "9200 cost:  -551.120499856 classification rate:  0.97\n",
      "9300 cost:  -547.707077686 classification rate:  0.97\n",
      "9400 cost:  -544.334493753 classification rate:  0.97\n",
      "9500 cost:  -541.002157407 classification rate:  0.97\n",
      "9600 cost:  -537.709487187 classification rate:  0.97\n",
      "9700 cost:  -534.455910577 classification rate:  0.97\n",
      "9800 cost:  -531.240863776 classification rate:  0.97\n",
      "9900 cost:  -528.063791497 classification rate:  0.97\n",
      "10000 cost:  -524.924146774 classification rate:  0.9693333333333334\n"
     ]
    }
   ],
   "source": [
    "fit(X, Y, M)"
   ]
  },
  {
   "cell_type": "markdown",
   "metadata": {},
   "source": [
    "## Question"
   ]
  },
  {
   "cell_type": "markdown",
   "metadata": {},
   "source": [
    "** Question 1 **\n",
    "* Suppose we removed all the nonlinearities from this neural network. What is the result?\n",
    "<img src=\"images/one_hidden_sigmoid.png\" alt=\"Drawing\" style=\"width:30%;height:30%\"/>\n",
    "    * Option 1) You get a neural network for regression, since the output can now take on any value\n",
    "    * Option 2) Linear Regression\n",
    "    * Option 3) Does not change anything, this is still a nonlinear function approcimator\n",
    "* Answer\n",
    "    * If we remove the nonlinearities, this is exactly the same from as linear regression. Multiplying 2 matrices together just gives you another matrix\n",
    "<img src=\"images/nonlinearities.png\" alt=\"Drawing\" style=\"width:40%;height:40%\"/>"
   ]
  },
  {
   "cell_type": "markdown",
   "metadata": {},
   "source": [
    "** Question 2 **\n",
    "\n",
    "* What is the output?\n",
    "    * input: X = [[1,2]]\n",
    "    * input-to-hidden: W1 = [[1,1], [1,0]]\n",
    "    * hidden-to-output: W2 = [[0,1], [1,1]]\n",
    "    * hidden layer nonlinearity: tanh()\n",
    "    * no bias terms\n",
    "    * softmax at output\n"
   ]
  },
  {
   "cell_type": "code",
   "execution_count": 70,
   "metadata": {},
   "outputs": [
    {
     "name": "stdout",
     "output_type": "stream",
     "text": [
      "[[ 0.26991483  0.73008517]]\n"
     ]
    }
   ],
   "source": [
    "def softmax(A):\n",
    "    expA = np.exp(A)\n",
    "    return expA / expA.sum(axis=1, keepdims=True)\n",
    "\n",
    "X = np.array([[1,2]])\n",
    "\n",
    "W1 = np.array([[1,1], [1,0]])\n",
    "W2 = np.array([[0,1], [1,1]])\n",
    "\n",
    "Z = X.dot(W1)\n",
    "Z = np.tanh(Z)\n",
    "\n",
    "Y = Z.dot(W2)\n",
    "print(softmax(Y))"
   ]
  },
  {
   "cell_type": "markdown",
   "metadata": {},
   "source": [
    "<img src=\"images/one_hidden_softmax.png\" alt=\"Drawing\" style=\"width:30%;height:30%\"/>"
   ]
  },
  {
   "cell_type": "code",
   "execution_count": null,
   "metadata": {},
   "outputs": [],
   "source": []
  }
 ],
 "metadata": {
  "kernelspec": {
   "display_name": "Python 3",
   "language": "python",
   "name": "python3"
  },
  "language_info": {
   "codemirror_mode": {
    "name": "ipython",
    "version": 3
   },
   "file_extension": ".py",
   "mimetype": "text/x-python",
   "name": "python",
   "nbconvert_exporter": "python",
   "pygments_lexer": "ipython3",
   "version": "3.4.4"
  }
 },
 "nbformat": 4,
 "nbformat_minor": 2
}
