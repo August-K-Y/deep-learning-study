{
 "cells": [
  {
   "cell_type": "code",
   "execution_count": 15,
   "metadata": {},
   "outputs": [],
   "source": [
    "import theano.tensor as T\n",
    "import theano\n",
    "import numpy as np"
   ]
  },
  {
   "cell_type": "code",
   "execution_count": 5,
   "metadata": {},
   "outputs": [
    {
     "name": "stdout",
     "output_type": "stream",
     "text": [
      "c\n",
      "<class 'theano.tensor.var.TensorVariable'>\n"
     ]
    }
   ],
   "source": [
    "c = T.scalar('c')\n",
    "print(c)\n",
    "print(type(c))"
   ]
  },
  {
   "cell_type": "code",
   "execution_count": 6,
   "metadata": {},
   "outputs": [],
   "source": [
    "v = T.vector('v')"
   ]
  },
  {
   "cell_type": "code",
   "execution_count": 7,
   "metadata": {},
   "outputs": [
    {
     "name": "stdout",
     "output_type": "stream",
     "text": [
      "c\n",
      "<class 'theano.tensor.var.TensorVariable'>\n"
     ]
    }
   ],
   "source": [
    "print(c)\n",
    "print(type(c))"
   ]
  },
  {
   "cell_type": "code",
   "execution_count": 8,
   "metadata": {},
   "outputs": [
    {
     "name": "stdout",
     "output_type": "stream",
     "text": [
      "A\n",
      "<class 'theano.tensor.var.TensorVariable'>\n"
     ]
    }
   ],
   "source": [
    "A = T.matrix('A')\n",
    "print(A)\n",
    "print(type(A))"
   ]
  },
  {
   "cell_type": "code",
   "execution_count": 10,
   "metadata": {},
   "outputs": [
    {
     "name": "stdout",
     "output_type": "stream",
     "text": [
      "dot.0\n",
      "<class 'theano.tensor.var.TensorVariable'>\n"
     ]
    }
   ],
   "source": [
    "w = A.dot(v)\n",
    "print(w)\n",
    "print(type(w))"
   ]
  },
  {
   "cell_type": "code",
   "execution_count": 26,
   "metadata": {},
   "outputs": [
    {
     "name": "stdout",
     "output_type": "stream",
     "text": [
      "<theano.compile.function_module.Function object at 0x107e65e10>\n",
      "<class 'theano.compile.function_module.Function'>\n"
     ]
    }
   ],
   "source": [
    "matrix_times_vector = theano.function(inputs=[A, v], outputs=w)\n",
    "print(matrix_times_vector)\n",
    "print(type(matrix_times_vector))\n",
    "\n",
    "A_val = np.array([[1, 2], [3, 4]])\n",
    "v_val = np.array([5, 6])"
   ]
  },
  {
   "cell_type": "code",
   "execution_count": 19,
   "metadata": {},
   "outputs": [
    {
     "name": "stdout",
     "output_type": "stream",
     "text": [
      "[ 17.  39.]\n"
     ]
    }
   ],
   "source": [
    "w_val = matrix_times_vector(A_val, v_val)\n",
    "print(w_val)"
   ]
  },
  {
   "cell_type": "code",
   "execution_count": 21,
   "metadata": {},
   "outputs": [
    {
     "name": "stdout",
     "output_type": "stream",
     "text": [
      "x\n",
      "<class 'theano.tensor.sharedvar.ScalarSharedVariable'>\n"
     ]
    }
   ],
   "source": [
    "x = theano.shared(20.0, 'x')\n",
    "print(x)\n",
    "print(type(x))"
   ]
  },
  {
   "cell_type": "code",
   "execution_count": 22,
   "metadata": {},
   "outputs": [
    {
     "name": "stdout",
     "output_type": "stream",
     "text": [
      "Elemwise{add,no_inplace}.0\n",
      "<class 'theano.tensor.var.TensorVariable'>\n"
     ]
    }
   ],
   "source": [
    "cost = x*x + x + 1\n",
    "print(cost)\n",
    "print(type(cost))"
   ]
  },
  {
   "cell_type": "code",
   "execution_count": 27,
   "metadata": {},
   "outputs": [
    {
     "name": "stdout",
     "output_type": "stream",
     "text": [
      "Elemwise{sub,no_inplace}.0\n",
      "<class 'theano.tensor.var.TensorVariable'>\n"
     ]
    }
   ],
   "source": [
    "x_update = x - 0.3 * T.grad(cost, x)\n",
    "print(x_update)\n",
    "print(type(x_update))"
   ]
  },
  {
   "cell_type": "code",
   "execution_count": 25,
   "metadata": {},
   "outputs": [
    {
     "name": "stdout",
     "output_type": "stream",
     "text": [
      "<theano.compile.function_module.Function object at 0x107e65c50>\n",
      "<class 'theano.compile.function_module.Function'>\n",
      "0.75\n",
      "0.75\n",
      "0.7499999999999999\n",
      "0.75\n",
      "0.75\n",
      "0.75\n",
      "0.75\n",
      "0.75\n",
      "0.75\n",
      "0.75\n",
      "0.75\n",
      "0.75\n",
      "0.7500000000000001\n",
      "0.75\n",
      "0.75\n",
      "0.75\n",
      "0.7500000000000001\n",
      "0.75\n",
      "0.7500000000000001\n",
      "0.75\n",
      "0.75\n",
      "0.75\n",
      "0.75\n",
      "0.75\n",
      "0.75\n"
     ]
    }
   ],
   "source": [
    "train = theano.function(inputs=[], outputs=cost, updates=[(x, x_update)])\n",
    "print(train)\n",
    "print(type(train))\n",
    "\n",
    "for ep in range(25):\n",
    "    c = train()\n",
    "    print(c)\n",
    "    \n"
   ]
  },
  {
   "cell_type": "code",
   "execution_count": null,
   "metadata": {},
   "outputs": [],
   "source": []
  }
 ],
 "metadata": {
  "kernelspec": {
   "display_name": "Python 3",
   "language": "python",
   "name": "python3"
  },
  "language_info": {
   "codemirror_mode": {
    "name": "ipython",
    "version": 3
   },
   "file_extension": ".py",
   "mimetype": "text/x-python",
   "name": "python",
   "nbconvert_exporter": "python",
   "pygments_lexer": "ipython3",
   "version": "3.4.4"
  }
 },
 "nbformat": 4,
 "nbformat_minor": 2
}
