{
 "cells": [
  {
   "cell_type": "markdown",
   "metadata": {},
   "source": [
    "## Histogram"
   ]
  },
  {
   "cell_type": "markdown",
   "metadata": {},
   "source": [
    "[官方](https://github.com/tensorflow/tensorflow/tree/r1.2/tensorflow/tensorboard)对`Histogram`的解释:\n",
    "\n",
    "> The Histogram Dashboard displays how the statistical distribution of a Tensor has varied over time. \n",
    "\n",
    "> It visualizes data recorded via `tf.summary.histogram`. Each chart shows temporal \"slices\" of data, where each slice is a histogram of the tensor at a given step. \n",
    "\n",
    "> It's organized with the oldest timestep in the back, and the most recent timestep in front. \n",
    "\n",
    "> By changing the Histogram Mode from \"offset\" to \"overlay\", the perspective will rotate so that every histogram slice is rendered as a line and overlaid with one another."
   ]
  },
  {
   "cell_type": "markdown",
   "metadata": {},
   "source": [
    "Histogram给出两种显示模式：`OVERLAY`和`OFFSET`. 分别从不同的角度观察：随着训练步数的增加，参数值的频率分布的变化"
   ]
  },
  {
   "cell_type": "markdown",
   "metadata": {},
   "source": [
    "`OVERLAY`的含义是覆盖. 各轴含义如下：\n",
    "\n",
    "* 横轴：参数值\n",
    "* 纵轴：参数频数\n",
    "* 不同的线代表不同的训练步数。如果较晚的线与较早的线重合，就以覆盖方式画线。\n",
    "* 将鼠标停留在一个点上，会加黑显示三个数字，含义是：在step xxx1时，有xxx2个元素的值（约等于）xxx3。\n",
    "    * 下图显示了，在step 397时，有475个元素的值（约等于）0.00177"
   ]
  },
  {
   "cell_type": "markdown",
   "metadata": {},
   "source": [
    "<img src='tensorboard_images/histogram_overlay.png' style='height:500px; width:650px'>"
   ]
  },
  {
   "cell_type": "markdown",
   "metadata": {},
   "source": [
    "`OFFSET`模式, 各轴坐标含义：\n",
    "\n",
    "* 横轴：仍然是参数值\n",
    "* 纵轴：变成了训练步数\n",
    "* 参数频数要将鼠标停在图片才会显示\n",
    "* 下图同样显示了，在step 397时，有475个元素的值（约等于）0.00177"
   ]
  },
  {
   "cell_type": "markdown",
   "metadata": {},
   "source": [
    "<img src='tensorboard_images/histogram_offset.png' style='height:500px; width:650px'>"
   ]
  },
  {
   "cell_type": "markdown",
   "metadata": {},
   "source": [
    "## Distributions"
   ]
  },
  {
   "cell_type": "markdown",
   "metadata": {},
   "source": [
    "[官方](https://github.com/tensorflow/tensorflow/tree/r1.2/tensorflow/tensorboard)对`Histogram`的解释:\n",
    "\n",
    "> The Distribution Dashboard is another way of visualizing histogram data from `tf.summary.histogram`. \n",
    "\n",
    "> It shows some high-level statistics on a distribution. Each line on the chart represents a percentile in the distribution over the data: for example, the bottom line shows how the minimum value has changed over time, and the line in the middle shows how the median has changed. Reading from top to bottom, the lines have the following meaning: `[maximum, 93%, 84%, 69%, 50%, 31%, 16%, 7%, minimum]`\n",
    "\n",
    "> These percentiles can also be viewed as standard deviation boundaries on a normal distribution: `[maximum, μ+1.5σ, μ+σ, μ+0.5σ, μ, μ-0.5σ, μ-σ, μ-1.5σ, minimum]` so that the colored regions, read from inside to outside, have widths `[σ, 2σ, 3σ]` respectively.\n",
    "\n",
    "Distributions 是从另外一个角度对参数随训练步数的增加而变化的诠释，可以说是`多分位数折线图`的堆叠"
   ]
  },
  {
   "cell_type": "markdown",
   "metadata": {},
   "source": [
    "下图表示的是第一层bias的变化(红色为在训练数据集上的变化，蓝色为在在测试数据集上的变化)。横轴表示训练步数，纵轴表示从参数值。而从上到下的曲线分别表示参数值分布的不同分位数：\n",
    "* `[maximum, 93%, 84%, 69%, 50%, 31%, 16%, 7%, minimum]`\n",
    "\n",
    "举个例子：\n",
    "标注为93%的曲线在横坐标为1.00k时的含义是：在1000步时，93%的参数的值都在大约0.130以下。"
   ]
  },
  {
   "cell_type": "markdown",
   "metadata": {},
   "source": [
    "<img src='tensorboard_images/distributions.png' style='height:340px'>"
   ]
  },
  {
   "cell_type": "markdown",
   "metadata": {},
   "source": [
    "Distributions 图告诉我们：\n",
    "* 在某个训练步 x，有多少比例的参数的值是在某个值 y 以下的. \n",
    "    * 横轴(y)告诉我们训练步数\n",
    "    * 纵轴(x)告诉我们参数值\n",
    "    * 曲线告诉我们特定的百分比\n",
    "* 通过最大值，最小值，我们也能大概了解参数值的范围。"
   ]
  },
  {
   "cell_type": "markdown",
   "metadata": {},
   "source": [
    "## Reference\n",
    "\n",
    "1. [TensorBoard github readme](https://github.com/tensorflow/tensorflow/tree/r1.2/tensorflow/tensorboard)\n",
    "2. [TensorFlow or TensorBoard 理解 TensorBoard](https://blog.csdn.net/u010099080/article/details/77426577)\n",
    "3. [Tensorboard 直方图Summary使用指南](https://blog.csdn.net/weixin_35653315/article/details/72471312)\n",
    "4. [TensorBoard HistogramDashboard图文详解](https://www.2cto.com/net/201712/706932.html)\n",
    "5. [How does one interpret histograms given by TensorFlow in TensorBoard?](https://stats.stackexchange.com/questions/220491/how-does-one-interpret-histograms-given-by-tensorflow-in-tensorboard)\n",
    "6. [Understanding TensorBoard (weight) histograms](https://stackoverflow.com/questions/42315202/understanding-tensorboard-weight-histograms)\n"
   ]
  },
  {
   "cell_type": "code",
   "execution_count": null,
   "metadata": {},
   "outputs": [],
   "source": []
  }
 ],
 "metadata": {
  "kernelspec": {
   "display_name": "opencv",
   "language": "python",
   "name": "opencv"
  },
  "language_info": {
   "codemirror_mode": {
    "name": "ipython",
    "version": 3
   },
   "file_extension": ".py",
   "mimetype": "text/x-python",
   "name": "python",
   "nbconvert_exporter": "python",
   "pygments_lexer": "ipython3",
   "version": "3.6.5"
  }
 },
 "nbformat": 4,
 "nbformat_minor": 2
}
