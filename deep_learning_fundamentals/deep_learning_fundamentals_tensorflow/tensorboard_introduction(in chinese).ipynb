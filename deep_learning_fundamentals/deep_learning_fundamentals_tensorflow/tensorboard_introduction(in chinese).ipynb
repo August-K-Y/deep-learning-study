{
 "cells": [
  {
   "cell_type": "markdown",
   "metadata": {},
   "source": [
    "# Tensorflow的可视化工具Tensorboard的初步使用"
   ]
  },
  {
   "cell_type": "markdown",
   "metadata": {},
   "source": [
    "当使用Tensorflow训练大量深层的神经网络时，我们希望去跟踪神经网络的整个训练过程中的信息，比如迭代的过程中每一层参数是如何变化与分布的，比如每次循环参数更新后模型在测试集与训练集上的准确率是如何的，比如损失值的变化情况，等等。如果能在训练的过程中将一些信息加以记录并可视化得表现出来，是不是对我们探索模型有更深的帮助与理解呢？\n",
    "\n",
    "Tensorflow官方推出了可视化工具Tensorboard，可以帮助我们实现以上功能，它可以将模型训练过程中的各种数据汇总起来存在自定义的路径与日志文件中，然后在指定的web端可视化地展现这些信息。"
   ]
  },
  {
   "cell_type": "markdown",
   "metadata": {},
   "source": [
    "## 1. Tensorboard介绍"
   ]
  },
  {
   "cell_type": "markdown",
   "metadata": {},
   "source": [
    "### 1.1 Tensorboard的数据形式"
   ]
  },
  {
   "cell_type": "markdown",
   "metadata": {},
   "source": [
    "Tensorboard可以记录与展示以下数据形式： \n",
    "* 标量Scalars \n",
    "* 图片Images \n",
    "* 音频Audio \n",
    "* 计算图Graph \n",
    "* 数据分布Distribution \n",
    "* 直方图Histograms \n",
    "* 嵌入向量Embeddings"
   ]
  },
  {
   "cell_type": "markdown",
   "metadata": {},
   "source": [
    "### 1.2 Tensorboard的可视化过程\n",
    "\n",
    "1. 首先肯定是先建立一个graph,你想从这个graph中获取某些数据的信息\n",
    "2. 确定要在graph中的哪些节点放置summary operations以记录信息 \n",
    "    * 使用tf.summary.scalar记录标量 \n",
    "    * 使用tf.summary.histogram记录数据的直方图 \n",
    "    * 使用tf.summary.distribution记录数据的分布图 \n",
    "    * 使用tf.summary.image记录图像数据 \n",
    "3. 以上summary operations并不会主动去执行计算，除非你命令执行这些summary operations计算(通过session.run()), 或者它被其他的需要run的operation所依赖。而我们上一步创建的这些summary operations其实并不被其他节点依赖，因此，我们需要特地去运行所有的summary节点。但是，我们通常会设置很多这样的summary节点，要手动一个一个去启动自然是及其繁琐的，因此我们可以使用tf.summary.merge_all去将所有summary节点合并成一个节点，只要运行这个节点，就能产生所有我们之前设置的summary data。\n",
    "4. 使用tf.summary.FileWriter将运行后输出的数据都保存到本地磁盘中\n",
    "5. 在命令行输入运行tensorboard的指令，之后打开web端可查看可视化的结果"
   ]
  },
  {
   "cell_type": "markdown",
   "metadata": {},
   "source": [
    "## 2. Tensorboard使用案例\n",
    "\n",
    "我们使用最基础的识别手写字体的案例. 本案例中，我们不追求最优的模型，只是建立一个简单的神经网络，让大家了解如何使用Tensorboard。"
   ]
  },
  {
   "cell_type": "markdown",
   "metadata": {},
   "source": [
    "### 2.1 导入包，定义超参数，载入数据\n",
    "\n",
    "\n",
    "2.1.1. 首先还是导入需要的包："
   ]
  },
  {
   "cell_type": "code",
   "execution_count": 5,
   "metadata": {},
   "outputs": [],
   "source": [
    "from __future__ import absolute_import\n",
    "from __future__ import division\n",
    "from __future__ import print_function\n",
    "\n",
    "import argparse\n",
    "import sys\n",
    "\n",
    "import tensorflow as tf\n",
    "\n",
    "from tensorflow.examples.tutorials.mnist import input_data"
   ]
  },
  {
   "cell_type": "markdown",
   "metadata": {},
   "source": [
    "2.1.2 定义固定的超参数,方便待使用时直接传入。\n",
    "\n",
    "在这里我们不讨论如何选择超参数，而假设我们已经获得了最优的超参数，其中设置\n",
    "* learning rate为0.001，\n",
    "* dropout的保留节点比例为0.9，\n",
    "* epoch为1000.\n",
    "\n",
    "另外，还要设置两个路径，第一个是数据下载下来存放的地方，一个是summary输出保存的地方。"
   ]
  },
  {
   "cell_type": "code",
   "execution_count": 6,
   "metadata": {},
   "outputs": [],
   "source": [
    "max_step = 1000  # 最大迭代次数\n",
    "learning_rate = 0.001   # 学习率\n",
    "dropout = 0.9   # dropout时随机保留神经元的比例\n",
    "\n",
    "data_dir = 'tensorboard/data'   # 样本数据存储的路径\n",
    "log_dir = 'tensorboard'    # 输出日志保存的路径"
   ]
  },
  {
   "cell_type": "markdown",
   "metadata": {},
   "source": [
    "2.1.3 加载数据\n",
    "\n",
    "下载数据是直接调用了tensorflow提供的函数read_data_sets,输入两个参数，第一个是下载到数据存储的路径，第二个one_hot表示是否要将类别标签进行独热编码。它首先回去找制定目录下有没有这个数据文件，没有的话才去下载，有的话就直接读取。所以第一次执行这个命令，速度会比较慢。"
   ]
  },
  {
   "cell_type": "code",
   "execution_count": 7,
   "metadata": {},
   "outputs": [
    {
     "name": "stdout",
     "output_type": "stream",
     "text": [
      "WARNING:tensorflow:From /Users/yankang/anaconda/envs/opencv/lib/python3.6/site-packages/tensorflow/contrib/learn/python/learn/datasets/mnist.py:262: extract_images (from tensorflow.contrib.learn.python.learn.datasets.mnist) is deprecated and will be removed in a future version.\n",
      "Instructions for updating:\n",
      "Please use tf.data to implement this functionality.\n",
      "Extracting tensorboard/data/train-images-idx3-ubyte.gz\n",
      "WARNING:tensorflow:From /Users/yankang/anaconda/envs/opencv/lib/python3.6/site-packages/tensorflow/contrib/learn/python/learn/datasets/mnist.py:267: extract_labels (from tensorflow.contrib.learn.python.learn.datasets.mnist) is deprecated and will be removed in a future version.\n",
      "Instructions for updating:\n",
      "Please use tf.data to implement this functionality.\n",
      "Extracting tensorboard/data/train-labels-idx1-ubyte.gz\n",
      "WARNING:tensorflow:From /Users/yankang/anaconda/envs/opencv/lib/python3.6/site-packages/tensorflow/contrib/learn/python/learn/datasets/mnist.py:110: dense_to_one_hot (from tensorflow.contrib.learn.python.learn.datasets.mnist) is deprecated and will be removed in a future version.\n",
      "Instructions for updating:\n",
      "Please use tf.one_hot on tensors.\n",
      "Extracting tensorboard/data/t10k-images-idx3-ubyte.gz\n",
      "Extracting tensorboard/data/t10k-labels-idx1-ubyte.gz\n",
      "WARNING:tensorflow:From /Users/yankang/anaconda/envs/opencv/lib/python3.6/site-packages/tensorflow/contrib/learn/python/learn/datasets/mnist.py:290: DataSet.__init__ (from tensorflow.contrib.learn.python.learn.datasets.mnist) is deprecated and will be removed in a future version.\n",
      "Instructions for updating:\n",
      "Please use alternatives such as official/mnist/dataset.py from tensorflow/models.\n"
     ]
    }
   ],
   "source": [
    "mnist = input_data.read_data_sets(data_dir,one_hot=True)"
   ]
  },
  {
   "cell_type": "markdown",
   "metadata": {},
   "source": [
    "### 2.2 创建特征与标签的占位符，保存输入的图片数据到summary"
   ]
  },
  {
   "cell_type": "markdown",
   "metadata": {},
   "source": [
    "2.2.1 创建tensorflow的默认会话："
   ]
  },
  {
   "cell_type": "code",
   "execution_count": 8,
   "metadata": {},
   "outputs": [],
   "source": [
    "tf.reset_default_graph()"
   ]
  },
  {
   "cell_type": "markdown",
   "metadata": {},
   "source": [
    "2.2.2 创建输入数据的占位符，分别创建特征数据x，标签数据y_ \n",
    "\n",
    "在tf.placeholder()函数中传入了3个参数，第一个是定义数据类型为float32；第二个是数据的shape. 特征数据是大小784的向量，标签数据是大小为10的向量，None表示不定死大小，到时候可以传入任何数量的样本；第3个参数是这个占位符的名称。"
   ]
  },
  {
   "cell_type": "code",
   "execution_count": 9,
   "metadata": {},
   "outputs": [],
   "source": [
    "with tf.name_scope('input'):\n",
    "    x = tf.placeholder(tf.float32, [None, 784], name='x-input')\n",
    "    y_ = tf.placeholder(tf.float32, [None, 10], name='y-input')"
   ]
  },
  {
   "cell_type": "markdown",
   "metadata": {},
   "source": [
    "2.2.3 使用tf.summary.image保存图像信息 \n",
    "\n",
    "特征数据其实就是图像的像素数据拉升成(flatten)一个`[1x784]`的向量，现在如果想在tensorboard上还原出输入的特征数据对应的图片，就需要将拉升的向量转变成`[28x28x1]`的原始像素了，于是可以用tf.reshape()直接重新调整特征数据的维度, 将输入的数据转换成`[28x28x1]`的shape，存储成另一个tensor，命名为image_shaped_input。 \n",
    "\n",
    "为了能使图片在tensorbord上展示出来, 使用`tf.summary.image()`函数将图片数据汇总给tensorbord. tf.summary.image()中传入的第一个参数是命名，第二个是图片数据，第三个是最多展示的张数，此处为10张"
   ]
  },
  {
   "cell_type": "code",
   "execution_count": 10,
   "metadata": {},
   "outputs": [],
   "source": [
    "with tf.name_scope('input_reshape'):\n",
    "    image_shaped_input = tf.reshape(x, [-1, 28, 28, 1])\n",
    "    tf.summary.image('input', image_shaped_input, 10)"
   ]
  },
  {
   "cell_type": "markdown",
   "metadata": {},
   "source": [
    "### 2.3 创建初始化参数的方法，与参数信息汇总到summary的方法"
   ]
  },
  {
   "cell_type": "markdown",
   "metadata": {},
   "source": [
    "2.3.1 在构建神经网络模型中，每一层中都需要去初始化参数w,b, 为了使代码方便管理，最好将初始化参数的过程封装成方法function. 创建初始化权重w的方法，生成大小等于传入的shape参数，标准差为0.1,正态分布的随机数，并且将它转换成tensorflow中的variable返回。"
   ]
  },
  {
   "cell_type": "code",
   "execution_count": 11,
   "metadata": {},
   "outputs": [],
   "source": [
    "def weight_variable(shape):\n",
    "    \"\"\"Create a weight variable with appropriate initialization.\"\"\"\n",
    "    initial = tf.truncated_normal(shape, stddev=0.1)\n",
    "    return tf.Variable(initial)"
   ]
  },
  {
   "cell_type": "markdown",
   "metadata": {},
   "source": [
    "创建初始换偏执项b的方法，生成大小为传入参数shape的常数0.1，并将其转换成tensorflow的variable并返回"
   ]
  },
  {
   "cell_type": "code",
   "execution_count": 12,
   "metadata": {},
   "outputs": [],
   "source": [
    "def bias_variable(shape):\n",
    "    \"\"\"Create a bias variable with appropriate initialization.\"\"\"\n",
    "    initial = tf.constant(0.1, shape=shape)\n",
    "    return tf.Variable(initial)"
   ]
  },
  {
   "cell_type": "markdown",
   "metadata": {},
   "source": [
    "2.3.2 在训练的过程在参数是不断地在改变和优化的，我们往往想知道每次迭代后参数都做了哪些变化，可以将参数的信息展现在tenorbord上，因此我们专门写一个方法来收录每次的参数信息。"
   ]
  },
  {
   "cell_type": "code",
   "execution_count": 13,
   "metadata": {},
   "outputs": [],
   "source": [
    "def variable_summaries(var):\n",
    "    \"\"\"Attach a lot of summaries to a Tensor (for TensorBoard visualization).\"\"\"\n",
    "    with tf.name_scope('summaries'):\n",
    "        # 计算参数的均值，并使用tf.summary.scaler记录\n",
    "        mean = tf.reduce_mean(var)\n",
    "        tf.summary.scalar('mean', mean)\n",
    "\n",
    "        # 计算参数的标准差\n",
    "        with tf.name_scope('stddev'):\n",
    "            stddev = tf.sqrt(tf.reduce_mean(tf.square(var - mean)))\n",
    "            # 使用tf.summary.scaler记录记录下标准差，最大值，最小值\n",
    "            tf.summary.scalar('stddev', stddev)\n",
    "            tf.summary.scalar('max', tf.reduce_max(var))\n",
    "            tf.summary.scalar('min', tf.reduce_min(var))\n",
    "            # 用直方图记录参数的分布\n",
    "            tf.summary.histogram('histogram', var)"
   ]
  },
  {
   "cell_type": "markdown",
   "metadata": {},
   "source": [
    "### 2.4 构建神经网络层"
   ]
  },
  {
   "cell_type": "markdown",
   "metadata": {},
   "source": [
    "2.4.1 创建第一层隐藏层 \n",
    "\n",
    "创建一个构建隐藏层的方法,输入的参数有： \n",
    "* `input_tensor`：特征数据 \n",
    "* `input_dim`：输入数据的维度大小 \n",
    "* `output_dim`：输出数据的维度大小(=隐层神经元个数） \n",
    "* `layer_name`：命名空间 \n",
    "* `act=tf.nn.relu`：激活函数（默认是relu)"
   ]
  },
  {
   "cell_type": "code",
   "execution_count": 14,
   "metadata": {},
   "outputs": [],
   "source": [
    "def nn_layer(input_tensor, input_dim, output_dim, layer_name, act=tf.nn.relu):\n",
    "    \"\"\"Reusable code for making a simple neural net layer.\n",
    "    It does a matrix multiply, bias add, and then uses relu to nonlinearize.\n",
    "    It also sets up name scoping so that the resultant graph is easy to read,\n",
    "    and adds a number of summary ops.\n",
    "    \"\"\"\n",
    "    # 设置命名空间\n",
    "    with tf.name_scope(layer_name):\n",
    "        # 调用之前的方法初始化权重w，并且调用参数信息的记录方法，记录w的信息\n",
    "        with tf.name_scope('weights'):\n",
    "            weights = weight_variable([input_dim, output_dim])\n",
    "            variable_summaries(weights)\n",
    "        # 调用之前的方法初始化权重b，并且调用参数信息的记录方法，记录b的信息\n",
    "        with tf.name_scope('biases'):\n",
    "            biases = bias_variable([output_dim])\n",
    "            variable_summaries(biases)\n",
    "        # 执行wx+b的线性计算，并且用直方图记录下来\n",
    "        with tf.name_scope('linear_compute'):\n",
    "            preactivate = tf.matmul(input_tensor, weights) + biases\n",
    "            tf.summary.histogram('linear', preactivate)\n",
    "        # 将线性输出经过激励函数，并将输出也用直方图记录下来\n",
    "        activations = act(preactivate, name='activation')\n",
    "        tf.summary.histogram('activations', activations)\n",
    "\n",
    "      # 返回激励层的最终输出\n",
    "    return activations"
   ]
  },
  {
   "cell_type": "markdown",
   "metadata": {},
   "source": [
    "调用隐层创建函数创建一个隐藏层：输入的维度是特征的维度784，神经元个数是500，也就是输出的维度。"
   ]
  },
  {
   "cell_type": "code",
   "execution_count": 15,
   "metadata": {},
   "outputs": [],
   "source": [
    "hidden1 = nn_layer(x, 784, 500, 'layer1')"
   ]
  },
  {
   "cell_type": "markdown",
   "metadata": {},
   "source": [
    "2.4.2 创建一个dropout层，,随机关闭掉hidden1的一些神经元，并记录keep_prob"
   ]
  },
  {
   "cell_type": "code",
   "execution_count": 16,
   "metadata": {},
   "outputs": [],
   "source": [
    "with tf.name_scope('dropout'):\n",
    "    keep_prob = tf.placeholder(tf.float32)\n",
    "    tf.summary.scalar('dropout_keep_probability', keep_prob)\n",
    "    dropped = tf.nn.dropout(hidden1, keep_prob)"
   ]
  },
  {
   "cell_type": "markdown",
   "metadata": {},
   "source": [
    "2.4.3 创建一个输出层，输入的维度是上一层的输出：500,输出的维度是分类的类别种类：10，激活函数设置为全等映射identity.（暂且先别使用softmax,会放在之后的损失函数中一起计算）"
   ]
  },
  {
   "cell_type": "code",
   "execution_count": 17,
   "metadata": {},
   "outputs": [],
   "source": [
    "y = nn_layer(dropped, 500, 10, 'layer2', act=tf.identity)"
   ]
  },
  {
   "cell_type": "markdown",
   "metadata": {},
   "source": [
    "### 2.5 创建损失函数"
   ]
  },
  {
   "cell_type": "markdown",
   "metadata": {},
   "source": [
    "使用`tf.nn.softmax_cross_entropy_with_logits`来计算softmax并计算交叉熵损失,并且求均值作为最终的损失值。"
   ]
  },
  {
   "cell_type": "code",
   "execution_count": 18,
   "metadata": {},
   "outputs": [
    {
     "name": "stdout",
     "output_type": "stream",
     "text": [
      "WARNING:tensorflow:From <ipython-input-18-372745cba610>:3: softmax_cross_entropy_with_logits (from tensorflow.python.ops.nn_ops) is deprecated and will be removed in a future version.\n",
      "Instructions for updating:\n",
      "\n",
      "Future major versions of TensorFlow will allow gradients to flow\n",
      "into the labels input on backprop by default.\n",
      "\n",
      "See @{tf.nn.softmax_cross_entropy_with_logits_v2}.\n",
      "\n"
     ]
    },
    {
     "data": {
      "text/plain": [
       "<tf.Tensor 'loss_1:0' shape=() dtype=string>"
      ]
     },
     "execution_count": 18,
     "metadata": {},
     "output_type": "execute_result"
    }
   ],
   "source": [
    "with tf.name_scope('loss'):\n",
    "    # 计算交叉熵损失（每个样本都会有一个损失）\n",
    "    diff = tf.nn.softmax_cross_entropy_with_logits(labels=y_, logits=y)\n",
    "    with tf.name_scope('total'):\n",
    "      # 计算所有样本交叉熵损失的均值\n",
    "      cross_entropy = tf.reduce_mean(diff)\n",
    "\n",
    "tf.summary.scalar('loss', cross_entropy)"
   ]
  },
  {
   "cell_type": "markdown",
   "metadata": {},
   "source": [
    "### 2.6 训练，并计算准确率"
   ]
  },
  {
   "cell_type": "markdown",
   "metadata": {},
   "source": [
    "2.6.1 使用AdamOptimizer优化器训练模型，最小化交叉熵损失"
   ]
  },
  {
   "cell_type": "code",
   "execution_count": 19,
   "metadata": {},
   "outputs": [],
   "source": [
    "with tf.name_scope('train'):\n",
    "    train_step = tf.train.AdamOptimizer(learning_rate).minimize(cross_entropy)"
   ]
  },
  {
   "cell_type": "markdown",
   "metadata": {},
   "source": [
    "2.6.2 计算准确率,并用`tf.summary.scalar()`记录准确率"
   ]
  },
  {
   "cell_type": "code",
   "execution_count": 20,
   "metadata": {},
   "outputs": [
    {
     "data": {
      "text/plain": [
       "<tf.Tensor 'accuracy_1:0' shape=() dtype=string>"
      ]
     },
     "execution_count": 20,
     "metadata": {},
     "output_type": "execute_result"
    }
   ],
   "source": [
    "with tf.name_scope('accuracy'):\n",
    "    with tf.name_scope('correct_prediction'):\n",
    "      # 分别将预测和真实的标签中取出最大值的索引，弱相同则返回1(true),不同则返回0(false)\n",
    "        correct_prediction = tf.equal(tf.argmax(y, 1), tf.argmax(y_, 1))\n",
    "    with tf.name_scope('accuracy'):\n",
    "      # 求均值即为准确率\n",
    "        accuracy = tf.reduce_mean(tf.cast(correct_prediction, tf.float32))\n",
    "\n",
    "tf.summary.scalar('accuracy', accuracy)"
   ]
  },
  {
   "cell_type": "markdown",
   "metadata": {},
   "source": [
    "### 2.7 合并summary operation, 运行初始化变量\n",
    "\n",
    "将所有的summaries合并，并且将它们写到之前定义的log_dir路径"
   ]
  },
  {
   "cell_type": "code",
   "execution_count": 22,
   "metadata": {},
   "outputs": [],
   "source": [
    "# summaries合并\n",
    "merged = tf.summary.merge_all()"
   ]
  },
  {
   "cell_type": "markdown",
   "metadata": {},
   "source": [
    "### 2.8 准备训练数据与测试数据，循环执行整个graph进行训练与评估"
   ]
  },
  {
   "cell_type": "markdown",
   "metadata": {},
   "source": [
    "2.8.1 准备为训练与测试的输入数据. \n",
    "\n",
    "* 如果是`train==true`，就从mnist.train中获取一个batch样本，并且设置dropout值。\n",
    "* 如果是`train==false`,则获取minist.test的测试数据，并且设置keep_prob为1，即保留所有神经元开启。"
   ]
  },
  {
   "cell_type": "code",
   "execution_count": 23,
   "metadata": {},
   "outputs": [],
   "source": [
    "def feed_dict(train):\n",
    "    \"\"\"Make a TensorFlow feed_dict: maps data onto Tensor placeholders.\"\"\"\n",
    "    if train:\n",
    "        xs, ys = mnist.train.next_batch(100)\n",
    "        k = dropout\n",
    "    else:\n",
    "        xs, ys = mnist.test.images, mnist.test.labels\n",
    "        k = 1.0\n",
    "    return {x: xs, y_: ys, keep_prob: k}"
   ]
  },
  {
   "cell_type": "markdown",
   "metadata": {},
   "source": [
    "2.8.2 训练模型\n",
    "\n",
    "* 每隔10步，就进行一次summary merge, 并打印一次测试数据集的准确率(accuracy)，然后将测试数据集的各种summary信息写进日志中。 \n",
    "* 每隔100步，记录原信息其他每一步时都记录下训练集的summary信息并写到日志中。"
   ]
  },
  {
   "cell_type": "code",
   "execution_count": 26,
   "metadata": {},
   "outputs": [
    {
     "name": "stdout",
     "output_type": "stream",
     "text": [
      "Accuracy at step 0: 0.1311\n",
      "Accuracy at step 10: 0.6706\n",
      "Accuracy at step 20: 0.8277\n",
      "Accuracy at step 30: 0.8661\n",
      "Accuracy at step 40: 0.881\n",
      "Accuracy at step 50: 0.8922\n",
      "Accuracy at step 60: 0.9001\n",
      "Accuracy at step 70: 0.9055\n",
      "Accuracy at step 80: 0.9045\n",
      "Accuracy at step 90: 0.9149\n",
      "Adding run metadata for 99\n",
      "Accuracy at step 100: 0.921\n",
      "Accuracy at step 110: 0.9205\n",
      "Accuracy at step 120: 0.9254\n",
      "Accuracy at step 130: 0.9244\n",
      "Accuracy at step 140: 0.9284\n",
      "Accuracy at step 150: 0.9278\n",
      "Accuracy at step 160: 0.9273\n",
      "Accuracy at step 170: 0.9327\n",
      "Accuracy at step 180: 0.935\n",
      "Accuracy at step 190: 0.9363\n",
      "Adding run metadata for 199\n",
      "Accuracy at step 200: 0.9354\n",
      "Accuracy at step 210: 0.9374\n",
      "Accuracy at step 220: 0.934\n",
      "Accuracy at step 230: 0.9358\n",
      "Accuracy at step 240: 0.9359\n",
      "Accuracy at step 250: 0.9387\n",
      "Accuracy at step 260: 0.942\n",
      "Accuracy at step 270: 0.9427\n",
      "Accuracy at step 280: 0.9433\n",
      "Accuracy at step 290: 0.9451\n",
      "Adding run metadata for 299\n",
      "Accuracy at step 300: 0.9455\n",
      "Accuracy at step 310: 0.9459\n",
      "Accuracy at step 320: 0.9475\n",
      "Accuracy at step 330: 0.9487\n",
      "Accuracy at step 340: 0.9492\n",
      "Accuracy at step 350: 0.9485\n",
      "Accuracy at step 360: 0.9485\n",
      "Accuracy at step 370: 0.951\n",
      "Accuracy at step 380: 0.9507\n",
      "Accuracy at step 390: 0.9507\n",
      "Adding run metadata for 399\n",
      "Accuracy at step 400: 0.9508\n",
      "Accuracy at step 410: 0.9506\n",
      "Accuracy at step 420: 0.9509\n",
      "Accuracy at step 430: 0.9517\n",
      "Accuracy at step 440: 0.9526\n",
      "Accuracy at step 450: 0.9546\n",
      "Accuracy at step 460: 0.9561\n",
      "Accuracy at step 470: 0.957\n",
      "Accuracy at step 480: 0.9579\n",
      "Accuracy at step 490: 0.9574\n",
      "Adding run metadata for 499\n",
      "Accuracy at step 500: 0.9584\n",
      "Accuracy at step 510: 0.9582\n",
      "Accuracy at step 520: 0.9589\n",
      "Accuracy at step 530: 0.9578\n",
      "Accuracy at step 540: 0.9584\n",
      "Accuracy at step 550: 0.9567\n",
      "Accuracy at step 560: 0.9604\n",
      "Accuracy at step 570: 0.9606\n",
      "Accuracy at step 580: 0.9615\n",
      "Accuracy at step 590: 0.9614\n",
      "Adding run metadata for 599\n",
      "Accuracy at step 600: 0.962\n",
      "Accuracy at step 610: 0.9615\n",
      "Accuracy at step 620: 0.9587\n",
      "Accuracy at step 630: 0.9585\n",
      "Accuracy at step 640: 0.9586\n",
      "Accuracy at step 650: 0.9626\n",
      "Accuracy at step 660: 0.9617\n",
      "Accuracy at step 670: 0.958\n",
      "Accuracy at step 680: 0.9615\n",
      "Accuracy at step 690: 0.9634\n",
      "Adding run metadata for 699\n",
      "Accuracy at step 700: 0.962\n",
      "Accuracy at step 710: 0.9619\n",
      "Accuracy at step 720: 0.9641\n",
      "Accuracy at step 730: 0.9643\n",
      "Accuracy at step 740: 0.9617\n",
      "Accuracy at step 750: 0.9638\n",
      "Accuracy at step 760: 0.9659\n",
      "Accuracy at step 770: 0.9637\n",
      "Accuracy at step 780: 0.9598\n",
      "Accuracy at step 790: 0.9636\n",
      "Adding run metadata for 799\n",
      "Accuracy at step 800: 0.9639\n",
      "Accuracy at step 810: 0.9656\n",
      "Accuracy at step 820: 0.9637\n",
      "Accuracy at step 830: 0.9667\n",
      "Accuracy at step 840: 0.9674\n",
      "Accuracy at step 850: 0.9691\n",
      "Accuracy at step 860: 0.9641\n",
      "Accuracy at step 870: 0.968\n",
      "Accuracy at step 880: 0.9681\n",
      "Accuracy at step 890: 0.9681\n",
      "Adding run metadata for 899\n",
      "Accuracy at step 900: 0.9678\n",
      "Accuracy at step 910: 0.9681\n",
      "Accuracy at step 920: 0.9681\n",
      "Accuracy at step 930: 0.9679\n",
      "Accuracy at step 940: 0.97\n",
      "Accuracy at step 950: 0.967\n",
      "Accuracy at step 960: 0.9665\n",
      "Accuracy at step 970: 0.9686\n",
      "Accuracy at step 980: 0.9711\n",
      "Accuracy at step 990: 0.966\n",
      "Adding run metadata for 999\n"
     ]
    }
   ],
   "source": [
    "# 运行初始化所有变量\n",
    "with tf.Session() as sess:\n",
    "    sess.run(tf.global_variables_initializer())\n",
    "    # 写到指定的磁盘路径中\n",
    "    train_writer = tf.summary.FileWriter(log_dir + '/train', sess.graph)\n",
    "    test_writer = tf.summary.FileWriter(log_dir + '/test')\n",
    "\n",
    "    for i in range(max_step):\n",
    "        if i % 10 == 0:  # 记录测试集的summary与accuracy\n",
    "            summary, acc = sess.run([merged, accuracy], feed_dict=feed_dict(False))\n",
    "            test_writer.add_summary(summary, i)\n",
    "            print('Accuracy at step %s: %s' % (i, acc))\n",
    "        else:  # 记录训练集的summary\n",
    "            if i % 100 == 99:  # Record execution stats\n",
    "                run_options = tf.RunOptions(trace_level=tf.RunOptions.FULL_TRACE)\n",
    "                run_metadata = tf.RunMetadata()\n",
    "                summary, _ = sess.run([merged, train_step],\n",
    "                                  feed_dict=feed_dict(True),\n",
    "                                  options=run_options,\n",
    "                                  run_metadata=run_metadata)\n",
    "                train_writer.add_run_metadata(run_metadata, 'step%03d' % i)\n",
    "                train_writer.add_summary(summary, i)\n",
    "                print('Adding run metadata for', i)\n",
    "            else:  # Record a summary\n",
    "                summary, _ = sess.run([merged, train_step], feed_dict=feed_dict(True))\n",
    "                train_writer.add_summary(summary, i)\n",
    "    train_writer.close()\n",
    "    test_writer.close()"
   ]
  },
  {
   "cell_type": "code",
   "execution_count": null,
   "metadata": {},
   "outputs": [],
   "source": []
  }
 ],
 "metadata": {
  "kernelspec": {
   "display_name": "opencv",
   "language": "python",
   "name": "opencv"
  },
  "language_info": {
   "codemirror_mode": {
    "name": "ipython",
    "version": 3
   },
   "file_extension": ".py",
   "mimetype": "text/x-python",
   "name": "python",
   "nbconvert_exporter": "python",
   "pygments_lexer": "ipython3",
   "version": "3.6.5"
  }
 },
 "nbformat": 4,
 "nbformat_minor": 2
}
