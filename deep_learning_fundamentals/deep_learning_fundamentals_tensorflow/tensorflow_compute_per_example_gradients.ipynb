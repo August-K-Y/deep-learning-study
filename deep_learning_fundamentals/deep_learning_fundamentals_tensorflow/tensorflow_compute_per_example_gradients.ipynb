{
 "cells": [
  {
   "cell_type": "code",
   "execution_count": 3,
   "metadata": {},
   "outputs": [
    {
     "name": "stdout",
     "output_type": "stream",
     "text": [
      "1.8.0\n"
     ]
    }
   ],
   "source": [
    "import numpy as np\n",
    "import tensorflow as tf\n",
    "print(tf.__version__)"
   ]
  },
  {
   "cell_type": "markdown",
   "metadata": {},
   "source": [
    "### https://www.tensorflow.org/api_docs/python/tf/split"
   ]
  },
  {
   "cell_type": "code",
   "execution_count": null,
   "metadata": {},
   "outputs": [],
   "source": []
  },
  {
   "cell_type": "code",
   "execution_count": 41,
   "metadata": {},
   "outputs": [],
   "source": []
  },
  {
   "cell_type": "code",
   "execution_count": 5,
   "metadata": {},
   "outputs": [
    {
     "name": "stdout",
     "output_type": "stream",
     "text": [
      "(4, 3)\n",
      "[[0.1 0.2 0.3]\n",
      " [0.4 0.5 0.6]\n",
      " [0.7 0.8 0.9]\n",
      " [0.1 0.2 0.3]]\n"
     ]
    }
   ],
   "source": [
    "data = np.array([[0.1, 0.2, 0.3], \n",
    "                 [0.4, 0.5, 0.6], \n",
    "                 [0.7, 0.8, 0.9], \n",
    "                 [0.1, 0.2, 0.3]])\n",
    "print(data.shape)\n",
    "print(data)"
   ]
  },
  {
   "cell_type": "code",
   "execution_count": 6,
   "metadata": {},
   "outputs": [],
   "source": [
    "W_init = np.array([[1, 2, 1],\n",
    "                   [3, 4, 3], \n",
    "                   [2, 1, 2]], dtype=float)\n",
    "b_init = np.array([2,3], dtype=float)"
   ]
  },
  {
   "cell_type": "code",
   "execution_count": 7,
   "metadata": {},
   "outputs": [],
   "source": [
    "W = tf.Variable(W_init, dtype=tf.float32)"
   ]
  },
  {
   "cell_type": "code",
   "execution_count": 48,
   "metadata": {},
   "outputs": [
    {
     "name": "stdout",
     "output_type": "stream",
     "text": [
      "output 0 [[0.785835 0.785835 0.785835]]\n",
      "grad 0 [array([[0.01682983, 0.01682983, 0.01682983],\n",
      "       [0.03365967, 0.03365967, 0.03365967],\n",
      "       [0.0504895 , 0.0504895 , 0.0504895 ]], dtype=float32)]\n",
      "output 1 [[0.9568927 0.9677046 0.9568927]]\n",
      "grad 1 [array([[0.01649961, 0.01250097, 0.01649961],\n",
      "       [0.02062452, 0.01562621, 0.02062452],\n",
      "       [0.02474942, 0.01875145, 0.02474942]], dtype=float32)]\n",
      "output 2 [[0.9926085 0.9959299 0.9926085]]\n",
      "grad 2 [array([[0.00513581, 0.00283748, 0.00513581],\n",
      "       [0.0058695 , 0.00324283, 0.0058695 ],\n",
      "       [0.00660319, 0.00364818, 0.00660319]], dtype=float32)]\n",
      "output 3 [[0.785835 0.785835 0.785835]]\n",
      "grad 3 [array([[0.01682983, 0.01682983, 0.01682983],\n",
      "       [0.03365967, 0.03365967, 0.03365967],\n",
      "       [0.0504895 , 0.0504895 , 0.0504895 ]], dtype=float32)]\n"
     ]
    }
   ],
   "source": [
    "X_i = tf.placeholder(tf.float32, [None, 3], name=\"x\")\n",
    "output_i = tf.sigmoid(tf.matmul(X_i, W))\n",
    "grad_i = tf.gradients(output_i, W)\n",
    "\n",
    "sess = tf.Session()\n",
    "with sess.graph.as_default():\n",
    "    sess.run(tf.global_variables_initializer())\n",
    "\n",
    "    for i in range(len(data)):\n",
    "#         print(data[i])\n",
    "        x = data[i].reshape(1, len(data[i]))\n",
    "#         print(x)\n",
    "#         print(\"x shape\", x.shape)\n",
    "        output_i_val, grad_i_val = sess.run([output_i, grad_i], feed_dict={X_i: x})\n",
    "        print(\"output\", i, output_i_val)\n",
    "        print(\"grad\", i, grad_i_val)"
   ]
  },
  {
   "cell_type": "code",
   "execution_count": null,
   "metadata": {},
   "outputs": [],
   "source": []
  },
  {
   "cell_type": "code",
   "execution_count": null,
   "metadata": {},
   "outputs": [],
   "source": []
  },
  {
   "cell_type": "code",
   "execution_count": 76,
   "metadata": {},
   "outputs": [
    {
     "name": "stdout",
     "output_type": "stream",
     "text": [
      "output.shape: (?, 3)\n",
      "output_val [[0.785835  0.785835  0.785835 ]\n",
      " [0.9568927 0.9677046 0.9568927]\n",
      " [0.9926085 0.9959299 0.9926085]\n",
      " [0.785835  0.785835  0.785835 ]]\n",
      "grad_val [array([[0.0552951 , 0.04899811, 0.0552951 ],\n",
      "       [0.09381335, 0.08618837, 0.09381335],\n",
      "       [0.13233162, 0.12337865, 0.13233162]], dtype=float32)]\n"
     ]
    }
   ],
   "source": [
    "X = tf.placeholder(tf.float32, [None, 3], name=\"x\")\n",
    "output = tf.sigmoid(tf.matmul(X, W))\n",
    "print(\"output.shape:\", output.shape)\n",
    "grad = tf.gradients(output, W)\n",
    "\n",
    "sess = tf.Session()\n",
    "with sess.graph.as_default():\n",
    "    sess.run(tf.global_variables_initializer())\n",
    "\n",
    "    output_val, grad_val = sess.run([output, grad], feed_dict={X: data})\n",
    "    print(\"output_val\", output_val)\n",
    "    print(\"grad_val\", grad_val)"
   ]
  },
  {
   "cell_type": "code",
   "execution_count": null,
   "metadata": {},
   "outputs": [],
   "source": []
  },
  {
   "cell_type": "code",
   "execution_count": null,
   "metadata": {},
   "outputs": [],
   "source": []
  },
  {
   "cell_type": "code",
   "execution_count": 60,
   "metadata": {},
   "outputs": [],
   "source": [
    "def func(x):\n",
    "    return tf.sigmoid(tf.matmul(x[0], x[1]))"
   ]
  },
  {
   "cell_type": "code",
   "execution_count": 81,
   "metadata": {},
   "outputs": [
    {
     "name": "stdout",
     "output_type": "stream",
     "text": [
      "type(X_splited) <class 'list'>\n",
      "type(weight_copies[0]) <class 'tensorflow.python.ops.variables.Variable'>\n",
      "weight_copies[0] <tf.Variable 'Variable_60:0' shape=(3, 3) dtype=float32_ref>\n",
      "type(output): <class 'tensorflow.python.framework.ops.Tensor'>\n",
      "output.shape: (4, ?, 3)\n",
      "output[0].shape: (?, 3)\n",
      "type(per_example_gradients): <class 'list'>\n",
      "len(per_example_gradients): 4\n",
      "per_example_gradients[0].shape: (3, 3)\n",
      "(4, 1, 3)\n",
      "[[[0.785835  0.785835  0.785835 ]]\n",
      "\n",
      " [[0.9568927 0.9677046 0.9568927]]\n",
      "\n",
      " [[0.9926085 0.9959299 0.9926085]]\n",
      "\n",
      " [[0.785835  0.785835  0.785835 ]]]\n",
      "[array([[0.0552951 , 0.04899811, 0.0552951 ],\n",
      "       [0.09381335, 0.08618837, 0.09381335],\n",
      "       [0.13233162, 0.12337865, 0.13233162]], dtype=float32), array([[0.0552951 , 0.04899811, 0.0552951 ],\n",
      "       [0.09381335, 0.08618837, 0.09381335],\n",
      "       [0.13233162, 0.12337865, 0.13233162]], dtype=float32), array([[0.0552951 , 0.04899811, 0.0552951 ],\n",
      "       [0.09381335, 0.08618837, 0.09381335],\n",
      "       [0.13233162, 0.12337865, 0.13233162]], dtype=float32), array([[0.0552951 , 0.04899811, 0.0552951 ],\n",
      "       [0.09381335, 0.08618837, 0.09381335],\n",
      "       [0.13233162, 0.12337865, 0.13233162]], dtype=float32)]\n"
     ]
    }
   ],
   "source": [
    "X = tf.placeholder(tf.float32, [None, 3], name=\"x\")\n",
    "\n",
    "W = tf.Variable(np_W, dtype=tf.float32)\n",
    "b = tf.Variable(np_b, dtype=tf.float32)\n",
    "\n",
    "X_splited = tf.split(X, num_or_size_splits=4)\n",
    "# weight_copies = [tf.identity(W) for x in X_splited]\n",
    "weight_copies = [W for _ in range(len(X_splited))]\n",
    "print(\"type(X_splited)\", type(X_splited))\n",
    "print(\"type(weight_copies[0])\", type(weight_copies[0]))\n",
    "print(\"weight_copies[0]\", weight_copies[0])\n",
    "# elems = [z for z in zip(examples, weight_copies)]\n",
    "# print(len(elems[0]))\n",
    "output = tf.stack([func(z) for z in zip(X_splited, weight_copies)])\n",
    "print(\"type(output):\", type(output))\n",
    "print(\"output.shape:\", output.shape)\n",
    "print(\"output[0].shape:\", output[0].shape)\n",
    "per_example_gradients = tf.gradients(output, weight_copies)\n",
    "print(\"type(per_example_gradients):\", type(per_example_gradients))\n",
    "print(\"len(per_example_gradients):\", len(per_example_gradients))\n",
    "print(\"per_example_gradients[0].shape:\", per_example_gradients[0].shape)\n",
    "\n",
    "# # # grads_W, grads_b = tf.gradients(U, xs=[W, b])\n",
    "\n",
    "sess = tf.Session()\n",
    "with sess.graph.as_default():\n",
    "    sess.run(tf.global_variables_initializer())\n",
    "        # grads_w_i, grads_b_i = sess.run([grads_W, grads_b], feed_dict={X: data})\n",
    "        # print(grads_w_i.shape)\n",
    "        # print(grads_w_i)\n",
    "        # print(grads_b_i.shape)\n",
    "        # print(grads_b_i)\n",
    "\n",
    "        # grads_w_i = sess.run(per_example_gradients, feed_dict={X: data})\n",
    "        # print(grads_w_i.shape)\n",
    "\n",
    "        # elems_1 = sess.run(elems, feed_dict={X: data})\n",
    "        # print(elems_1[0])\n",
    "        #\n",
    "    output_1, per_example_gradients_1 = sess.run([output, per_example_gradients], feed_dict={X: data})\n",
    "    print(output_1.shape)\n",
    "    print(output_1)\n",
    "    print(per_example_gradients_1)"
   ]
  },
  {
   "cell_type": "code",
   "execution_count": null,
   "metadata": {},
   "outputs": [],
   "source": []
  }
 ],
 "metadata": {
  "kernelspec": {
   "display_name": "Python 3",
   "language": "python",
   "name": "python3"
  },
  "language_info": {
   "codemirror_mode": {
    "name": "ipython",
    "version": 3
   },
   "file_extension": ".py",
   "mimetype": "text/x-python",
   "name": "python",
   "nbconvert_exporter": "python",
   "pygments_lexer": "ipython3",
   "version": "3.4.4"
  }
 },
 "nbformat": 4,
 "nbformat_minor": 2
}
