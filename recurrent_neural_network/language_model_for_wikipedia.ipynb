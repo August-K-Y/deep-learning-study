{
 "cells": [
  {
   "cell_type": "markdown",
   "metadata": {},
   "source": [
    "## Goal \n",
    "\n",
    "* Create a lanugage model for the wikipedia data dumps\n",
    "* Check if word embeddings produce meaningful pattern in way ways:\n",
    "    * Word analogies\n",
    "    * Visualize word embeddings on a scatter plot (using dimensionality reduction)\n",
    "\n",
    "## Get Wikipedia Data\n",
    "\n",
    "* fdsf\n",
    "\n",
    "## The Brown Corpus\n",
    "\n",
    "* It comes with NLTK\n",
    "* It is already parsed and tokenized"
   ]
  },
  {
   "cell_type": "code",
   "execution_count": 1,
   "metadata": {},
   "outputs": [],
   "source": [
    "from nltk.corpus import brown\n",
    "import operator"
   ]
  },
  {
   "cell_type": "code",
   "execution_count": null,
   "metadata": {},
   "outputs": [],
   "source": [
    "def get_sentences_with_word2index():\n",
    "    # Brown has 574340 sentences\n",
    "    # Eacg sentence is represented as a list of individual string tokens\n",
    "    sentences = brown.sents()\n",
    "    word2index = {'START':0, 'END':1}\n",
    "    indexed_sentences = []\n",
    "            \n",
    "    index = 2\n",
    "    for sentence in sentences:\n",
    "        indexed_sentence = []\n",
    "        for token in sentence:\n",
    "            token = token.lower()\n",
    "            if token not in word2index:\n",
    "                word2index[token] = index\n",
    "                index+=1\n",
    "            indexed_sentence.append(word2index[token])\n",
    "        indexed_sentences.append(indexed_sentence)\n",
    "    print(\"vocb size:\", index)\n",
    "    return indexed_sentences, word2index\n",
    "            \n",
    "    "
   ]
  }
 ],
 "metadata": {
  "kernelspec": {
   "display_name": "Python 3",
   "language": "python",
   "name": "python3"
  },
  "language_info": {
   "codemirror_mode": {
    "name": "ipython",
    "version": 3
   },
   "file_extension": ".py",
   "mimetype": "text/x-python",
   "name": "python",
   "nbconvert_exporter": "python",
   "pygments_lexer": "ipython3",
   "version": "3.4.4"
  }
 },
 "nbformat": 4,
 "nbformat_minor": 2
}
