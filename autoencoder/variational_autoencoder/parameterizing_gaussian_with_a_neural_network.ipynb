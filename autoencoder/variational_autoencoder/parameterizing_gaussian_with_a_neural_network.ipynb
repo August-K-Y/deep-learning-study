{
 "cells": [
  {
   "cell_type": "markdown",
   "metadata": {},
   "source": [
    "# Parameterizing a Gaussian with a Neural Network"
   ]
  },
  {
   "cell_type": "code",
   "execution_count": 1,
   "metadata": {},
   "outputs": [],
   "source": [
    "## Break Down"
   ]
  },
  {
   "cell_type": "markdown",
   "metadata": {},
   "source": [
    "* Code is simple, but conceptually different from what we usually do\n",
    "* Output represents a distribution\n",
    "    1. Forward pass through neural network. This part is as usual\n",
    "    2. Output is not a value, but a distribution.\n",
    "    3. From this distribution, $q(z)$, we will generate samples\n",
    "\n",
    "\n",
    "* The next question is how we train the weights of the encoder. \n",
    "    * z is a sample drawn from q(z), has no functional dependence on encoder weights.\n",
    "\n",
    "**Key point**\n",
    "* Encoder outputs distribution is a function of the input x\n",
    "    * We can call the output distribution $q(z|x)$ to be more clear\n",
    "    * $q(z|x)$ is the neural network approximation of $P(z|x)$ that is the \"true\" conditional distribution of z given x.\n",
    "    \n"
   ]
  },
  {
   "cell_type": "markdown",
   "metadata": {},
   "source": [
    "## Latent Space"
   ]
  },
  {
   "cell_type": "markdown",
   "metadata": {},
   "source": [
    "* The concept of **latent space** applies to both regular autoencoder and variational autoencoder\n",
    "* Autoencoder is made up of 2 steps: an Encoder and a Decoder\n",
    "    * The `encoder` is responsible for turning the input data $x$ into a different vector $z$, a coded version of $x$ that lives in the latent space\n",
    "    * The `decoder` is responsible for reconstrucing the original $x$ from $z$"
   ]
  },
  {
   "cell_type": "code",
   "execution_count": null,
   "metadata": {},
   "outputs": [],
   "source": []
  }
 ],
 "metadata": {
  "kernelspec": {
   "display_name": "Python 3",
   "language": "python",
   "name": "python3"
  },
  "language_info": {
   "codemirror_mode": {
    "name": "ipython",
    "version": 3
   },
   "file_extension": ".py",
   "mimetype": "text/x-python",
   "name": "python",
   "nbconvert_exporter": "python",
   "pygments_lexer": "ipython3",
   "version": "3.4.4"
  }
 },
 "nbformat": 4,
 "nbformat_minor": 2
}
