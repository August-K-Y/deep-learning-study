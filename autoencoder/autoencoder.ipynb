{
 "cells": [
  {
   "cell_type": "markdown",
   "metadata": {},
   "source": [
    "# Autoencoder"
   ]
  },
  {
   "cell_type": "markdown",
   "metadata": {},
   "source": [
    "* Supervised machine learning trains a model through training samples with labels acting as targets that supervise the development of the model.\n",
    "    * train(X, Y)\n",
    "    * predict(X, Y)\n",
    "* Antoencoder is much alike supervised machine learning. But the targets used by antoencoder is the samples themself without labels.\n",
    "    * train(X, X)\n",
    "    * predict(X, X)\n",
    "* The \"auto\" in autoencoder is really \"self\""
   ]
  },
  {
   "cell_type": "code",
   "execution_count": null,
   "metadata": {},
   "outputs": [],
   "source": []
  }
 ],
 "metadata": {
  "kernelspec": {
   "display_name": "Python 3",
   "language": "python",
   "name": "python3"
  },
  "language_info": {
   "codemirror_mode": {
    "name": "ipython",
    "version": 3
   },
   "file_extension": ".py",
   "mimetype": "text/x-python",
   "name": "python",
   "nbconvert_exporter": "python",
   "pygments_lexer": "ipython3",
   "version": "3.4.4"
  }
 },
 "nbformat": 4,
 "nbformat_minor": 2
}
