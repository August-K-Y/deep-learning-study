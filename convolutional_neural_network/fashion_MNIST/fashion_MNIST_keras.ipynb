{
 "cells": [
  {
   "cell_type": "code",
   "execution_count": 140,
   "metadata": {},
   "outputs": [],
   "source": [
    "import pandas as pd\n",
    "import numpy as np\n",
    "from keras.layers import Conv2D, Input, MaxPooling2D, Dense, Flatten, BatchNormalization, Dropout, Activation\n",
    "from keras.models import Model\n",
    "from keras.optimizers import Adam, RMSprop\n",
    "\n",
    "import matplotlib.pyplot as plt"
   ]
  },
  {
   "cell_type": "code",
   "execution_count": 38,
   "metadata": {},
   "outputs": [],
   "source": [
    "train_file_name = 'data/fashion-mnist_train.csv'\n",
    "test_file_name = 'data/fashion-mnist_test.csv'"
   ]
  },
  {
   "cell_type": "code",
   "execution_count": 124,
   "metadata": {},
   "outputs": [],
   "source": [
    "train_data = pd.read_csv(train_file_name)"
   ]
  },
  {
   "cell_type": "code",
   "execution_count": 132,
   "metadata": {},
   "outputs": [
    {
     "name": "stdout",
     "output_type": "stream",
     "text": [
      "(60000, 785)\n"
     ]
    }
   ],
   "source": [
    "# 785 columns, the first column is label, the rest is pixels\n",
    "print(train_data.shape)"
   ]
  },
  {
   "cell_type": "code",
   "execution_count": 133,
   "metadata": {},
   "outputs": [
    {
     "name": "stdout",
     "output_type": "stream",
     "text": [
      "(60000, 784)\n"
     ]
    }
   ],
   "source": [
    "train_x = np.asarray(train_data.iloc[:,1:785])\n",
    "print(train_x.shape)"
   ]
  },
  {
   "cell_type": "code",
   "execution_count": 134,
   "metadata": {},
   "outputs": [
    {
     "name": "stdout",
     "output_type": "stream",
     "text": [
      "(60000,)\n"
     ]
    }
   ],
   "source": [
    "train_y = np.asarray(train_data['label'])\n",
    "print(train_y.shape)"
   ]
  },
  {
   "cell_type": "code",
   "execution_count": 135,
   "metadata": {},
   "outputs": [
    {
     "name": "stdout",
     "output_type": "stream",
     "text": [
      "<class 'numpy.ndarray'>\n",
      "(60000, 28, 28, 1)\n"
     ]
    }
   ],
   "source": [
    "train_x = np.reshape(train_x, (-1, 28, 28, 1))/255.0\n",
    "print(type(train_x))\n",
    "print(train_x.shape)"
   ]
  },
  {
   "cell_type": "code",
   "execution_count": 129,
   "metadata": {},
   "outputs": [],
   "source": [
    "# train_x = np.random.shuffle(train_x)\n",
    "# print(type(train_x))"
   ]
  },
  {
   "cell_type": "code",
   "execution_count": 131,
   "metadata": {},
   "outputs": [
    {
     "name": "stdout",
     "output_type": "stream",
     "text": [
      "<class 'NoneType'>\n"
     ]
    }
   ],
   "source": [
    "print(type(train_x))"
   ]
  },
  {
   "cell_type": "markdown",
   "metadata": {},
   "source": [
    "## Model"
   ]
  },
  {
   "cell_type": "markdown",
   "metadata": {},
   "source": [
    "data_format: A string, one of `\"channels_last\"` or `\"channels_first\"`. The ordering of the dimensions in the inputs. `\"channels_last\"` corresponds to inputs with shape `(batch, height, width, channels)` while `\"channels_first\"` corresponds to inputs with shape `(batch, channels, height, width)`. It defaults to the `image_data_format` value found in your Keras config file at `~/.keras/keras.json`. If you never set it, then it will be `\"channels_last\"`."
   ]
  },
  {
   "cell_type": "code",
   "execution_count": 152,
   "metadata": {},
   "outputs": [
    {
     "name": "stdout",
     "output_type": "stream",
     "text": [
      "_________________________________________________________________\n",
      "Layer (type)                 Output Shape              Param #   \n",
      "=================================================================\n",
      "input_32 (InputLayer)        (None, 28, 28, 1)         0         \n",
      "_________________________________________________________________\n",
      "conv2d_89 (Conv2D)           (None, 28, 28, 36)        360       \n",
      "_________________________________________________________________\n",
      "batch_normalization_70 (Batc (None, 28, 28, 36)        144       \n",
      "_________________________________________________________________\n",
      "activation_10 (Activation)   (None, 28, 28, 36)        0         \n",
      "_________________________________________________________________\n",
      "max_pooling2d_78 (MaxPooling (None, 14, 14, 36)        0         \n",
      "_________________________________________________________________\n",
      "dropout_36 (Dropout)         (None, 14, 14, 36)        0         \n",
      "_________________________________________________________________\n",
      "conv2d_90 (Conv2D)           (None, 14, 14, 48)        15600     \n",
      "_________________________________________________________________\n",
      "batch_normalization_71 (Batc (None, 14, 14, 48)        192       \n",
      "_________________________________________________________________\n",
      "activation_11 (Activation)   (None, 14, 14, 48)        0         \n",
      "_________________________________________________________________\n",
      "max_pooling2d_79 (MaxPooling (None, 7, 7, 48)          0         \n",
      "_________________________________________________________________\n",
      "dropout_37 (Dropout)         (None, 7, 7, 48)          0         \n",
      "_________________________________________________________________\n",
      "conv2d_91 (Conv2D)           (None, 7, 7, 60)          25980     \n",
      "_________________________________________________________________\n",
      "batch_normalization_72 (Batc (None, 7, 7, 60)          240       \n",
      "_________________________________________________________________\n",
      "activation_12 (Activation)   (None, 7, 7, 60)          0         \n",
      "_________________________________________________________________\n",
      "max_pooling2d_80 (MaxPooling (None, 3, 3, 60)          0         \n",
      "_________________________________________________________________\n",
      "dropout_38 (Dropout)         (None, 3, 3, 60)          0         \n",
      "_________________________________________________________________\n",
      "flatten_24 (Flatten)         (None, 540)               0         \n",
      "_________________________________________________________________\n",
      "dense_45 (Dense)             (None, 200)               108200    \n",
      "_________________________________________________________________\n",
      "dropout_39 (Dropout)         (None, 200)               0         \n",
      "_________________________________________________________________\n",
      "dense_46 (Dense)             (None, 10)                2010      \n",
      "=================================================================\n",
      "Total params: 152,726\n",
      "Trainable params: 152,438\n",
      "Non-trainable params: 288\n",
      "_________________________________________________________________\n"
     ]
    }
   ],
   "source": [
    "input_ = Input(shape=(28, 28, 1,))\n",
    "\n",
    "x = Conv2D(36, 3, padding='same')(input_)\n",
    "x = BatchNormalization()(x)\n",
    "x = Activation('relu')(x)\n",
    "x = MaxPooling2D()(x)\n",
    "x = Dropout(0.2)(x)\n",
    "\n",
    "x = Conv2D(48, 3, padding='same')(x)\n",
    "x = BatchNormalization()(x)\n",
    "x = Activation('relu')(x)\n",
    "x = MaxPooling2D()(x)\n",
    "x = Dropout(0.2)(x)\n",
    "\n",
    "x = Conv2D(60, 3, padding='same')(x)\n",
    "x = BatchNormalization()(x)\n",
    "x = Activation('relu')(x)\n",
    "x = MaxPooling2D()(x)\n",
    "x = Dropout(0.2)(x)\n",
    "\n",
    "x = Flatten()(x)\n",
    "x = Dense(200, activation='relu')(x)\n",
    "x = Dropout(0.2)(x)\n",
    "x = Dense(10, activation='softmax')(x)\n",
    "\n",
    "model = Model(inputs=input_, outputs=x)\n",
    "\n",
    "model.summary()"
   ]
  },
  {
   "cell_type": "code",
   "execution_count": 153,
   "metadata": {},
   "outputs": [],
   "source": [
    "model.compile(loss='sparse_categorical_crossentropy', optimizer=Adam(lr=0.01), metrics=['accuracy'])"
   ]
  },
  {
   "cell_type": "code",
   "execution_count": 154,
   "metadata": {},
   "outputs": [
    {
     "name": "stdout",
     "output_type": "stream",
     "text": [
      "Train on 54000 samples, validate on 6000 samples\n",
      "Epoch 1/20\n",
      "54000/54000 [==============================] - 235s 4ms/step - loss: 1.1912 - acc: 0.6851 - val_loss: 0.4478 - val_acc: 0.8318\n",
      "Epoch 2/20\n",
      "54000/54000 [==============================] - 266s 5ms/step - loss: 0.4455 - acc: 0.8382 - val_loss: 0.4353 - val_acc: 0.8373\n",
      "Epoch 3/20\n",
      "54000/54000 [==============================] - 315s 6ms/step - loss: 0.3806 - acc: 0.8615 - val_loss: 0.4852 - val_acc: 0.8235\n",
      "Epoch 4/20\n",
      "54000/54000 [==============================] - 305s 6ms/step - loss: 0.3474 - acc: 0.8744 - val_loss: 0.6238 - val_acc: 0.7635\n",
      "Epoch 5/20\n",
      "54000/54000 [==============================] - 267s 5ms/step - loss: 0.3226 - acc: 0.8830 - val_loss: 0.3457 - val_acc: 0.8643\n",
      "Epoch 6/20\n",
      "54000/54000 [==============================] - 267s 5ms/step - loss: 0.3118 - acc: 0.8879 - val_loss: 0.3885 - val_acc: 0.8413\n",
      "Epoch 7/20\n",
      "54000/54000 [==============================] - 265s 5ms/step - loss: 0.2979 - acc: 0.8907 - val_loss: 0.3416 - val_acc: 0.8648\n",
      "Epoch 8/20\n",
      "54000/54000 [==============================] - 262s 5ms/step - loss: 0.2901 - acc: 0.8949 - val_loss: 0.3266 - val_acc: 0.8715\n",
      "Epoch 9/20\n",
      "54000/54000 [==============================] - 264s 5ms/step - loss: 0.2821 - acc: 0.8975 - val_loss: 0.2522 - val_acc: 0.9092\n",
      "Epoch 10/20\n",
      "54000/54000 [==============================] - 263s 5ms/step - loss: 0.2734 - acc: 0.9008 - val_loss: 0.2809 - val_acc: 0.8932\n",
      "Epoch 11/20\n",
      "54000/54000 [==============================] - 266s 5ms/step - loss: 0.2690 - acc: 0.9029 - val_loss: 0.2737 - val_acc: 0.8975\n",
      "Epoch 12/20\n",
      "54000/54000 [==============================] - 264s 5ms/step - loss: 0.2631 - acc: 0.9023 - val_loss: 0.2694 - val_acc: 0.8977\n",
      "Epoch 13/20\n",
      "54000/54000 [==============================] - 260s 5ms/step - loss: 0.2587 - acc: 0.9065 - val_loss: 0.3204 - val_acc: 0.8820\n",
      "Epoch 14/20\n",
      "54000/54000 [==============================] - 265s 5ms/step - loss: 0.2575 - acc: 0.9051 - val_loss: 0.2656 - val_acc: 0.8993\n",
      "Epoch 15/20\n",
      "54000/54000 [==============================] - 286s 5ms/step - loss: 0.2551 - acc: 0.9068 - val_loss: 0.2374 - val_acc: 0.9138\n",
      "Epoch 16/20\n",
      "54000/54000 [==============================] - 276s 5ms/step - loss: 0.2481 - acc: 0.9079 - val_loss: 0.2483 - val_acc: 0.9097\n",
      "Epoch 17/20\n",
      "54000/54000 [==============================] - 264s 5ms/step - loss: 0.2480 - acc: 0.9079 - val_loss: 0.2602 - val_acc: 0.9060\n",
      "Epoch 18/20\n",
      "54000/54000 [==============================] - 267s 5ms/step - loss: 0.2412 - acc: 0.9105 - val_loss: 0.2525 - val_acc: 0.9077\n",
      "Epoch 19/20\n",
      "54000/54000 [==============================] - 254s 5ms/step - loss: 0.2420 - acc: 0.9117 - val_loss: 0.2609 - val_acc: 0.9057\n",
      "Epoch 20/20\n",
      "54000/54000 [==============================] - 306s 6ms/step - loss: 0.2389 - acc: 0.9122 - val_loss: 0.2355 - val_acc: 0.9150\n"
     ]
    }
   ],
   "source": [
    "epochs= 20\n",
    "batch_size = 256\n",
    "r = model.fit(train_x, train_y, epochs=epochs, batch_size=batch_size, validation_split=0.1)"
   ]
  },
  {
   "cell_type": "code",
   "execution_count": 155,
   "metadata": {},
   "outputs": [
    {
     "data": {
      "image/png": "[encoded data removed]",
      "text/plain": [
       "<matplotlib.figure.Figure at 0x13f7855c0>"
      ]
     },
     "metadata": {},
     "output_type": "display_data"
    },
    {
     "data": {
      "image/png": "[encoded data removed]",
      "text/plain": [
       "<matplotlib.figure.Figure at 0x1426df780>"
      ]
     },
     "metadata": {},
     "output_type": "display_data"
    }
   ],
   "source": [
    "plt.plot(r.history['loss'])\n",
    "plt.plot(r.history['val_loss'])\n",
    "plt.show()\n",
    "\n",
    "plt.plot(r.history['acc'])\n",
    "plt.plot(r.history['val_acc'])\n",
    "plt.show()"
   ]
  },
  {
   "cell_type": "code",
   "execution_count": null,
   "metadata": {},
   "outputs": [],
   "source": []
  }
 ],
 "metadata": {
  "kernelspec": {
   "display_name": "Python 3",
   "language": "python",
   "name": "python3"
  },
  "language_info": {
   "codemirror_mode": {
    "name": "ipython",
    "version": 3
   },
   "file_extension": ".py",
   "mimetype": "text/x-python",
   "name": "python",
   "nbconvert_exporter": "python",
   "pygments_lexer": "ipython3",
   "version": "3.4.4"
  }
 },
 "nbformat": 4,
 "nbformat_minor": 2
}
