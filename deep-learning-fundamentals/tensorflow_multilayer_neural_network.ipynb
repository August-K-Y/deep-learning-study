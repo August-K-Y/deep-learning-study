{
 "cells": [
  {
   "cell_type": "markdown",
   "metadata": {},
   "source": [
    "# Multilayer Neural Network in TensorFlow"
   ]
  },
  {
   "cell_type": "markdown",
   "metadata": {},
   "source": [
    "### One Hidden Layer NN \n",
    "\n",
    "\n",
    "\n",
    "<img src=\"images/two_layer_nn_2.png\" alt=\"Drawing\" style=\"width:60%;height:60%\"/>"
   ]
  },
  {
   "cell_type": "code",
   "execution_count": 1,
   "metadata": {},
   "outputs": [
    {
     "name": "stdout",
     "output_type": "stream",
     "text": [
      "Extracting /tmp/tensorflow/mnist/input_data/train-images-idx3-ubyte.gz\n",
      "Extracting /tmp/tensorflow/mnist/input_data/train-labels-idx1-ubyte.gz\n",
      "Extracting /tmp/tensorflow/mnist/input_data/t10k-images-idx3-ubyte.gz\n",
      "Extracting /tmp/tensorflow/mnist/input_data/t10k-labels-idx1-ubyte.gz\n",
      "(55000, 28, 28, 1)\n",
      "(10000, 28, 28, 1)\n",
      "(55000, 10)\n",
      "(10000, 10)\n"
     ]
    }
   ],
   "source": [
    "from tensorflow.examples.tutorials.mnist import input_data\n",
    "import tensorflow as tf\n",
    "import numpy as np\n",
    "\n",
    "mnist = input_data.read_data_sets(\"/tmp/tensorflow/mnist/input_data\", one_hot=True, reshape=False)\n",
    "\n",
    "# The features are already scaled and the data is shuffled\n",
    "train_features = mnist.train.images\n",
    "test_features = mnist.test.images\n",
    "print(train_features.shape)\n",
    "print(test_features.shape)\n",
    "\n",
    "train_labels = mnist.train.labels.astype(np.float32)\n",
    "test_labels = mnist.test.labels.astype(np.float32)\n",
    "print(train_labels.shape)\n",
    "print(test_labels.shape)\n"
   ]
  },
  {
   "cell_type": "markdown",
   "metadata": {},
   "source": [
    "Deep neural networks use multiple layers with each layer requiring it's own weight and bias. The 'hidden_layer' weight and bias is for the hidden layer. The 'out' weight and bias is for the output layer. If the neural network were deeper, there would be weights and biases for each additional layer.\n",
    "\n",
    "> The MNIST data is made up of 28px by 28px images with a single channel (i.e., one color). The <b style='color:red'>tf.reshape()</b> function above reshapes the 28px by 28px matrices in x into row vectors of 784px.\n"
   ]
  },
  {
   "cell_type": "code",
   "execution_count": 13,
   "metadata": {},
   "outputs": [
    {
     "name": "stdout",
     "output_type": "stream",
     "text": [
      "Tensor(\"Placeholder_4:0\", shape=(?, 28, 28, 1), dtype=float32)\n",
      "Tensor(\"Reshape_5:0\", shape=(?, 784), dtype=float32)\n"
     ]
    }
   ],
   "source": [
    "# tf Graph input\n",
    "x = tf.placeholder(\"float\", [None, 28, 28, 1])\n",
    "y = tf.placeholder(\"float\", [None, n_classes])\n",
    "print(x)\n",
    "x_flat = tf.reshape(x, [-1, n_input])\n",
    "print(x_flat)"
   ]
  },
  {
   "cell_type": "code",
   "execution_count": 14,
   "metadata": {},
   "outputs": [],
   "source": [
    "# Parameters\n",
    "learning_rate = 0.001\n",
    "training_epochs = 5\n",
    "batch_size = 128  # Decrease batch size if you don't have enough memory\n",
    "display_step = 1\n",
    "\n",
    "n_input = 784  # MNIST data input (img shape: 28*28)\n",
    "n_classes = 10  # MNIST total classes (0-9 digits)\n",
    "\n",
    "n_hidden_layer = 256 # layer number of features\n",
    "\n",
    "# Store layers weight & bias\n",
    "weights = {\n",
    "    'hidden_layer': tf.Variable(tf.random_normal([n_input, n_hidden_layer])),\n",
    "    'out': tf.Variable(tf.random_normal([n_hidden_layer, n_classes]))\n",
    "}\n",
    "biases = {\n",
    "    'hidden_layer': tf.Variable(tf.random_normal([n_hidden_layer])),\n",
    "    'out': tf.Variable(tf.random_normal([n_classes]))\n",
    "}"
   ]
  },
  {
   "cell_type": "code",
   "execution_count": 15,
   "metadata": {},
   "outputs": [],
   "source": [
    "hidden_layer = tf.add(tf.matmul(x_flat, weights['hidden_layer']), biases['hidden_layer'])\n",
    "hidden_layer_out = tf.nn.relu(hidden_layer)\n",
    "\n",
    "logits = tf.add(tf.matmul(hidden_layer_out, weights['out']), biases['out'])\n"
   ]
  },
  {
   "cell_type": "markdown",
   "metadata": {},
   "source": [
    "You've seen the linear function  <b style='color:red'>tf.add(tf.matmul(x_flat, weights['hidden_layer']), biases['hidden_layer'])</b> before, also known as  <b style='color:red'>xw + b</b>. Combining linear functions together using a ReLU will give you a two layer network."
   ]
  },
  {
   "cell_type": "markdown",
   "metadata": {},
   "source": [
    "### Optimizer"
   ]
  },
  {
   "cell_type": "code",
   "execution_count": 16,
   "metadata": {},
   "outputs": [],
   "source": [
    "loss = tf.reduce_mean(tf.nn.softmax_cross_entropy_with_logits(logits=logits, labels=y))\n",
    "optimizer = tf.train.GradientDescentOptimizer(learning_rate=learning_rate).minimize(loss)"
   ]
  },
  {
   "cell_type": "markdown",
   "metadata": {},
   "source": [
    "### Session"
   ]
  },
  {
   "cell_type": "code",
   "execution_count": 18,
   "metadata": {},
   "outputs": [
    {
     "name": "stdout",
     "output_type": "stream",
     "text": [
      "ep 1 i 0 182.768\n",
      "ep 1 i 60 113.544\n",
      "ep 1 i 120 89.2423\n",
      "ep 1 i 180 73.7277\n",
      "ep 1 i 240 62.1535\n",
      "ep 1 i 300 53.7206\n",
      "ep 1 i 360 47.0001\n",
      "ep 1 i 420 41.8398\n",
      "ep 2 i 0 41.1746\n",
      "ep 2 i 60 37.2542\n",
      "ep 2 i 120 34.0824\n",
      "ep 2 i 180 31.5073\n",
      "ep 2 i 240 29.3111\n",
      "ep 2 i 300 27.4517\n",
      "ep 2 i 360 25.9311\n",
      "ep 2 i 420 24.5025\n",
      "ep 3 i 0 24.3267\n",
      "ep 3 i 60 23.1412\n",
      "ep 3 i 120 22.1078\n",
      "ep 3 i 180 21.1699\n",
      "ep 3 i 240 20.3347\n",
      "ep 3 i 300 19.6054\n",
      "ep 3 i 360 18.9304\n",
      "ep 3 i 420 18.3114\n",
      "ep 4 i 0 18.2076\n",
      "ep 4 i 60 17.6211\n",
      "ep 4 i 120 17.0676\n",
      "ep 4 i 180 16.5983\n",
      "ep 4 i 240 16.1581\n",
      "ep 4 i 300 15.7754\n",
      "ep 4 i 360 15.3986\n",
      "ep 4 i 420 15.0465\n",
      "ep 5 i 0 14.9915\n",
      "ep 5 i 60 14.655\n",
      "ep 5 i 120 14.3724\n",
      "ep 5 i 180 14.0913\n",
      "ep 5 i 240 13.8349\n",
      "ep 5 i 300 13.5316\n",
      "ep 5 i 360 13.284\n",
      "ep 5 i 420 13.0559\n"
     ]
    },
    {
     "data": {
      "image/png": "[encoded data removed]",
      "text/plain": [
       "<matplotlib.figure.Figure at 0x11f46c940>"
      ]
     },
     "metadata": {},
     "output_type": "display_data"
    }
   ],
   "source": [
    "import matplotlib.pyplot as plt\n",
    "\n",
    "init = tf.global_variables_initializer()\n",
    "losses = []\n",
    "with tf.Session() as sess:\n",
    "    sess.run(init)\n",
    "    \n",
    "    for ep in range(1, training_epochs+1):\n",
    "        total_batch = int(mnist.train.num_examples/batch_size)\n",
    "        \n",
    "        for i in range(total_batch):\n",
    "            batch_x, batch_y = mnist.train.next_batch(batch_size)\n",
    "#             print(batch_x.shape)\n",
    "            sess.run(optimizer, feed_dict={x:batch_x, y:batch_y})\n",
    "            output = sess.run(loss, feed_dict={x:test_features, y:test_labels})\n",
    "            losses.append(output)\n",
    "            \n",
    "            if i % 60 == 0:\n",
    "                print(\"ep\", ep, 'i', i, output)\n",
    "            \n",
    "plt.plot(losses)\n",
    "plt.show()\n",
    "    "
   ]
  },
  {
   "cell_type": "markdown",
   "metadata": {},
   "source": [
    "The MNIST library in TensorFlow provides the ability to receive the dataset in batches. Calling the <b style='color:red'>mnist.train.next_batch()</b> function returns a subset of the training data."
   ]
  },
  {
   "cell_type": "markdown",
   "metadata": {},
   "source": [
    "### Two Hidden Layer NN \n",
    "\n",
    "\n",
    "<img src=\"images/two_hidden_layer.png\" alt=\"Drawing\" style=\"width:60%;height:60%\"/>"
   ]
  },
  {
   "cell_type": "code",
   "execution_count": 20,
   "metadata": {},
   "outputs": [],
   "source": [
    "def get_data():\n",
    "    Y=[]\n",
    "    X=[]\n",
    "    first=True\n",
    "    for line in open('../data/fer2013/fer2013.csv'):\n",
    "        if first:\n",
    "            first=False\n",
    "        else:\n",
    "            row=line.split(',')\n",
    "            y = int(row[0])\n",
    "\n",
    "            Y.append(y)\n",
    "            X.append([int(p) for p in row[1].split()])\n",
    "    X, Y = np.array(X) / 255.0, np.array(Y)  \n",
    "    return X, Y\n",
    "\n",
    "def error_rate(T, P):\n",
    "    return np.mean(T != P)\n",
    "\n",
    "def y2indicator(y, dims):\n",
    "    N = len(y)\n",
    "    y = y.astype(np.int32)\n",
    "    ind = np.zeros((N, dims))\n",
    "    for i in range(N):\n",
    "        ind[i, y[i]] = 1\n",
    "    return ind"
   ]
  },
  {
   "cell_type": "code",
   "execution_count": 22,
   "metadata": {},
   "outputs": [
    {
     "name": "stdout",
     "output_type": "stream",
     "text": [
      "(40263, 2304)\n",
      "(40263,)\n"
     ]
    }
   ],
   "source": [
    "from sklearn.utils import shuffle\n",
    "\n",
    "XA, YA = get_data()\n",
    "# XA, YA = shuffle(XA, YA)\n",
    "\n",
    "XO, YO = XA[YA!=1, :], YA[YA!=1]\n",
    "X1 = XA[YA==1, :]\n",
    "X1 = np.repeat(X1, 9, axis=0)\n",
    "XA = np.vstack([XO, X1])\n",
    "YA = np.concatenate((YO, [1]*len(X1)))\n",
    "\n",
    "XA, YA = shuffle(XA, YA)\n",
    "print(XA.shape)\n",
    "print(YA.shape)\n"
   ]
  },
  {
   "cell_type": "code",
   "execution_count": null,
   "metadata": {},
   "outputs": [],
   "source": [
    "learning_rate = 10e-7\n",
    "reg = 0.01\n",
    "max_iter = 1000\n",
    "print_period = 10\n",
    "        \n",
    "N, D = XA.shape\n",
    "K = len(set(YA))\n",
    "\n",
    "print(\"X.shape:\", XA.shape)\n",
    "print(\"N:\", N)\n",
    "print(\"D:\", D)\n",
    "print(\"K:\", K)\n",
    "\n",
    "        \n",
    "# split data into training set and validation set\n",
    "Xtrain, Ytrain = XA[:-1000], YA[:-1000]\n",
    "Xtest, Ytest= XA[-1000:], YA[-1000:]\n",
    "        \n",
    "# one-hot-encoding the labels for both training set and validation set\n",
    "Ytrain_ind = y2indicator(Ytrain, K)\n",
    "Ytest_ind = y2indicator(Ytest, K)\n",
    "\n",
    "# TODO: try other batch and the whole training set\n",
    "batch_sz = 500\n",
    "\n",
    "print(\"batch_sz:\", batch_sz)\n",
    "n_batches = int(N / batch_sz)\n",
    "\n",
    "print(\"n_batches:\", n_batches)\n",
    "\n",
    "M1 = 300\n",
    "M2 = 100\n",
    "# K = 10\n",
    "\n",
    "W1_init = np.random.randn(D, M1) / 28\n",
    "b1_init = np.zeros(M1)\n",
    "W2_init = np.random.randn(M1, M2) / np.sqrt(M1 + M2)\n",
    "b2_init = np.zeros(M2)\n",
    "W3_init = np.random.randn(M2, K) / np.sqrt(M2 + K)\n",
    "b3_init = np.zeros(K)\n",
    "\n",
    "X = tf.placeholder(tf.float32, shape=(None, D), name = 'X')\n",
    "T = tf.placeholder(tf.float32, shape=(None, K), name = 'T')\n",
    "\n",
    "W1 = tf.Variable(W1_init.astype(np.float32))\n",
    "b1 = tf.Variable(b1_init.astype(np.float32))\n",
    "W2 = tf.Variable(W2_init.astype(np.float32))\n",
    "b2 = tf.Variable(b2_init.astype(np.float32))\n",
    "W3 = tf.Variable(W3_init.astype(np.float32))\n",
    "b3 = tf.Variable(b3_init.astype(np.float32))\n",
    "\n",
    "# forward\n",
    "Z1 = tf.nn.relu(tf.matmul(X, W1) + b1)\n",
    "Z2 = tf.nn.relu(tf.matmul(Z1, W2) + b2)\n",
    "Yish = tf.matmul(Z2, W3) + b3\n",
    "\n",
    "# establish loss/cost function\n",
    "loss = tf.reduce_sum(tf.nn.softmax_cross_entropy_with_logits(logits=Yish, labels=T))\n",
    "print(\"loss, \", loss)\n",
    "\n",
    "# establish the gradient descent optimizer with respect to the loss function\n",
    "train_op = tf.train.RMSPropOptimizer(learning_rate, decay=0.99, momentum=0.9).minimize(loss)\n",
    "print(\"train_op: \", train_op)\n",
    "\n",
    "#\n",
    "predict_op = tf.argmax(Yish, 1)\n",
    "print(\"predict_op: \", predict_op)\n",
    "\n",
    "#\n",
    "LL = []\n",
    "init = tf.global_variables_initializer()\n",
    "with tf.Session() as session:\n",
    "    session.run(init)\n",
    "    \n",
    "    for i in range(max_iter):\n",
    "        for j in range(n_batches):\n",
    "  \n",
    "            Xbatch = Xtrain[j * batch_sz : (j * batch_sz + batch_sz),]\n",
    "            Ybatch = Ytrain_ind[j * batch_sz : (j * batch_sz + batch_sz),]\n",
    "            \n",
    "            session.run(train_op, feed_dict={X: Xbatch, T:Ybatch})\n",
    "            if j % print_period == 0:\n",
    "                test_cost = session.run(loss, feed_dict={X: Xtest, T: Ytest_ind})\n",
    "                prediction = session.run(predict_op, feed_dict={X: Xtest})\n",
    "                err = error_rate(prediction, Ytest)\n",
    "                print(\"Cost / err at iteration i=%d, batch j=%d: %.3f / %.3f\" % (i, j, test_cost, err))\n",
    "                LL.append(test_cost)\n",
    "                \n",
    "plt.plot(LL)\n",
    "plt.show()\n",
    "\n",
    "# increase max_iter and notice how the test cost starts to increase.\n",
    "# are we overfitting by adding that extra layer?\n",
    "# how would you add regularization to this model?"
   ]
  }
 ],
 "metadata": {
  "kernelspec": {
   "display_name": "Python 3",
   "language": "python",
   "name": "python3"
  },
  "language_info": {
   "codemirror_mode": {
    "name": "ipython",
    "version": 3
   },
   "file_extension": ".py",
   "mimetype": "text/x-python",
   "name": "python",
   "nbconvert_exporter": "python",
   "pygments_lexer": "ipython3",
   "version": "3.4.4"
  }
 },
 "nbformat": 4,
 "nbformat_minor": 2
}
