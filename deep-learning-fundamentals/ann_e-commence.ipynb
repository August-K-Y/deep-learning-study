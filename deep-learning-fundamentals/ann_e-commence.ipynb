{
 "cells": [
  {
   "cell_type": "markdown",
   "metadata": {},
   "source": [
    "# E-Commerce Course Project with ANN"
   ]
  },
  {
   "cell_type": "code",
   "execution_count": 1,
   "metadata": {},
   "outputs": [],
   "source": [
    "import pandas as pd\n",
    "import numpy as np\n",
    "import matplotlib.pyplot as plt\n",
    "\n",
    "from sklearn.utils import shuffle"
   ]
  },
  {
   "cell_type": "code",
   "execution_count": 34,
   "metadata": {},
   "outputs": [
    {
     "data": {
      "text/html": [
       "<div>\n",
       "<style>\n",
       "    .dataframe thead tr:only-child th {\n",
       "        text-align: right;\n",
       "    }\n",
       "\n",
       "    .dataframe thead th {\n",
       "        text-align: left;\n",
       "    }\n",
       "\n",
       "    .dataframe tbody tr th {\n",
       "        vertical-align: top;\n",
       "    }\n",
       "</style>\n",
       "<table border=\"1\" class=\"dataframe\">\n",
       "  <thead>\n",
       "    <tr style=\"text-align: right;\">\n",
       "      <th></th>\n",
       "      <th>is_mobile</th>\n",
       "      <th>n_products_viewed</th>\n",
       "      <th>visit_duration</th>\n",
       "      <th>is_returning_visitor</th>\n",
       "      <th>time_of_day</th>\n",
       "      <th>user_action</th>\n",
       "    </tr>\n",
       "  </thead>\n",
       "  <tbody>\n",
       "    <tr>\n",
       "      <th>0</th>\n",
       "      <td>1</td>\n",
       "      <td>0</td>\n",
       "      <td>0.657510</td>\n",
       "      <td>0</td>\n",
       "      <td>3</td>\n",
       "      <td>0</td>\n",
       "    </tr>\n",
       "    <tr>\n",
       "      <th>1</th>\n",
       "      <td>1</td>\n",
       "      <td>1</td>\n",
       "      <td>0.568571</td>\n",
       "      <td>0</td>\n",
       "      <td>2</td>\n",
       "      <td>1</td>\n",
       "    </tr>\n",
       "    <tr>\n",
       "      <th>2</th>\n",
       "      <td>1</td>\n",
       "      <td>0</td>\n",
       "      <td>0.042246</td>\n",
       "      <td>1</td>\n",
       "      <td>1</td>\n",
       "      <td>0</td>\n",
       "    </tr>\n",
       "    <tr>\n",
       "      <th>3</th>\n",
       "      <td>1</td>\n",
       "      <td>1</td>\n",
       "      <td>1.659793</td>\n",
       "      <td>1</td>\n",
       "      <td>1</td>\n",
       "      <td>2</td>\n",
       "    </tr>\n",
       "    <tr>\n",
       "      <th>4</th>\n",
       "      <td>0</td>\n",
       "      <td>1</td>\n",
       "      <td>2.014745</td>\n",
       "      <td>1</td>\n",
       "      <td>1</td>\n",
       "      <td>2</td>\n",
       "    </tr>\n",
       "  </tbody>\n",
       "</table>\n",
       "</div>"
      ],
      "text/plain": [
       "   is_mobile  n_products_viewed  visit_duration  is_returning_visitor  \\\n",
       "0          1                  0        0.657510                     0   \n",
       "1          1                  1        0.568571                     0   \n",
       "2          1                  0        0.042246                     1   \n",
       "3          1                  1        1.659793                     1   \n",
       "4          0                  1        2.014745                     1   \n",
       "\n",
       "   time_of_day  user_action  \n",
       "0            3            0  \n",
       "1            2            1  \n",
       "2            1            0  \n",
       "3            1            2  \n",
       "4            1            2  "
      ]
     },
     "execution_count": 34,
     "metadata": {},
     "output_type": "execute_result"
    }
   ],
   "source": [
    "df = pd.read_csv('../data/ecommerce_data.csv')\n",
    "df.head()"
   ]
  },
  {
   "cell_type": "code",
   "execution_count": 45,
   "metadata": {},
   "outputs": [],
   "source": [
    "def get_data():\n",
    "    df=pd.read_csv('../data/ecommerce_data.csv')\n",
    "    data=df.as_matrix()\n",
    "    \n",
    "    # split each row into features and label (the last column)\n",
    "    X=data[:,:-1]\n",
    "    Y=data[:,-1]\n",
    "    \n",
    "    # normalize column n_products_viewed and visti_duration\n",
    "    X[:,1]=(X[:,1]-X[:,1].mean())/X[:,1].std()\n",
    "    X[:,2]=(X[:,2]-X[:,2].mean())/X[:,2].std()\n",
    "\n",
    "        \n",
    "    # do the one-hot-encoding on column time_of_day\n",
    "    N, D = X.shape\n",
    "    X2 = np.zeros((N, D + 3))\n",
    "    X2[:, 0:(D-1)] = X[:, 0:(D-1)]\n",
    "\n",
    "    \n",
    "    # the time_of_day is the 5th column (0-based)\n",
    "    for n in range(N):\n",
    "        t = int(X[n,4])\n",
    "        X2[n,t+D-1]=1\n",
    "        \n",
    "    return X2, Y\n",
    "\n",
    "# def get_binary_data():\n",
    "#     X, Y = get_data()\n",
    "#     X2=X[Y<=1]\n",
    "#     Y2=Y[Y<=1]\n",
    "#     return X2, Y2\n",
    "\n",
    "def y2indicator(Y, K):\n",
    "    N = len(Y)\n",
    "    ind = np.zeros((N, K))\n",
    "    for i in range(N):\n",
    "        ind[i, Y[i]] = 1\n",
    "    return ind\n",
    "\n",
    "def softmax(A):\n",
    "    expA = np.exp(A)\n",
    "    return expA / expA.sum(axis=1, keepdims=True)\n",
    "\n",
    "def forward(X, W1, b1, W2, b2):\n",
    "    Z = np.tanh(X.dot(W1) + b1)\n",
    "    return softmax(Z.dot(W2) + b2), Z\n",
    "\n",
    "def classification_rate(Y, P):\n",
    "    return np.mean(Y==P)\n",
    "\n",
    "def cross_entropy(T, Y):\n",
    "    return - np.mean(T * np.log(Y))\n",
    "\n",
    "def predict(P_Y_given_X):\n",
    "    return np.argmax(P_Y_given_X, axis=1)"
   ]
  },
  {
   "cell_type": "code",
   "execution_count": 64,
   "metadata": {},
   "outputs": [
    {
     "name": "stdout",
     "output_type": "stream",
     "text": [
      "4\n"
     ]
    }
   ],
   "source": [
    "X, Y = get_data()\n",
    "X, Y = shuffle(X, Y)\n",
    "\n",
    "Y = Y.astype(np.int32)\n",
    "\n",
    "M = 5\n",
    "N, D = X.shape\n",
    "K = len(set(Y))\n",
    "print(K)\n",
    "\n",
    "# split train data and validation data\n",
    "Xtrain = X[:-100]\n",
    "Ytrain = Y[:-100]\n",
    "Ytrain_ind = y2indicator(Ytrain, K)\n",
    "Xtest = X[-100:]\n",
    "Ytest = Y[-100:]\n",
    "Ytest_ind = y2indicator(Ytest, K)\n",
    "\n",
    "# initialize weights\n",
    "W1 = np.random.randn(D, M)\n",
    "b1 = np.zeros(M)\n",
    "W2 = np.random.randn(M, K)\n",
    "b2 = np.zeros(K)\n"
   ]
  },
  {
   "cell_type": "code",
   "execution_count": null,
   "metadata": {},
   "outputs": [],
   "source": []
  },
  {
   "cell_type": "code",
   "execution_count": 65,
   "metadata": {},
   "outputs": [
    {
     "data": {
      "text/plain": [
       "0.378"
      ]
     },
     "execution_count": 65,
     "metadata": {},
     "output_type": "execute_result"
    }
   ],
   "source": [
    "Py, _ = forward(X, W1, b1, W2, b2)\n",
    "predictions = np.argmax(Py, axis=1)\n",
    "\n",
    "# print(predictions)\n",
    "# print(Y)\n",
    "classification_rate(Y, predictions)"
   ]
  },
  {
   "cell_type": "code",
   "execution_count": 66,
   "metadata": {},
   "outputs": [
    {
     "name": "stdout",
     "output_type": "stream",
     "text": [
      "0 0.33617216418 0.349594995206\n",
      "1000 0.0331443504606 0.0349970576966\n",
      "2000 0.0295770322974 0.0315654528007\n",
      "3000 0.0253161415216 0.0327335392048\n",
      "4000 0.0235922743941 0.0325182736332\n",
      "5000 0.022538399818 0.0311731085536\n",
      "6000 0.0215874915357 0.0297576422954\n",
      "7000 0.0210036438008 0.02916391096\n",
      "8000 0.020824378771 0.0290482549168\n",
      "9000 0.0207736339027 0.0290280210963\n",
      "final train classification_rate: 0.985\n",
      "final test classification_rate: 0.96\n"
     ]
    },
    {
     "data": {
      "image/png": "[encoded data removed]",
      "text/plain": [
       "<matplotlib.figure.Figure at 0x10bd9f358>"
      ]
     },
     "metadata": {},
     "output_type": "display_data"
    }
   ],
   "source": [
    "\n",
    "\n",
    "epochs = 10000;\n",
    "learning_rate = 0.001\n",
    "reg = 0.5\n",
    "\n",
    "train_costs = []\n",
    "test_costs = []\n",
    "\n",
    "for ep in range(epochs):\n",
    "    \n",
    "    Pytrain, Ztrain = forward(Xtrain, W1, b1, W2, b2)\n",
    "    Pytest, Ztest = forward(Xtest, W1, b1, W2, b2)\n",
    "    \n",
    "    cTrain = cross_entropy(Ytrain_ind, Pytrain)\n",
    "    cTest = cross_entropy(Ytest_ind, Pytest)\n",
    "    train_costs.append(cTrain)\n",
    "    test_costs.append(cTest)\n",
    "    \n",
    "    Pytrain_Y = Pytrain - Ytrain_ind\n",
    "    W2 -= learning_rate * (Ztrain.T.dot(Pytrain_Y) + reg * W2)\n",
    "    b2 -= learning_rate * ((Pytrain_Y).sum() + reg * b2)\n",
    "    \n",
    "    dZ = (Pytrain_Y).dot(W2.T) * (1 - Ztrain * Ztrain)\n",
    "    W1 -= learning_rate * (Xtrain.T.dot(dZ) + reg * W1)\n",
    "    b1 -= learning_rate * (dZ.sum(axis=0) + reg * b1)\n",
    "    \n",
    "    if ep % 1000 == 0:\n",
    "        print(ep, cTrain, cTest)\n",
    "    \n",
    "print(\"final train classification_rate:\", classification_rate(Ytrain, predict(Pytrain)))\n",
    "print(\"final test classification_rate:\", classification_rate(Ytest, predict(Pytest)))\n",
    "\n",
    "legend1, = plt.plot(train_costs, label='train costs')\n",
    "legend2, = plt.plot(test_costs, label='test costs')\n",
    "plt.legend([legend1, legend2])\n",
    "plt.show()"
   ]
  },
  {
   "cell_type": "code",
   "execution_count": null,
   "metadata": {},
   "outputs": [],
   "source": []
  }
 ],
 "metadata": {
  "kernelspec": {
   "display_name": "Python 3",
   "language": "python",
   "name": "python3"
  },
  "language_info": {
   "codemirror_mode": {
    "name": "ipython",
    "version": 3
   },
   "file_extension": ".py",
   "mimetype": "text/x-python",
   "name": "python",
   "nbconvert_exporter": "python",
   "pygments_lexer": "ipython3",
   "version": "3.4.4"
  }
 },
 "nbformat": 4,
 "nbformat_minor": 2
}
