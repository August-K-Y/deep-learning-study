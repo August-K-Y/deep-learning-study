{
 "cells": [
  {
   "cell_type": "code",
   "execution_count": 131,
   "metadata": {
    "collapsed": true
   },
   "outputs": [],
   "source": [
    "import numpy as np\n",
    "import sys\n",
    "import string\n",
    "import json"
   ]
  },
  {
   "cell_type": "code",
   "execution_count": 144,
   "metadata": {
    "collapsed": true
   },
   "outputs": [],
   "source": [
    "class TreeNode:\n",
    "    def __init__(self):\n",
    "        self.wordidx = -1\n",
    "        self.label = -1\n",
    "        self.idx = -1\n",
    "        \n",
    "    def parse(self, line, startIdx, word2idx):\n",
    "        \"\"\"\n",
    "         Parses segment of the character array to a tree node. The parse starts from the specified\n",
    "         index and returns the end index when the parsing completes.\n",
    "         \n",
    "         @param line the character array to parse\n",
    "         @param startIdx start index of the array to parse\n",
    "         @param word2idx \n",
    "         @return the end index of the array when completing the array\n",
    "        \"\"\"\n",
    "        self.label = int(line[startIdx])\n",
    "        \n",
    "        self.children = []\n",
    "        cword = []\n",
    "        idx = startIdx + 1\n",
    "        while idx < len(line):\n",
    "            if line[idx] == '(':\n",
    "                tn = TreeNode()\n",
    "                self.children.append(tn)\n",
    "                idx = tn.parse(line, idx + 1, word2idx) + 1\n",
    "            elif line[idx] ==')':\n",
    "                temp = ''.join(cword).strip()\n",
    "                word = temp if len(temp) > 0 else None\n",
    "                if word != None:\n",
    "                    word = word.lower()\n",
    "                    if word not in word2idx:\n",
    "                        word2idx[word] = len(word2idx)\n",
    "                    self.wordidx = word2idx[word]\n",
    "                return idx\n",
    "            else:\n",
    "                cword.append(line[idx])\n",
    "                idx += 1\n",
    "        \n",
    "        return -1\n",
    "        "
   ]
  },
  {
   "cell_type": "code",
   "execution_count": 145,
   "metadata": {
    "collapsed": true
   },
   "outputs": [],
   "source": [
    "import queue\n",
    "from queue import Queue\n",
    "\n",
    "def bfs(root):\n",
    "    \n",
    "    queue = Queue()\n",
    "    queue.put(root)\n",
    "    curr_num = 1\n",
    "    next_num = 0\n",
    "    \n",
    "    level_tracker = []\n",
    "    while not queue.empty():\n",
    "        t = queue.get()\n",
    "        level_tracker.append(t)\n",
    "        curr_num -= 1 \n",
    "        num_children = len(t.children)\n",
    "        if num_children > 0 :\n",
    "            left = t.children[0]\n",
    "            right = t.children[1]\n",
    "            queue.put(left)\n",
    "            queue.put(right)\n",
    "            next_num+=2\n",
    "        \n",
    "        if curr_num == 0:\n",
    "            curr_num = next_num\n",
    "            next_num = 0\n",
    "            for e in level_tracker:\n",
    "                print(e.wordidx, e.label, e.idx, end='   ')\n",
    "            print()\n",
    "            level_tracker = []\n"
   ]
  },
  {
   "cell_type": "code",
   "execution_count": 146,
   "metadata": {},
   "outputs": [
    {
     "name": "stdout",
     "output_type": "stream",
     "text": [
      "-1 4 -1   \n",
      "-1 3 -1   5 2 -1   \n",
      "0 2 -1   -1 4 -1   \n",
      "-1 4 -1   4 2 -1   \n",
      "-1 2 -1   3 3 -1   \n",
      "1 2 -1   2 2 -1   \n",
      "{'.': 5, 'film': 4, 'a': 0, 'and': 2, 'meaningful': 3, 'deep': 1}\n"
     ]
    }
   ],
   "source": [
    "input = \"(4 (3 (2 A) (4 (4 (2 (2 deep) (2 and)) (3 meaningful)) (2 film))) (2 .))\"\n",
    "\n",
    "root = TreeNode()\n",
    "word2idx = {}\n",
    "root.parse(input, 1, word2idx)\n",
    "bfs(root)\n",
    "print(word2idx)"
   ]
  },
  {
   "cell_type": "code",
   "execution_count": 147,
   "metadata": {
    "collapsed": true
   },
   "outputs": [],
   "source": [
    "def add_idx_to_tree(tree, current_idx):\n",
    "    if tree is None:\n",
    "        return current_idx\n",
    "    \n",
    "    num_children = len(tree.children)\n",
    "    if num_children > 0 :\n",
    "        current_idx = add_idx_to_tree(tree.children[0], current_idx)\n",
    "        current_idx = add_idx_to_tree(tree.children[1], current_idx)\n",
    "    \n",
    "    tree.idx = current_idx\n",
    "    current_idx+=1\n",
    "    return current_idx\n"
   ]
  },
  {
   "cell_type": "code",
   "execution_count": 148,
   "metadata": {},
   "outputs": [
    {
     "name": "stdout",
     "output_type": "stream",
     "text": [
      "-1 4 10   \n",
      "-1 3 8   5 2 9   \n",
      "0 2 0   -1 4 7   \n",
      "-1 4 5   4 2 6   \n",
      "-1 2 3   3 3 4   \n",
      "1 2 1   2 2 2   \n"
     ]
    }
   ],
   "source": [
    "add_idx_to_tree(root, 0)\n",
    "bfs(root)"
   ]
  },
  {
   "cell_type": "code",
   "execution_count": 149,
   "metadata": {
    "collapsed": true
   },
   "outputs": [],
   "source": [
    "def tree2list(tree, parent_idx, is_binary=False, is_left=False, is_right=False):\n",
    "    if tree is None:\n",
    "        return [], [], [], []\n",
    "    \n",
    "    w = tree.wordidx\n",
    "    if is_left:\n",
    "        r = 0\n",
    "    elif is_right:\n",
    "        r = 1\n",
    "    else:\n",
    "        r = -1\n",
    "     \n",
    "    num_children = len(tree.children)\n",
    "    if num_children > 0 :\n",
    "        left = tree.children[0]\n",
    "        right = tree.children[1] \n",
    "    else:\n",
    "        left = None\n",
    "        right = None\n",
    "        \n",
    "    words_left, parents_left, relations_left, labels_left = tree2list(left, tree.idx, is_binary, is_left=True)\n",
    "    words_right, parents_right, relations_right, labels_right = tree2list(right, tree.idx, is_binary, is_right=True)\n",
    "        \n",
    "    words = words_left + words_right + [w]\n",
    "    parents = parents_left + parents_right + [parent_idx]\n",
    "    relations = relations_left + relations_right + [r]\n",
    "    if is_binary:\n",
    "        if tree.label > 2:\n",
    "            label = 1\n",
    "        elif tree.label < 2:\n",
    "            label = 0\n",
    "        else:\n",
    "            label = -1\n",
    "    else:\n",
    "        label = tree.label\n",
    "    labels = labels_left + labels_right + [label]\n",
    "    \n",
    "    return words, parents, relations, labels"
   ]
  },
  {
   "cell_type": "code",
   "execution_count": 150,
   "metadata": {},
   "outputs": [
    {
     "name": "stdout",
     "output_type": "stream",
     "text": [
      "[0, 1, 2, -1, 3, -1, 4, -1, -1, 5, -1]\n",
      "[8, 3, 3, 5, 5, 7, 7, 8, 10, 10, -1]\n",
      "[0, 0, 1, 0, 1, 0, 1, 1, 0, 1, -1]\n",
      "[-1, -1, -1, -1, 1, 1, -1, 1, 1, -1, 1]\n"
     ]
    }
   ],
   "source": [
    "wordidx, parents, relations, labels = tree2list(root, -1, is_binary=True)\n",
    "print(wordidx)\n",
    "print(parents)\n",
    "print(relations)\n",
    "print(labels)\n"
   ]
  },
  {
   "cell_type": "code",
   "execution_count": 151,
   "metadata": {
    "collapsed": true
   },
   "outputs": [],
   "source": [
    "def save_data(data=None, data_file=None):\n",
    "    if data == None or data_file == None:\n",
    "        return\n",
    "    with open(data_file, 'w') as f:\n",
    "        json.dump(data, f)"
   ]
  },
  {
   "cell_type": "markdown",
   "metadata": {},
   "source": [
    "**Test Saving Data**"
   ]
  },
  {
   "cell_type": "code",
   "execution_count": 152,
   "metadata": {},
   "outputs": [
    {
     "name": "stdout",
     "output_type": "stream",
     "text": [
      "{'a': 8, 'moviegoers': 3, 'entertaining': 1, 'meaningful': 11, '.': 7, 'of': 4, 'any': 5, 'film': 12, 'age': 6, 'enormously': 0, 'and': 10, 'for': 2, 'deep': 9}\n",
      "{0: ([0, 1, 2, 3, 4, 5, 6, -1, -1, -1, -1, -1, -1, 7, -1], [12, 11, 10, 9, 8, 7, 7, 8, 9, 10, 11, 12, 14, 14, -1], [0, 0, 0, 0, 0, 0, 1, 1, 1, 1, 1, 1, 0, 1, -1], [-1, 1, -1, -1, -1, -1, -1, 1, -1, 1, 1, 1, 1, -1, 1]), 1: ([8, 9, 10, -1, 11, -1, 12, -1, -1, 7, -1], [8, 3, 3, 5, 5, 7, 7, 8, 10, 10, -1], [0, 0, 1, 0, 1, 0, 1, 1, 0, 1, -1], [-1, -1, -1, -1, 1, 1, -1, 1, 1, -1, 1])}\n",
      "{0: ([0, 1, 2, 3, 4, 5, 6, -1, -1, -1, -1, -1, -1, 7, -1], [12, 11, 10, 9, 8, 7, 7, 8, 9, 10, 11, 12, 14, 14, -1], [0, 0, 0, 0, 0, 0, 1, 1, 1, 1, 1, 1, 0, 1, -1], [2, 4, 2, 2, 2, 2, 2, 3, 2, 3, 4, 3, 4, 2, 4]), 1: ([8, 9, 10, -1, 11, -1, 12, -1, -1, 7, -1], [8, 3, 3, 5, 5, 7, 7, 8, 10, 10, -1], [0, 0, 1, 0, 1, 0, 1, 1, 0, 1, -1], [2, 2, 2, 2, 3, 4, 2, 4, 3, 2, 4])}\n",
      "Saved\n"
     ]
    }
   ],
   "source": [
    "input1 = \"(4 (4 (2 Enormously) (3 (4 entertaining) (4 (2 for) (3 (2 moviegoers) (2 (2 of) (3 (2 any) (2 age))))))) (2 .))\"\n",
    "input2 = \"(4 (3 (2 A) (4 (4 (2 (2 deep) (2 and)) (3 meaningful)) (2 film))) (2 .))\"\n",
    "\n",
    "word2idx = {}\n",
    "train = []\n",
    "t1 = TreeNode();\n",
    "t1.parse(input1, 1, word2idx)\n",
    "train.append(t1)\n",
    "\n",
    "t2 = TreeNode();\n",
    "t2.parse(input2, 1, word2idx)\n",
    "train.append(t2)\n",
    "\n",
    "for t in train:\n",
    "    add_idx_to_tree(t, 0)\n",
    "    \n",
    "train_b = {idx : tree2list(t, -1, is_binary=True) for t, idx in zip(train, range(len(train)))}\n",
    "train = {idx : tree2list(t, -1, is_binary=False) for t, idx in zip(train, range(len(train)))}\n",
    "\n",
    "print(word2idx)\n",
    "print(train_b)\n",
    "print(train)\n",
    "\n",
    "save_data(word2idx, \"sentiment_word2idx.json\")\n",
    "save_data(train_b, \"sentiment_binary_train.json\")\n",
    "save_data(train, \"sentiment_train.json\")\n",
    "# print(train[0])\n",
    "print(\"Saved\")"
   ]
  },
  {
   "cell_type": "markdown",
   "metadata": {},
   "source": [
    "****"
   ]
  },
  {
   "cell_type": "code",
   "execution_count": 153,
   "metadata": {},
   "outputs": [
    {
     "name": "stdout",
     "output_type": "stream",
     "text": [
      "8544\n",
      "2210\n",
      "finished\n"
     ]
    }
   ],
   "source": [
    "word2idx = {}\n",
    "train = []\n",
    "test = []\n",
    "folder_read = '../data/large_files/stanford_sentiment/trees/'\n",
    "folder_write = '../data/large_files/stanford_sentiment/parsed_data/'\n",
    "\n",
    "for line in open(folder_read + 'train.txt'):\n",
    "    line = line.rstrip()\n",
    "    if line:\n",
    "        t = TreeNode();\n",
    "        t.parse(line, 1, word2idx)\n",
    "        train.append(t)\n",
    "\n",
    "for line in open(folder_read + 'test.txt'):\n",
    "    line = line.rstrip()\n",
    "    if line:\n",
    "        t = TreeNode();\n",
    "        t.parse(line, 1, word2idx)\n",
    "        test.append(t)\n",
    "\n",
    "for t in train:\n",
    "    add_idx_to_tree(t, 0)\n",
    "train_b = {idx : tree2list(t, -1, is_binary=True) for t, idx in zip(train, range(len(train)))}\n",
    "train = {idx : tree2list(t, -1, is_binary=False) for t, idx in zip(train, range(len(train)))}\n",
    "\n",
    "for t in test:\n",
    "    add_idx_to_tree(t, 0)\n",
    "test_b = {idx : tree2list(t, -1, is_binary=True) for t, idx in zip(test, range(len(test)))}\n",
    "test = {idx : tree2list(t, -1, is_binary=False) for t, idx in zip(test, range(len(test)))}\n",
    "\n",
    "print(len(train_b))\n",
    "print(len(test_b))\n",
    "\n",
    "# print(len(word2idx)\n",
    "print(\"finished\")"
   ]
  },
  {
   "cell_type": "code",
   "execution_count": 142,
   "metadata": {},
   "outputs": [
    {
     "name": "stdout",
     "output_type": "stream",
     "text": [
      "Start Saving Data RNTN ...\n",
      "Data Saving Finished\n"
     ]
    }
   ],
   "source": [
    "print(\"Start Saving Data RNTN ...\")\n",
    "save_data(word2idx, folder_write + \"sentiment_word2idx.json\")\n",
    "save_data(train_b, folder_write + \"sentiment_binary_train.json\")\n",
    "save_data(train, folder_write + \"sentiment_train.json\")\n",
    "save_data(test_b, folder_write + \"sentiment_binary_test.json\")\n",
    "save_data(test, folder_write + \"sentiment_test.json\")\n",
    "print(\"Data Saving Finished\")"
   ]
  },
  {
   "cell_type": "code",
   "execution_count": 154,
   "metadata": {},
   "outputs": [
    {
     "name": "stdout",
     "output_type": "stream",
     "text": [
      "After filtering: # of training samples and # of test samples\n",
      "6920\n",
      "1821\n"
     ]
    }
   ],
   "source": [
    "def get_binary_sample(samples:dict):\n",
    "    ssamples = {}\n",
    "    for k, v in samples.items():\n",
    "        if v[3][-1] != -1:\n",
    "            ssamples[k] = v\n",
    "    return ssamples\n",
    "        \n",
    "train_b = get_binary_sample(train_b)\n",
    "test_b = get_binary_sample(test_b)\n",
    "\n",
    "print(\"After filtering: # of training samples and # of test samples\")\n",
    "print(len(train_b))\n",
    "print(len(test_b))"
   ]
  },
  {
   "cell_type": "code",
   "execution_count": 155,
   "metadata": {},
   "outputs": [
    {
     "name": "stdout",
     "output_type": "stream",
     "text": [
      "how  are you \n"
     ]
    }
   ],
   "source": [
    "def remove_punctuation(s):\n",
    "    return s.translate(str.maketrans('','',string.punctuation))\n",
    "\n",
    "sentence = \"how ! are you --\"\n",
    "print(remove_punctuation(sentence))"
   ]
  },
  {
   "cell_type": "code",
   "execution_count": 156,
   "metadata": {
    "collapsed": true
   },
   "outputs": [],
   "source": [
    "def get_comment(wordidx, idx2word:dict):\n",
    "    wordlist = []\n",
    "    for idx in wordidx:\n",
    "        if idx != -1:\n",
    "            token = idx2word[idx]\n",
    "            if token not in string.punctuation:\n",
    "                wordlist.append(token)\n",
    "    return wordlist"
   ]
  },
  {
   "cell_type": "code",
   "execution_count": 157,
   "metadata": {
    "collapsed": true
   },
   "outputs": [],
   "source": [
    "def get_comments_samples(samples:dict, idx2word:dict):\n",
    "    comments = []\n",
    "    targets = []\n",
    "    for _, v in samples.items():\n",
    "        if v[3][-1] != -1:\n",
    "            comment = \" \".join(get_comment(v[0], idx2word))\n",
    "            label = v[3][-1]\n",
    "            comments.append(comment)\n",
    "            targets.append(label) \n",
    "    return comments, targets"
   ]
  },
  {
   "cell_type": "code",
   "execution_count": 158,
   "metadata": {},
   "outputs": [
    {
     "name": "stdout",
     "output_type": "stream",
     "text": [
      "0 3310\n",
      "1 3610\n",
      "-1 0\n"
     ]
    }
   ],
   "source": [
    "idx2word = {v:k for k, v in word2idx.items()}\n",
    "train_comments, train_targets = get_comments_samples(train_b, idx2word)\n",
    "test_comments, test_targets = get_comments_samples(test_b, idx2word)\n",
    "\n",
    "count0 = 0\n",
    "count1 = 0\n",
    "count2 = 0\n",
    "for i in range(len(train_comments)):\n",
    "\n",
    "    if train_targets[i] == 0:\n",
    "        count0 += 1\n",
    "    elif train_targets[i] == 1:\n",
    "        count1 += 1\n",
    "    else:\n",
    "        count2 += 1\n",
    "#     print(i, comments[i], targets[i])\n",
    "    \n",
    "print(\"0\", count0)\n",
    "print(\"1\", count1)\n",
    "print(\"-1\", count2)"
   ]
  },
  {
   "cell_type": "code",
   "execution_count": 159,
   "metadata": {},
   "outputs": [
    {
     "name": "stdout",
     "output_type": "stream",
     "text": [
      "!\"#$%&'()*+,-./:;<=>?@[\\]^_`{|}~\n",
      "['in', 'this', 'case', 'zero']\n"
     ]
    }
   ],
   "source": [
    "import nltk\n",
    "\n",
    "print(string.punctuation)\n",
    "print(nltk.word_tokenize(comment))"
   ]
  },
  {
   "cell_type": "code",
   "execution_count": 161,
   "metadata": {},
   "outputs": [
    {
     "ename": "ValueError",
     "evalue": "inconsistent shapes",
     "output_type": "error",
     "traceback": [
      "\u001b[0;31m---------------------------------------------------------------------------\u001b[0m",
      "\u001b[0;31mValueError\u001b[0m                                Traceback (most recent call last)",
      "\u001b[0;32m<ipython-input-161-65f8a7440e59>\u001b[0m in \u001b[0;36m<module>\u001b[0;34m()\u001b[0m\n\u001b[1;32m      1\u001b[0m \u001b[0;32mfrom\u001b[0m \u001b[0msklearn\u001b[0m\u001b[0;34m.\u001b[0m\u001b[0mfeature_extraction\u001b[0m\u001b[0;34m.\u001b[0m\u001b[0mtext\u001b[0m \u001b[0;32mimport\u001b[0m \u001b[0mCountVectorizer\u001b[0m\u001b[0;34m\u001b[0m\u001b[0m\n\u001b[1;32m      2\u001b[0m \u001b[0;34m\u001b[0m\u001b[0m\n\u001b[0;32m----> 3\u001b[0;31m \u001b[0mall_comments\u001b[0m \u001b[0;34m=\u001b[0m \u001b[0mtrain_comments\u001b[0m \u001b[0;34m+\u001b[0m \u001b[0mtest_comments\u001b[0m\u001b[0;34m\u001b[0m\u001b[0m\n\u001b[0m\u001b[1;32m      4\u001b[0m \u001b[0;34m\u001b[0m\u001b[0m\n\u001b[1;32m      5\u001b[0m \u001b[0mprint\u001b[0m\u001b[0;34m(\u001b[0m\u001b[0;34m\"total # of comments:\"\u001b[0m\u001b[0;34m,\u001b[0m \u001b[0mlen\u001b[0m\u001b[0;34m(\u001b[0m\u001b[0mall_comments\u001b[0m\u001b[0;34m)\u001b[0m\u001b[0;34m)\u001b[0m\u001b[0;34m\u001b[0m\u001b[0m\n",
      "\u001b[0;32m/Library/Frameworks/Python.framework/Versions/3.4/lib/python3.4/site-packages/scipy/sparse/compressed.py\u001b[0m in \u001b[0;36m__add__\u001b[0;34m(self, other)\u001b[0m\n\u001b[1;32m    338\u001b[0m         \u001b[0;32melif\u001b[0m \u001b[0misspmatrix\u001b[0m\u001b[0;34m(\u001b[0m\u001b[0mother\u001b[0m\u001b[0;34m)\u001b[0m\u001b[0;34m:\u001b[0m\u001b[0;34m\u001b[0m\u001b[0m\n\u001b[1;32m    339\u001b[0m             \u001b[0;32mif\u001b[0m \u001b[0;34m(\u001b[0m\u001b[0mother\u001b[0m\u001b[0;34m.\u001b[0m\u001b[0mshape\u001b[0m \u001b[0;34m!=\u001b[0m \u001b[0mself\u001b[0m\u001b[0;34m.\u001b[0m\u001b[0mshape\u001b[0m\u001b[0;34m)\u001b[0m\u001b[0;34m:\u001b[0m\u001b[0;34m\u001b[0m\u001b[0m\n\u001b[0;32m--> 340\u001b[0;31m                 \u001b[0;32mraise\u001b[0m \u001b[0mValueError\u001b[0m\u001b[0;34m(\u001b[0m\u001b[0;34m\"inconsistent shapes\"\u001b[0m\u001b[0;34m)\u001b[0m\u001b[0;34m\u001b[0m\u001b[0m\n\u001b[0m\u001b[1;32m    341\u001b[0m \u001b[0;34m\u001b[0m\u001b[0m\n\u001b[1;32m    342\u001b[0m             \u001b[0;32mreturn\u001b[0m \u001b[0mself\u001b[0m\u001b[0;34m.\u001b[0m\u001b[0m_binopt\u001b[0m\u001b[0;34m(\u001b[0m\u001b[0mother\u001b[0m\u001b[0;34m,\u001b[0m\u001b[0;34m'_plus_'\u001b[0m\u001b[0;34m)\u001b[0m\u001b[0;34m\u001b[0m\u001b[0m\n",
      "\u001b[0;31mValueError\u001b[0m: inconsistent shapes"
     ]
    }
   ],
   "source": [
    "from sklearn.feature_extraction.text import CountVectorizer\n",
    "\n",
    "all_comments = train_comments + test_comments\n",
    "\n",
    "print(\"total # of comments:\", len(all_comments))\n",
    "# Initialize a CoutVectorizer to use NLTK's tokenizer instead of its \n",
    "# default one (which ignores punctuation and stopwords). \n",
    "# Minimum document frequency set to 1. \n",
    "foovec = CountVectorizer()\n",
    "# sents turned into sparse vector of word frequency counts\n",
    "foovec = foovec.fit(all_comments)\n",
    "\n",
    "train_comments = foovec.transform(train_comments)\n",
    "test_comments = foovec.transform(test_comments)\n",
    "\n",
    "# foovec now contains vocab dictionary which maps unique words to indexes\n",
    "print(foovec.vocabulary_)\n",
    "# print(foovec.stop_words_ )\n",
    "# sents_counts has a dimension of 3 (document count) by 19 (# of unique words)\n",
    "print(sents_counts.shape)\n",
    "\n",
    "# print(\"Start Saving Data\")\n",
    "# print(\"Data Saving Finished\")"
   ]
  },
  {
   "cell_type": "code",
   "execution_count": 123,
   "metadata": {},
   "outputs": [
    {
     "name": "stdout",
     "output_type": "stream",
     "text": [
      "6920\n",
      "1821\n"
     ]
    }
   ],
   "source": [
    "from sklearn.feature_extraction.text import TfidfTransformer\n",
    "\n",
    "tfidf_transformer = TfidfTransformer()\n",
    "X_train = tfidf_transformer.fit_transform(train_comments)\n",
    "X_test = tfidf_transformer.fit_transform(test_comments)\n",
    "# print(sents_tfidf.toarray()[0, 200:600])\n",
    "\n",
    "print(X_train.shape[0])\n",
    "print(X_test.shape[0])"
   ]
  },
  {
   "cell_type": "code",
   "execution_count": 124,
   "metadata": {
    "collapsed": true
   },
   "outputs": [],
   "source": [
    "# Now ready to build a classifier. \n",
    "# We will use Multinominal Naive Bayes as our model\n",
    "from sklearn.naive_bayes import MultinomialNB\n",
    "\n",
    "# Train a Multimoda Naive Bayes classifier\n",
    "clf = MultinomialNB().fit(X_train, train_targets)"
   ]
  },
  {
   "cell_type": "code",
   "execution_count": 125,
   "metadata": {},
   "outputs": [
    {
     "data": {
      "text/plain": [
       "0.81274025260845684"
      ]
     },
     "execution_count": 125,
     "metadata": {},
     "output_type": "execute_result"
    }
   ],
   "source": [
    "# Predicting the Test set results, find accuracy\n",
    "from sklearn.metrics  import accuracy_score\n",
    "y_pred = clf.predict(X_test)\n",
    "accuracy_score(test_targets, y_pred)"
   ]
  },
  {
   "cell_type": "code",
   "execution_count": 127,
   "metadata": {},
   "outputs": [
    {
     "data": {
      "text/plain": [
       "array([[679, 233],\n",
       "       [108, 801]])"
      ]
     },
     "execution_count": 127,
     "metadata": {},
     "output_type": "execute_result"
    }
   ],
   "source": [
    "# Making the Confusion Matrix\n",
    "from sklearn.metrics import confusion_matrix\n",
    "cm = confusion_matrix(test_targets, y_pred)\n",
    "cm"
   ]
  },
  {
   "cell_type": "code",
   "execution_count": 128,
   "metadata": {},
   "outputs": [
    {
     "data": {
      "text/plain": [
       "0.81219110378912684"
      ]
     },
     "execution_count": 128,
     "metadata": {},
     "output_type": "execute_result"
    }
   ],
   "source": [
    "from sklearn.svm import SVC\n",
    "classifier_rbf = SVC(kernel='linear').fit(X_train, train_targets)\n",
    "y_pred = classifier_rbf.predict(X_test)\n",
    "accuracy_score(test_targets, y_pred)"
   ]
  },
  {
   "cell_type": "code",
   "execution_count": 129,
   "metadata": {},
   "outputs": [
    {
     "data": {
      "text/plain": [
       "array([[727, 185],\n",
       "       [157, 752]])"
      ]
     },
     "execution_count": 129,
     "metadata": {},
     "output_type": "execute_result"
    }
   ],
   "source": [
    "cm = confusion_matrix(test_targets, y_pred)\n",
    "cm"
   ]
  },
  {
   "cell_type": "code",
   "execution_count": 101,
   "metadata": {},
   "outputs": [
    {
     "name": "stdout",
     "output_type": "stream",
     "text": [
      "Fitting the classifier to the training set\n",
      "done in 453.360s\n",
      "Best estimator found by grid search:\n",
      "SVC(C=1000.0, cache_size=200, class_weight='balanced', coef0=0.0,\n",
      "  decision_function_shape='ovr', degree=3, gamma=0.0005, kernel='rbf',\n",
      "  max_iter=-1, probability=False, random_state=None, shrinking=True,\n",
      "  tol=0.001, verbose=False)\n"
     ]
    }
   ],
   "source": [
    "from sklearn.model_selection import GridSearchCV\n",
    "from time import time\n",
    "\n",
    "print(\"Fitting the classifier to the training set\")\n",
    "t0 = time()\n",
    "param_grid = {'C': [1e3, 5e3, 1e4, 5e4, 1e5],\n",
    "              'gamma': [0.0001, 0.0005, 0.001, 0.005, 0.01, 0.1], }\n",
    "clf = GridSearchCV(SVC(kernel='rbf', class_weight='balanced'), param_grid)\n",
    "clf = clf.fit(X_train, y_train)\n",
    "print(\"done in %0.3fs\" % (time() - t0))\n",
    "print(\"Best estimator found by grid search:\")\n",
    "print(clf.best_estimator_)"
   ]
  },
  {
   "cell_type": "code",
   "execution_count": 102,
   "metadata": {},
   "outputs": [
    {
     "data": {
      "text/plain": [
       "0.77962427745664742"
      ]
     },
     "execution_count": 102,
     "metadata": {},
     "output_type": "execute_result"
    }
   ],
   "source": [
    "y_pred = clf.predict(X_test)\n",
    "accuracy_score(y_test, y_pred)"
   ]
  },
  {
   "cell_type": "code",
   "execution_count": null,
   "metadata": {
    "collapsed": true
   },
   "outputs": [],
   "source": []
  }
 ],
 "metadata": {
  "kernelspec": {
   "display_name": "Python 3",
   "language": "python",
   "name": "python3"
  },
  "language_info": {
   "codemirror_mode": {
    "name": "ipython",
    "version": 3
   },
   "file_extension": ".py",
   "mimetype": "text/x-python",
   "name": "python",
   "nbconvert_exporter": "python",
   "pygments_lexer": "ipython3",
   "version": "3.4.4"
  }
 },
 "nbformat": 4,
 "nbformat_minor": 2
}
