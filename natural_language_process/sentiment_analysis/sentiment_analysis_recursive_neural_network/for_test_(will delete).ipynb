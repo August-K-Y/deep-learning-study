{
 "cells": [
  {
   "cell_type": "code",
   "execution_count": 2,
   "metadata": {},
   "outputs": [],
   "source": [
    "import numpy as np\n",
    "import tensorflow as tf"
   ]
  },
  {
   "cell_type": "code",
   "execution_count": 103,
   "metadata": {},
   "outputs": [],
   "source": [
    "with open('data/reviews.txt', 'r') as f:\n",
    "    reviews = f.read()\n",
    "with open('data/labels.txt', 'r') as f:\n",
    "    labels = f.read()"
   ]
  },
  {
   "cell_type": "code",
   "execution_count": 104,
   "metadata": {},
   "outputs": [
    {
     "data": {
      "text/plain": [
       "'bromwell high is a cartoon comedy . it ran at the same time as some other programs about school life  such as  teachers  . my   years in the teaching profession lead me to believe that bromwell high  s satire is much closer to reality than is  teachers  . the scramble to survive financially  the insightful students who can see right through their pathetic teachers  pomp  the pettiness of the whole situation  all remind me of the schools i knew and their students . when i saw the episode in which a student repeatedly tried to burn down the school  i immediately recalled . . . . . . . . . at . . . . . . . . . . high . a classic line inspector i  m here to sack one of your teachers . student welcome to bromwell high . i expect that many adults of my age think that bromwell high is far fetched . what a pity that it isn  t   \\nstory of a man who has unnatural feelings for a pig . starts out with a opening scene that is a terrific example of absurd comedy . a formal orchestra audience is turned into an insane  violent mob by the crazy chantings of it  s singers . unfortunately it stays absurd the whole time with no general narrative eventually making it just too off putting . even those from the era should be turned off . the cryptic dialogue would make shakespeare seem easy to a third grader . on a technical level it  s better than you might think with some good cinematography by future great vilmos zsigmond . future stars sally kirkland and frederic forrest can be seen briefly .  \\nhomelessness  or houselessness as george carlin stated  has been an issue for years but never a plan to help those on the street that were once considered human who did everything from going to school  work  or vote for the matter . most people think of the homeless as just a lost cause while worrying about things such as racism  the war on iraq  pressuring kids to succeed  technology  the elections  inflation  or worrying if they  ll be next to end up on the streets .  br    br   but what if y'"
      ]
     },
     "execution_count": 104,
     "metadata": {},
     "output_type": "execute_result"
    }
   ],
   "source": [
    "# the reviews are delimited with newlines `\\n`\n",
    "reviews[:2000]"
   ]
  },
  {
   "cell_type": "code",
   "execution_count": 105,
   "metadata": {},
   "outputs": [
    {
     "data": {
      "text/plain": [
       "'positive\\nnegative\\npositive\\nnegative\\npositive\\nnegative\\npositive\\nnegative\\npositive\\nnegative\\npositive\\nnegative\\npositive\\nnegative\\npositive\\nnegative\\npositive\\nnegative\\npositive\\nnegative\\npositive\\nnegative\\npositive\\nnegative\\npositive\\nnegative\\npositive\\nnegative\\npositive\\nnegative\\npositive\\nnegative\\npositive\\nnegative\\npositive\\nnegative\\npositive\\nnegative\\npositive\\nnegative\\npositive\\nnegative\\npositive\\nnegative\\npositive\\nnegative\\npositive\\nnegative\\npositive\\nnegative\\npositive\\nnegative\\npositive\\nnegative\\npositive\\nnegative\\npositive\\nnegative\\npositive\\nnegative\\npositive\\nnegative\\npositive\\nnegative\\npositive\\nnegative\\npositive\\nnegative\\npositive\\nnegative\\npositive\\nnegative\\npositive\\nnegative\\npositive\\nnegative\\npositive\\nnegative\\npositive\\nnegative\\npositive\\nnegative\\npositive\\nnegative\\npositive\\nnegative\\npositive\\nnegative\\npositive\\nnegative\\npositive\\nnegative\\npositive\\nnegative\\npositive\\nnegative\\npositive\\nnegative\\npositive\\nnegative\\npositive\\nnegative\\npositive\\nnegative\\npositive\\nnegative\\npositive\\nnegative\\npositive\\nnegative\\npositive\\nnegative\\npositive\\nnegative\\npositive\\nnegative\\npositive\\nnegative\\npositive\\nnegative\\npositive\\nnegative\\npositive\\nnegative\\npositive\\nnegative\\npositive\\nnegative\\npositive\\nnegative\\npositive\\nnegative\\npositive\\nnegative\\npositive\\nnegative\\npositive\\nnegative\\npositive\\nnegative\\npositive\\nnegative\\npositive\\nnegative\\npositive\\nnegative\\npositive\\nnegative\\npositive\\nnegative\\npositive\\nnegative\\npositive\\nnegative\\npositive\\nnegative\\npositive\\nnegative\\npositive\\nnegative\\npositive\\nnegative\\npositive\\nnegative\\npositive\\nnegative\\npositive\\nnegative\\npositive\\nnegative\\npositive\\nnegative\\npositive\\nnegative\\npositive\\nnegative\\npositive\\nnegative\\npositive\\nnegative\\npositive\\nnegative\\npositive\\nnegative\\npositive\\nnegative\\npositive\\nnegative\\npositive\\nnegative\\npositive\\nnegative\\npositive\\nnegative\\npositive\\nnegative\\npositive\\nnegative\\npositive\\nnegative\\npositive\\nnegative\\npositive\\nnegative\\npositive\\nnegative\\npositive\\nnegative\\npositive\\nnegative\\npositive\\nnegative\\npositive\\nnegative\\npositive\\nnegative\\npositive\\nnegative\\npositive\\nnegative\\npositive\\nnegative\\npo'"
      ]
     },
     "execution_count": 105,
     "metadata": {},
     "output_type": "execute_result"
    }
   ],
   "source": [
    "# the labels are delimited with newlines `\\n`\n",
    "labels[:2000]"
   ]
  },
  {
   "cell_type": "code",
   "execution_count": 106,
   "metadata": {},
   "outputs": [],
   "source": [
    "from string import punctuation\n",
    "all_text = ''.join([c for c in reviews if c not in punctuation])\n",
    "reviews = all_text.split('\\n')\n",
    "\n",
    "all_text = ' '.join(reviews)\n",
    "words = all_text.split()"
   ]
  },
  {
   "cell_type": "code",
   "execution_count": 107,
   "metadata": {},
   "outputs": [
    {
     "data": {
      "text/plain": [
       "'bromwell high is a cartoon comedy  it ran at the same time as some other programs about school life  such as  teachers   my   years in the teaching profession lead me to believe that bromwell high  s satire is much closer to reality than is  teachers   the scramble to survive financially  the insightful students who can see right through their pathetic teachers  pomp  the pettiness of the whole situation  all remind me of the schools i knew and their students  when i saw the episode in which a student repeatedly tried to burn down the school  i immediately recalled          at           high  a classic line inspector i  m here to sack one of your teachers  student welcome to bromwell high  i expect that many adults of my age think that bromwell high is far fetched  what a pity that it isn  t    story of a man who has unnatural feelings for a pig  starts out with a opening scene that is a terrific example of absurd comedy  a formal orchestra audience is turned into an insane  violent mob by the crazy chantings of it  s singers  unfortunately it stays absurd the whole time with no general narrative eventually making it just too off putting  even those from the era should be turned off  the cryptic dialogue would make shakespeare seem easy to a third grader  on a technical level it  s better than you might think with some good cinematography by future great vilmos zsigmond  future stars sally kirkland and frederic forrest can be seen briefly    homelessness  or houselessness as george carlin stated  has been an issue for years but never a plan to help those on the street that were once considered human who did everything from going to school  work  or vote for the matter  most people think of the homeless as just a lost cause while worrying about things such as racism  the war on iraq  pressuring kids to succeed  technology  the elections  inflation  or worrying if they  ll be next to end up on the streets   br    br   but what if you were given a bet to live on the st'"
      ]
     },
     "execution_count": 107,
     "metadata": {},
     "output_type": "execute_result"
    }
   ],
   "source": [
    "all_text[:2000]"
   ]
  },
  {
   "cell_type": "code",
   "execution_count": 108,
   "metadata": {},
   "outputs": [
    {
     "data": {
      "text/plain": [
       "['bromwell',\n",
       " 'high',\n",
       " 'is',\n",
       " 'a',\n",
       " 'cartoon',\n",
       " 'comedy',\n",
       " 'it',\n",
       " 'ran',\n",
       " 'at',\n",
       " 'the',\n",
       " 'same',\n",
       " 'time',\n",
       " 'as',\n",
       " 'some',\n",
       " 'other',\n",
       " 'programs',\n",
       " 'about',\n",
       " 'school',\n",
       " 'life',\n",
       " 'such']"
      ]
     },
     "execution_count": 108,
     "metadata": {},
     "output_type": "execute_result"
    }
   ],
   "source": [
    "words[:20]"
   ]
  },
  {
   "cell_type": "code",
   "execution_count": 109,
   "metadata": {},
   "outputs": [
    {
     "name": "stdout",
     "output_type": "stream",
     "text": [
      "<class 'collections.Counter'>\n"
     ]
    }
   ],
   "source": [
    "# Create your dictionary that maps vocab words to integers here\n",
    "from collections import Counter\n",
    "counts = Counter(words)\n",
    "print(type(counts))\n",
    "\n",
    "vocab = sorted(counts, key=counts.get, reverse=True)\n",
    "\n",
    "# Note that index start from 1\n",
    "vocab_to_int = {word:i for i, word in enumerate(vocab, 1)}"
   ]
  },
  {
   "cell_type": "code",
   "execution_count": 110,
   "metadata": {},
   "outputs": [
    {
     "name": "stdout",
     "output_type": "stream",
     "text": [
      "type of vocab <class 'list'>\n",
      "total # of words:  74072\n",
      "first word: the\n",
      "last word: arminian\n",
      "first word index: 1\n",
      "last word index 74072\n"
     ]
    }
   ],
   "source": [
    "print(\"type of vocab\", type(vocab))\n",
    "print('total # of words: ', len(vocab_to_int))\n",
    "print(\"first word:\", vocab[0])\n",
    "print(\"last word:\", vocab[-1])\n",
    "print(\"first word index:\", vocab_to_int[vocab[0]])\n",
    "print(\"last word index\", vocab_to_int[vocab[-1]])"
   ]
  },
  {
   "cell_type": "code",
   "execution_count": 111,
   "metadata": {},
   "outputs": [
    {
     "name": "stdout",
     "output_type": "stream",
     "text": [
      "# of reviews before index:  25001\n",
      "# of reviews after index:  25001\n"
     ]
    }
   ],
   "source": [
    "# Convert the reviews to integers, same shape as reviews list, but with integers\n",
    "print('# of reviews before index: ', len(reviews))\n",
    "reviews_ints = []\n",
    "for review in reviews:\n",
    "    reviews_ints.append([vocab_to_int[word] for word in review.split()])\n",
    "    \n",
    "print('# of reviews after index: ', len(reviews_ints))"
   ]
  },
  {
   "cell_type": "code",
   "execution_count": 112,
   "metadata": {},
   "outputs": [
    {
     "name": "stdout",
     "output_type": "stream",
     "text": [
      "['positive', 'negative', 'positive', 'negative', 'positive', 'negative', 'positive', 'negative', 'positive', 'negative', 'positive', 'negative', 'positive', 'negative', 'positive', 'negative', 'positive', 'negative', 'positive', 'negative']\n"
     ]
    }
   ],
   "source": [
    "labels = labels.split('\\n')\n",
    "print(labels[:20])"
   ]
  },
  {
   "cell_type": "code",
   "execution_count": 113,
   "metadata": {},
   "outputs": [
    {
     "name": "stdout",
     "output_type": "stream",
     "text": [
      "# of labels:  25001\n"
     ]
    }
   ],
   "source": [
    "# Convert labels to 1s and 0s for 'positive' and 'negative'\n",
    "labels = np.array([1 if label == 'positive' else 0 for label in labels])\n",
    "print(\"# of labels: \", len(labels))"
   ]
  },
  {
   "cell_type": "code",
   "execution_count": 114,
   "metadata": {},
   "outputs": [
    {
     "data": {
      "text/plain": [
       "25000"
      ]
     },
     "execution_count": 114,
     "metadata": {},
     "output_type": "execute_result"
    }
   ],
   "source": [
    "# Filter out that review with 0 length\n",
    "non_zero_idx = [idx for idx, review in enumerate(reviews_ints) if len(review) != 0]\n",
    "len(non_zero_idx)"
   ]
  },
  {
   "cell_type": "code",
   "execution_count": 115,
   "metadata": {},
   "outputs": [
    {
     "data": {
      "text/plain": [
       "[]"
      ]
     },
     "execution_count": 115,
     "metadata": {},
     "output_type": "execute_result"
    }
   ],
   "source": [
    "reviews_ints[-1]"
   ]
  },
  {
   "cell_type": "code",
   "execution_count": 116,
   "metadata": {},
   "outputs": [],
   "source": [
    "# Reconstruct reviews_ints and labels for only containing review with length > 0\n",
    "reviews_ints = [reviews_ints[idx] for idx in non_zero_idx]\n",
    "labels = np.array([labels[idx] for idx in non_zero_idx])"
   ]
  },
  {
   "cell_type": "code",
   "execution_count": 117,
   "metadata": {},
   "outputs": [
    {
     "name": "stdout",
     "output_type": "stream",
     "text": [
      "# of reviews: 25000\n",
      "# of labels: 25000\n"
     ]
    }
   ],
   "source": [
    "print('# of reviews:', len(reviews_ints))\n",
    "print('# of labels:', len(labels))"
   ]
  },
  {
   "cell_type": "code",
   "execution_count": 118,
   "metadata": {},
   "outputs": [],
   "source": [
    "seq_len = 200\n",
    "\n",
    "# The features created here are the data that we are going to train and test the network\n",
    "\n",
    "# Create features with shape (len(reviews_ints), seq_len) and initialized with zeros\n",
    "features = np.zeros((len(reviews_ints), seq_len), dtype=int)\n",
    "\n",
    "# Create list holding the length for each review\n",
    "lengths = []\n",
    "\n",
    "# row is the review in forms of a list of integers\n",
    "for i, row in enumerate(reviews_ints):\n",
    "    \n",
    "    # left padding\n",
    "    features[i, -len(row):] = np.array(row)[:seq_len]\n",
    "    \n",
    "    # record the length of each review. This might be useful when we want to use sequence_length argument\n",
    "    # of tf.nn.dynamic_rnn(...)\n",
    "    lengths.append(len(row))"
   ]
  },
  {
   "cell_type": "code",
   "execution_count": 119,
   "metadata": {},
   "outputs": [
    {
     "data": {
      "text/plain": [
       "array([[    0,     0,     0,     0,     0,     0,     0,     0,     0,\n",
       "            0,     0,     0,     0,     0,     0,     0,     0,     0,\n",
       "            0,     0,     0,     0,     0,     0,     0,     0,     0,\n",
       "            0,     0,     0,     0,     0,     0,     0,     0,     0,\n",
       "            0,     0,     0,     0,     0,     0,     0,     0,     0,\n",
       "            0,     0,     0,     0,     0,     0,     0,     0,     0,\n",
       "            0,     0,     0,     0,     0,     0, 21614,   308,     6,\n",
       "            3,  1050,   207,     8,  2140,    32,     1,   171,    57,\n",
       "           15,    49,    81,  5848,    44,   382,   110,   140,    15,\n",
       "         5207,    60,   154,     9,     1,  4993,  5859,   475,    71,\n",
       "            5,   260,    12, 21614,   308,    13,  1982,     6,    74,\n",
       "         2401],\n",
       "       [    0,     0,     0,     0,     0,     0,     0,     0,     0,\n",
       "            0,     0,     0,     0,     0,     0,     0,     0,     0,\n",
       "            0,     0,     0,     0,     0,     0,     0,     0,     0,\n",
       "            0,     0,     0,     0,     0,     0,     0,     0,     0,\n",
       "            0,     0,     0,     0,     0,     0,     0,     0,     0,\n",
       "            0,     0,     0,     0,     0,     0,     0,     0,     0,\n",
       "            0,     0,     0,     0,     0,     0,     0,     0,     0,\n",
       "            0,     0,     0,     0,     0,     0,     0,     0,     0,\n",
       "            0,     0,     0,     0,     0,     0,     0,     0,     0,\n",
       "            0,     0,     0,     0,     0,    63,     4,     3,   125,\n",
       "           36,    47,  7562,  1395,    16,     3,  4206,   505,    45,\n",
       "           17],\n",
       "       [22771,    42, 61797,    15,   707, 17526,  3394,    47,    77,\n",
       "           35,  1819,    16,   154,    19,   114,     3,  1305,     5,\n",
       "          336,   147,    22,     1,   857,    12,    70,   281,  1168,\n",
       "          399,    36,   120,   283,    38,   169,     5,   382,   158,\n",
       "           42,  2279,    16,     1,   541,    90,    78,   102,     4,\n",
       "            1,  3265,    15,    43,     3,   407,  1069,   136,  8145,\n",
       "           44,   182,   140,    15,  3058,     1,   320,    22,  4847,\n",
       "        27786,   346,     5,  3093,  2094,     1, 19668, 18000,    42,\n",
       "         8145,    46,    33,   236,    29,   370,     5,   130,    56,\n",
       "           22,     1,  1930,     7,     7,    19,    48,    46,    21,\n",
       "           70,   344,     3,  2103,     5,   408,    22,     1,  1930,\n",
       "           16],\n",
       "       [ 4515,   505,    15,     3,  3344,   162,  8370,  1654,     6,\n",
       "         4867,    56,    17,  4529,  5628,   140, 12014,     5,   997,\n",
       "         4930,  2944,  4464,   566,  1199,    36,     6,  1521,    96,\n",
       "            3,   744,     4, 27892,    13,     5,    27,  3478,     9,\n",
       "        10767,     4,     8,   111,  3014,     5,     1,  1028,    15,\n",
       "            3,  4407,    82,    22,  2050,     6,  4464,   538,  2774,\n",
       "         7127, 41759,    41,   463,     1,  8370, 72377,   302,   123,\n",
       "           15,  4245,    19,  1667,   922,     1,  1654,     6,  6152,\n",
       "        19901,    34,     1,   980,  1756, 22421,   646, 25142,    27,\n",
       "          106, 11875,    13, 14351, 15668, 18110,  2458,   466, 21655,\n",
       "           36,  3284,     1,  6390,  1020,    45,    17,  2697,  2505,\n",
       "           33],\n",
       "       [    0,     0,     0,     0,     0,     0,     0,     0,     0,\n",
       "            0,     0,     0,     0,     0,     0,     0,     0,     0,\n",
       "            0,     0,     0,     0,     0,     0,     0,     0,     0,\n",
       "            0,     0,     0,     0,     0,     0,     0,     0,     0,\n",
       "            0,     0,     0,     0,     0,     0,     0,     0,     0,\n",
       "            0,     0,     0,     0,     0,   520,   119,   113,    34,\n",
       "        16399,  1817,  3741,   117,   885, 22043,   721,    10,    28,\n",
       "          124,   108,     2,   115,   137,     9,  1626,  7745,    26,\n",
       "          330,     5,   589,     1,  6193,    22,   386,     6,     3,\n",
       "          349,    15,    50,    15,   231,     9,  7569, 11661,     1,\n",
       "          191,    22,  8968,     6,    82,   880,   101,   111,  3604,\n",
       "            4],\n",
       "       [    0,     0,     0,     0,     0,     0,     0,     0,     0,\n",
       "            0,     0,     0,     0,     0,     0,     0,     0,     0,\n",
       "            0,     0,     0,     0,     0,     0,     0,     0,     0,\n",
       "            0,     0,     0,     0,     0,     0,     0,     0,     0,\n",
       "            0,     0,     0,     0,     0,     0,     0,     0,     0,\n",
       "            0,     0,     0,     0,     0,     0,     0,     0,     0,\n",
       "           11,    20,  3642,   141,    10,   423,    23,   272,    60,\n",
       "         4378,    22,    32,    84,  3298,    22,     1,   172,     4,\n",
       "            1,   953,   507,    11,  5008,  5390,     5,   574,     4,\n",
       "         1155,    54,    53,  5306,     1,   261,    17,    41,   953,\n",
       "          125,    59,     1,   711,   137,   379,   626,    15,   111,\n",
       "         1513],\n",
       "       [    0,     0,     0,     0,     0,     0,     0,     0,     0,\n",
       "            0,     0,     0,     0,     0,     0,     0,     0,     0,\n",
       "            0,     0,     0,     0,     0,     0,     0,     0,     0,\n",
       "            0,     0,     0,     0,     0,     0,     0,     0,     0,\n",
       "            0,     0,     0,     0,     0,     0,     0,     0,     0,\n",
       "            0,     0,     0,     0,     0,     0,     0,     0,     0,\n",
       "            0,     0,     0,     0,     0,     0,     0,     0,     0,\n",
       "            0,     0,     0,     0,     0,     0,     0,     0,     0,\n",
       "            0,     0,     0,     0,    11,     6,   692,     1,    90,\n",
       "         2160,    20, 11950,     1,  2823,  5201,   249,    92,  3006,\n",
       "            8,   126,    24,   200,     3,   802,   634,     4, 22771,\n",
       "         1002],\n",
       "       [    0,     0,     0,     0,     0,     0,     0,     0,     0,\n",
       "            0,     0,     0,     0,     0,     0,     0,     0,     0,\n",
       "            0,     0,     0,     0,     0,     0,     0,     0,     0,\n",
       "            0,     0,     0,     0,     0,     0,     0,     0,     0,\n",
       "            0,     0,     0,     0,     0,     0,     0,     0,     0,\n",
       "            0,     0,   786,   295,    10,   122,    11,     6,   418,\n",
       "            5,    29,    35,   482,    20,    19,  1281,    33,   142,\n",
       "           28,  2667,    45,  1840,    32,     1,  2791,    37,    78,\n",
       "           97,  2444,    67,  3982,    45,     2,    24,   105,   256,\n",
       "            1,   134,  1571,     2, 12533,   452,    14,   319,    11,\n",
       "           63,     6,    98,  1322,     5,   105,     1,  3782,     4,\n",
       "            3],\n",
       "       [    0,     0,     0,     0,     0,     0,     0,     0,     0,\n",
       "            0,     0,     0,     0,     0,     0,     0,     0,     0,\n",
       "            0,     0,     0,     0,     0,     0,     0,     0,     0,\n",
       "            0,     0,     0,     0,     0,     0,     0,     0,     0,\n",
       "            0,     0,     0,     0,     0,     0,     0,     0,     0,\n",
       "            0,     0,     0,     0,     0,     0,     0,     0,     0,\n",
       "            0,     0,     0,     0,     0,     0,     0,     0,     0,\n",
       "            0,     0,     0,     0,     0,     0,     0,     0,     0,\n",
       "            0,     0,     0,     0,     0,     0,     0,    11,     6,\n",
       "           24,     1,   779,  3705,  2823,    20,     8,    14,    74,\n",
       "          325,  2736,    73,    90,     4,    27,    99,     2,   165,\n",
       "           68],\n",
       "       [   54,    10,    14,   116,    60,   798,   552,    71,   364,\n",
       "            5,     1,   730,     5,    66,  8059,     8,    14,    30,\n",
       "            4,   109,    99,    10,   293,    17,    60,   798,    19,\n",
       "           11,    14,     1,    64,    30,    69,  2504,    45,     4,\n",
       "          234,    93,    10,    68,   114,   108,  8059,   363,    43,\n",
       "         1009,     2,    10,    97,    28,  1431,    45,     1,   357,\n",
       "            4,    60,   110,   205,     8,    48,     3,  1928, 10923,\n",
       "            2,  2131,   354,   412,     4,    13,  6619,     2,  2980,\n",
       "         5167,  2123,  1367,     6,    30,     4,    60,   502,   875,\n",
       "           19,  8059,     6,    34,   227,     1,   247,   412,     4,\n",
       "          582,     4,    27,   599,     9,     1, 14044,   396,     4,\n",
       "        14543]])"
      ]
     },
     "execution_count": 119,
     "metadata": {},
     "output_type": "execute_result"
    }
   ],
   "source": [
    "features[:10,:100]"
   ]
  },
  {
   "cell_type": "code",
   "execution_count": 120,
   "metadata": {},
   "outputs": [
    {
     "name": "stdout",
     "output_type": "stream",
     "text": [
      "(25000,)\n",
      "(25000, 200)\n"
     ]
    }
   ],
   "source": [
    "print(labels.shape)\n",
    "print(features.shape)"
   ]
  },
  {
   "cell_type": "code",
   "execution_count": 121,
   "metadata": {},
   "outputs": [
    {
     "name": "stdout",
     "output_type": "stream",
     "text": [
      "\t\t\tFeature Shapes:\n",
      "Train set: \t\t(20000, 200) \n",
      "Validation set: \t(2500, 200) \n",
      "Test set: \t\t(2500, 200)\n"
     ]
    }
   ],
   "source": [
    "split_frac = 0.8\n",
    "split = int(len(features) * split_frac)\n",
    "train_x, val_x = features[:split, :], features[split:, :]\n",
    "train_y, val_y = labels[:split], labels[split:]\n",
    "\n",
    "split = int(len(val_x) * 0.5)\n",
    "val_x, test_x = val_x[:split, :], val_x[split:, :]\n",
    "val_y, test_y = val_y[:split], val_y[split:]\n",
    "\n",
    "print(\"\\t\\t\\tFeature Shapes:\")\n",
    "print(\"Train set: \\t\\t{}\".format(train_x.shape), \n",
    "      \"\\nValidation set: \\t{}\".format(val_x.shape),\n",
    "      \"\\nTest set: \\t\\t{}\".format(test_x.shape))"
   ]
  },
  {
   "cell_type": "code",
   "execution_count": 122,
   "metadata": {},
   "outputs": [],
   "source": [
    "def get_batches(x, y, batch_size=100):\n",
    "    \n",
    "    n_batches = len(x)//batch_size\n",
    "    \n",
    "    # Only get full batches\n",
    "    x, y = x[:n_batches*batch_size], y[:n_batches*batch_size]\n",
    "    \n",
    "    for ii in range(0, len(x), batch_size):\n",
    "        yield x[ii:ii+batch_size], y[ii:ii+batch_size]"
   ]
  },
  {
   "cell_type": "code",
   "execution_count": 123,
   "metadata": {},
   "outputs": [],
   "source": [
    "# with graph.as_default():\n",
    "    \n",
    "#     def build_cell(lstm_units, keep_prob):\n",
    "#         cell = tf.contrib.rnn.BasicLSTMCell(lstm_units)\n",
    "#         drop = tf.contrib.rnn.DropoutWrapper(cell, output_keep_prob = keep_prob)\n",
    "#         return drop"
   ]
  },
  {
   "cell_type": "code",
   "execution_count": 124,
   "metadata": {},
   "outputs": [],
   "source": [
    "# hyperparameters\n",
    "batch_size = 500 # this is mandatory, important, performance gain from 300 to 500\n",
    "\n",
    "embedding_dim = 300\n",
    "n_words = len(vocab_to_int) + 1\n",
    "\n",
    "num_lstm_layer = 1\n",
    "lstm_size = 256\n",
    "\n",
    "learning_rate = 0.001\n",
    "\n",
    "tf.reset_default_graph()\n",
    "\n",
    "graph = tf.Graph()\n",
    "with graph.as_default():\n",
    "    \n",
    "    # input placeholders\n",
    "    inputs = tf.placeholder(tf.int32, shape=[None, None], name='inputs')\n",
    "#     labels = tf.placeholder(tf.float32, shape=[None, None], name='labels')\n",
    "    labels = tf.placeholder(tf.int32, shape=[None, None], name='labels')\n",
    "    \n",
    "#     seq_len = tf.placeholder(tf.int32, shape=[None], name='seq_len')\n",
    "    keep_prob = tf.placeholder(tf.float32, name = \"keep_prob\")\n",
    "\n",
    "    # embedding layer\n",
    "    embedding = tf.Variable(tf.random_uniform((n_words, embedding_dim), -1, 1), name = 'embedding')\n",
    "    embed = tf.nn.embedding_lookup(embedding, inputs)\n",
    "\n",
    "    # LSTM layer\n",
    "    def build_cell(lstm_units, keep_prob):\n",
    "        cell = tf.contrib.rnn.BasicLSTMCell(lstm_units)\n",
    "        drop = tf.contrib.rnn.DropoutWrapper(cell, output_keep_prob = keep_prob)\n",
    "        return drop\n",
    "    \n",
    "    cell = tf.contrib.rnn.MultiRNNCell([build_cell(lstm_size, keep_prob) for _ in range(num_lstm_layer)])\n",
    "    initial_state = cell.zero_state(batch_size, tf.float32)\n",
    "\n",
    "    outputs, final_state = tf.nn.dynamic_rnn(cell, \n",
    "                                             embed, \n",
    "#                                              sequence_length = seq_len,\n",
    "                                             initial_state = initial_state)\n",
    "\n",
    "    predictions = tf.contrib.layers.fully_connected(outputs[:, -1], 1, activation_fn=tf.sigmoid)\n",
    "    cost = tf.losses.mean_squared_error(labels, predictions)\n",
    "#     cost = tf.nn.sigmoid_cross_entropy_with_logits(labels=labels, logits=predictions)\n",
    "#     entroy = tf.reduce_mean(cost)\n",
    "#     optimizer = tf.train.AdamOptimizer(learning_rate).minimize(entroy)\n",
    "    optimizer = tf.train.AdamOptimizer(learning_rate).minimize(cost)\n",
    "\n",
    "#     correct_pred = tf.equal(tf.cast(tf.round(predictions), tf.int32), tf.cast(tf.round(labels), tf.int32))\n",
    "    correct_pred = tf.equal(tf.cast(tf.round(predictions), tf.int32), labels)\n",
    "    accuracy = tf.reduce_mean(tf.cast(correct_pred, tf.float32))"
   ]
  },
  {
   "cell_type": "code",
   "execution_count": 125,
   "metadata": {},
   "outputs": [
    {
     "name": "stdout",
     "output_type": "stream",
     "text": [
      "0.241309\n",
      "Epoch: 0/10 Iteration: 5 Train loss: 0.241\n",
      "0.246442\n",
      "Epoch: 0/10 Iteration: 10 Train loss: 0.246\n",
      "0.228689\n",
      "Epoch: 0/10 Iteration: 15 Train loss: 0.229\n",
      "0.198157\n",
      "Epoch: 0/10 Iteration: 20 Train loss: 0.198\n",
      "0.187036\n",
      "Epoch: 0/10 Iteration: 25 Train loss: 0.187\n",
      "0.204461\n",
      "Epoch: 0/10 Iteration: 30 Train loss: 0.204\n",
      "0.157914\n",
      "Epoch: 0/10 Iteration: 35 Train loss: 0.158\n",
      "0.180983\n",
      "Epoch: 0/10 Iteration: 40 Train loss: 0.181\n",
      "0.169045\n",
      "Epoch: 1/10 Iteration: 45 Train loss: 0.169\n",
      "0.176163\n",
      "Epoch: 1/10 Iteration: 50 Train loss: 0.176\n",
      "0.169173\n",
      "Epoch: 1/10 Iteration: 55 Train loss: 0.169\n",
      "0.177093\n",
      "Epoch: 1/10 Iteration: 60 Train loss: 0.177\n",
      "0.145949\n",
      "Epoch: 1/10 Iteration: 65 Train loss: 0.146\n",
      "0.212292\n",
      "Epoch: 1/10 Iteration: 70 Train loss: 0.212\n",
      "0.144274\n",
      "Epoch: 1/10 Iteration: 75 Train loss: 0.144\n",
      "0.160709\n",
      "Epoch: 1/10 Iteration: 80 Train loss: 0.161\n",
      "0.139427\n",
      "Epoch: 2/10 Iteration: 85 Train loss: 0.139\n",
      "0.148421\n",
      "Epoch: 2/10 Iteration: 90 Train loss: 0.148\n",
      "0.155358\n",
      "Epoch: 2/10 Iteration: 95 Train loss: 0.155\n",
      "0.137846\n",
      "Epoch: 2/10 Iteration: 100 Train loss: 0.138\n",
      "0.116574\n",
      "Epoch: 2/10 Iteration: 105 Train loss: 0.117\n",
      "0.126434\n",
      "Epoch: 2/10 Iteration: 110 Train loss: 0.126\n",
      "0.108619\n",
      "Epoch: 2/10 Iteration: 115 Train loss: 0.109\n",
      "0.114908\n",
      "Epoch: 2/10 Iteration: 120 Train loss: 0.115\n",
      "0.147489\n",
      "Epoch: 3/10 Iteration: 125 Train loss: 0.147\n",
      "0.20771\n",
      "Epoch: 3/10 Iteration: 130 Train loss: 0.208\n",
      "0.15351\n",
      "Epoch: 3/10 Iteration: 135 Train loss: 0.154\n",
      "0.284292\n",
      "Epoch: 3/10 Iteration: 140 Train loss: 0.284\n",
      "0.197186\n",
      "Epoch: 3/10 Iteration: 145 Train loss: 0.197\n",
      "0.241151\n",
      "Epoch: 3/10 Iteration: 150 Train loss: 0.241\n",
      "0.239388\n",
      "Epoch: 3/10 Iteration: 155 Train loss: 0.239\n",
      "0.214157\n",
      "Epoch: 3/10 Iteration: 160 Train loss: 0.214\n",
      "0.204733\n",
      "Epoch: 4/10 Iteration: 165 Train loss: 0.205\n",
      "0.195242\n",
      "Epoch: 4/10 Iteration: 170 Train loss: 0.195\n",
      "0.218142\n",
      "Epoch: 4/10 Iteration: 175 Train loss: 0.218\n",
      "0.188932\n",
      "Epoch: 4/10 Iteration: 180 Train loss: 0.189\n",
      "0.168864\n",
      "Epoch: 4/10 Iteration: 185 Train loss: 0.169\n",
      "0.243093\n",
      "Epoch: 4/10 Iteration: 190 Train loss: 0.243\n",
      "0.166258\n",
      "Epoch: 4/10 Iteration: 195 Train loss: 0.166\n",
      "0.21928\n",
      "Epoch: 4/10 Iteration: 200 Train loss: 0.219\n",
      "0.215665\n",
      "Epoch: 5/10 Iteration: 205 Train loss: 0.216\n",
      "0.223053\n",
      "Epoch: 5/10 Iteration: 210 Train loss: 0.223\n",
      "0.185363\n",
      "Epoch: 5/10 Iteration: 215 Train loss: 0.185\n",
      "0.1693\n",
      "Epoch: 5/10 Iteration: 220 Train loss: 0.169\n",
      "0.124471\n",
      "Epoch: 5/10 Iteration: 225 Train loss: 0.124\n",
      "0.156869\n",
      "Epoch: 5/10 Iteration: 230 Train loss: 0.157\n",
      "0.12815\n",
      "Epoch: 5/10 Iteration: 235 Train loss: 0.128\n",
      "0.126363\n",
      "Epoch: 5/10 Iteration: 240 Train loss: 0.126\n",
      "0.110472\n",
      "Epoch: 6/10 Iteration: 245 Train loss: 0.110\n",
      "0.151347\n",
      "Epoch: 6/10 Iteration: 250 Train loss: 0.151\n",
      "0.178683\n",
      "Epoch: 6/10 Iteration: 255 Train loss: 0.179\n",
      "0.17368\n",
      "Epoch: 6/10 Iteration: 260 Train loss: 0.174\n",
      "0.144461\n",
      "Epoch: 6/10 Iteration: 265 Train loss: 0.144\n",
      "0.149137\n",
      "Epoch: 6/10 Iteration: 270 Train loss: 0.149\n",
      "0.157391\n",
      "Epoch: 6/10 Iteration: 275 Train loss: 0.157\n",
      "0.147653\n",
      "Epoch: 6/10 Iteration: 280 Train loss: 0.148\n",
      "0.127922\n",
      "Epoch: 7/10 Iteration: 285 Train loss: 0.128\n",
      "0.151359\n",
      "Epoch: 7/10 Iteration: 290 Train loss: 0.151\n",
      "0.19608\n",
      "Epoch: 7/10 Iteration: 295 Train loss: 0.196\n",
      "0.148775\n",
      "Epoch: 7/10 Iteration: 300 Train loss: 0.149\n",
      "0.166811\n",
      "Epoch: 7/10 Iteration: 305 Train loss: 0.167\n",
      "0.175598\n",
      "Epoch: 7/10 Iteration: 310 Train loss: 0.176\n",
      "0.141075\n",
      "Epoch: 7/10 Iteration: 315 Train loss: 0.141\n",
      "0.291195\n",
      "Epoch: 7/10 Iteration: 320 Train loss: 0.291\n",
      "0.232244\n",
      "Epoch: 8/10 Iteration: 325 Train loss: 0.232\n",
      "0.25395\n",
      "Epoch: 8/10 Iteration: 330 Train loss: 0.254\n",
      "0.240088\n",
      "Epoch: 8/10 Iteration: 335 Train loss: 0.240\n",
      "0.234839\n",
      "Epoch: 8/10 Iteration: 340 Train loss: 0.235\n",
      "0.221556\n",
      "Epoch: 8/10 Iteration: 345 Train loss: 0.222\n",
      "0.210549\n",
      "Epoch: 8/10 Iteration: 350 Train loss: 0.211\n",
      "0.199899\n",
      "Epoch: 8/10 Iteration: 355 Train loss: 0.200\n",
      "0.17282\n",
      "Epoch: 8/10 Iteration: 360 Train loss: 0.173\n",
      "0.115809\n",
      "Epoch: 9/10 Iteration: 365 Train loss: 0.116\n",
      "0.17027\n",
      "Epoch: 9/10 Iteration: 370 Train loss: 0.170\n",
      "0.130725\n",
      "Epoch: 9/10 Iteration: 375 Train loss: 0.131\n",
      "0.13805\n",
      "Epoch: 9/10 Iteration: 380 Train loss: 0.138\n",
      "0.0831151\n",
      "Epoch: 9/10 Iteration: 385 Train loss: 0.083\n",
      "0.153064\n",
      "Epoch: 9/10 Iteration: 390 Train loss: 0.153\n",
      "0.329808\n",
      "Epoch: 9/10 Iteration: 395 Train loss: 0.330\n",
      "0.215111\n",
      "Epoch: 9/10 Iteration: 400 Train loss: 0.215\n"
     ]
    }
   ],
   "source": [
    "epochs = 10\n",
    "# keep_prob = 0.5\n",
    "\n",
    "with tf.Session(graph=graph) as sess:\n",
    "        \n",
    "        sess.run(tf.global_variables_initializer())\n",
    "        iteration = 1\n",
    "        \n",
    "        for e in range(epochs):\n",
    "            \n",
    "            state = sess.run(initial_state)\n",
    "            \n",
    "            for ii, (x, y) in enumerate(get_batches(train_x, train_y, batch_size), 1):\n",
    "#             for batch_features, batch_labels, batch_len in get_batches(x_train_p, train_label, x_train_len, batch_size):\n",
    "#                 batch_len = np.array(batch_len)\n",
    "\n",
    "#                 print(batch_features.shape)\n",
    "#                 print(batch_labels.shape)\n",
    "#                 print(batch_len.shape)\n",
    "                \n",
    "#                 feed = {inputs: batch_features,\n",
    "#                         labels: batch_labels[:, None],   # change ths shape of y to [batch_size, 1]\n",
    "# #                         seq_len: batch_len,\n",
    "#                         keep_prob: 0.5,\n",
    "#                         initial_state: state}\n",
    "        \n",
    "                feed = {inputs: x,\n",
    "                        labels: y[:, None],   # change ths shape of y to [batch_size, 1]\n",
    "#                         seq_len: batch_len,\n",
    "                        keep_prob: 0.5,\n",
    "                        initial_state: state}\n",
    "        \n",
    "#                 loss, state, _ = sess.run([entroy, final_state, optimizer], feed_dict=feed)\n",
    "                loss, state, _ = sess.run([cost, final_state, optimizer], feed_dict=feed)\n",
    "                if iteration%5==0:\n",
    "                    print(loss)\n",
    "                    print(\"Epoch: {}/{}\".format(e, epochs),\n",
    "                          \"Iteration: {}\".format(iteration),\n",
    "                          \"Train loss: {:.3f}\".format(loss))\n",
    "                iteration +=1"
   ]
  },
  {
   "cell_type": "code",
   "execution_count": null,
   "metadata": {},
   "outputs": [],
   "source": []
  }
 ],
 "metadata": {
  "kernelspec": {
   "display_name": "Python 3",
   "language": "python",
   "name": "python3"
  },
  "language_info": {
   "codemirror_mode": {
    "name": "ipython",
    "version": 3
   },
   "file_extension": ".py",
   "mimetype": "text/x-python",
   "name": "python",
   "nbconvert_exporter": "python",
   "pygments_lexer": "ipython3",
   "version": "3.4.4"
  }
 },
 "nbformat": 4,
 "nbformat_minor": 2
}
