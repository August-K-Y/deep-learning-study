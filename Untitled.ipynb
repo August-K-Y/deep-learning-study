{
 "cells": [
  {
   "cell_type": "code",
   "execution_count": 7,
   "metadata": {},
   "outputs": [
    {
     "name": "stdout",
     "output_type": "stream",
     "text": [
      "{'2', '3', '4'}\n"
     ]
    }
   ],
   "source": [
    "k = set('34234')\n",
    "v = set('123')\n",
    "\n",
    "if k:\n",
    "    print(k)"
   ]
  },
  {
   "cell_type": "code",
   "execution_count": 62,
   "metadata": {},
   "outputs": [
    {
     "name": "stdout",
     "output_type": "stream",
     "text": [
      "IHGFEDCBA\n",
      "['A1', 'B2', 'C3', 'D4', 'E5', 'F6', 'G7', 'H8', 'I9']\n",
      "['I1', 'H2', 'G3', 'F4', 'E5', 'D6', 'C7', 'B8', 'A9']\n"
     ]
    }
   ],
   "source": [
    "rows = 'ABCDEFGHI'\n",
    "cols = '123456789'\n",
    "rows_r = rows[::-1]\n",
    "diagonal_1 = [r + c for r, c in zip(rows, cols)]\n",
    "diagonal_2= [r + c for r, c in zip(rows_r, cols)]\n",
    "print(rows_r)\n",
    "print(diagonal_1)\n",
    "print(diagonal_2)"
   ]
  },
  {
   "cell_type": "code",
   "execution_count": 56,
   "metadata": {},
   "outputs": [],
   "source": [
    "def cross(A, B):\n",
    "    \"\"\"Cross product of elements in A and elements in B \"\"\"\n",
    "    return [x+y for x in A for y in B]"
   ]
  },
  {
   "cell_type": "code",
   "execution_count": 63,
   "metadata": {},
   "outputs": [
    {
     "name": "stdout",
     "output_type": "stream",
     "text": [
      "[['A1', 'A2', 'A3', 'A4', 'A5', 'A6', 'A7', 'A8', 'A9'], ['B1', 'B2', 'B3', 'B4', 'B5', 'B6', 'B7', 'B8', 'B9'], ['C1', 'C2', 'C3', 'C4', 'C5', 'C6', 'C7', 'C8', 'C9'], ['D1', 'D2', 'D3', 'D4', 'D5', 'D6', 'D7', 'D8', 'D9'], ['E1', 'E2', 'E3', 'E4', 'E5', 'E6', 'E7', 'E8', 'E9'], ['F1', 'F2', 'F3', 'F4', 'F5', 'F6', 'F7', 'F8', 'F9'], ['G1', 'G2', 'G3', 'G4', 'G5', 'G6', 'G7', 'G8', 'G9'], ['H1', 'H2', 'H3', 'H4', 'H5', 'H6', 'H7', 'H8', 'H9'], ['I1', 'I2', 'I3', 'I4', 'I5', 'I6', 'I7', 'I8', 'I9']]\n",
      "[['A1', 'A2', 'A3', 'A4', 'A5', 'A6', 'A7', 'A8', 'A9'], ['B1', 'B2', 'B3', 'B4', 'B5', 'B6', 'B7', 'B8', 'B9'], ['C1', 'C2', 'C3', 'C4', 'C5', 'C6', 'C7', 'C8', 'C9'], ['D1', 'D2', 'D3', 'D4', 'D5', 'D6', 'D7', 'D8', 'D9'], ['E1', 'E2', 'E3', 'E4', 'E5', 'E6', 'E7', 'E8', 'E9'], ['F1', 'F2', 'F3', 'F4', 'F5', 'F6', 'F7', 'F8', 'F9'], ['G1', 'G2', 'G3', 'G4', 'G5', 'G6', 'G7', 'G8', 'G9'], ['H1', 'H2', 'H3', 'H4', 'H5', 'H6', 'H7', 'H8', 'H9'], ['I1', 'I2', 'I3', 'I4', 'I5', 'I6', 'I7', 'I8', 'I9'], ['A1', 'B2', 'C3', 'D4', 'E5', 'F6', 'G7', 'H8', 'I9'], ['I1', 'H2', 'G3', 'F4', 'E5', 'D6', 'C7', 'B8', 'A9']]\n"
     ]
    }
   ],
   "source": [
    "row_units = [cross(r, cols) for r in rows]\n",
    "print(row_units)\n",
    "u = row_units + [diagonal_1,diagonal_2]\n",
    "print(u)"
   ]
  },
  {
   "cell_type": "code",
   "execution_count": 66,
   "metadata": {},
   "outputs": [
    {
     "name": "stdout",
     "output_type": "stream",
     "text": [
      "27\n",
      "29\n"
     ]
    }
   ],
   "source": [
    "row_units = [cross(r, cols) for r in rows]\n",
    "column_units = [cross(rows, c) for c in cols]\n",
    "square_units = [cross(rs, cs) for rs in ('ABC','DEF','GHI') for cs in ('123','456','789')]\n",
    "unitlist = row_units + column_units + square_units\n",
    "print(len(unitlist))\n",
    "rows_r = rows[::-1]\n",
    "diagonal_1 = [r + c for r, c in zip(rows, cols)]\n",
    "diagonal_2 = [r + c for r, c in zip(rows_r, cols)]\n",
    "\n",
    "# TODO: Update the unit list to add the new diagonal units\n",
    "unitlist = unitlist + [diagonal_1, diagonal_2]\n",
    "\n",
    "print(len(unitlist))"
   ]
  },
  {
   "cell_type": "code",
   "execution_count": 54,
   "metadata": {},
   "outputs": [],
   "source": [
    "def naked_twins(values):\n",
    "    for unit in unitlist:\n",
    "\n",
    "        # get all boxes that have value of len 2\n",
    "        size_2_boxes = [box for box in unit if len(values[box]) == 2]\n",
    "\n",
    "        # value2counts map a value to the amount of boxes that have that value\n",
    "        # value2boxes map a value to all boxes that have that value\n",
    "        value2counts = {}\n",
    "        value2boxes = {}\n",
    "        for b in size_2_boxes:\n",
    "            if values[b] not in value2counts:\n",
    "                value2counts[values[b]] = 0\n",
    "                value2boxes[values[b]] = []\n",
    "            value2counts[values[b]] += 1\n",
    "            value2boxes[values[b]].append(b)\n",
    "            \n",
    "        # get all boxes in which values should not be changed.\n",
    "        # These boxes include all pairs of naked twins.\n",
    "        unchange = set()\n",
    "        for k, v in value2counts.items():\n",
    "            if v == 2:\n",
    "                unchange |= set(value2boxes[k])\n",
    "               \n",
    "        # remove values in paris of naked twims from other boxes in this unit\n",
    "        for k, v in value2counts.items():\n",
    "            if v == 2:\n",
    "                for b in unit:\n",
    "                    if b not in unchange:\n",
    "                        for c in k:\n",
    "                            values[b] = values[b].replace(c,'') \n",
    "    return values"
   ]
  },
  {
   "cell_type": "code",
   "execution_count": 67,
   "metadata": {},
   "outputs": [
    {
     "name": "stdout",
     "output_type": "stream",
     "text": [
      "{'G3': '1', 'A3': '73', 'D3': '9', 'E3': '9', 'F3': '23', 'H3': '5', 'I3': '23', 'B3': '73', 'C3': '8'}\n"
     ]
    }
   ],
   "source": [
    "unitlist = [['A3', 'B3', 'C3', 'D3', 'E3', 'F3', 'G3', 'H3', 'I3']]\n",
    "values = {'A3':'73', 'B3':'73', 'C3':'8', 'D3':'2379', 'E3':'379', 'F3':'23', 'G3':'1', 'H3':'5', 'I3':'23' }\n",
    "values = naked_twins(values)\n",
    "print(values)"
   ]
  },
  {
   "cell_type": "code",
   "execution_count": 85,
   "metadata": {},
   "outputs": [
    {
     "name": "stdout",
     "output_type": "stream",
     "text": [
      "1 12\n"
     ]
    }
   ],
   "source": [
    "state = {(0,0): 0, (0, 1): 0, (0, 2): 0, (1,0): 0, (1, 1): 0, (1, 2): -1 }\n",
    "move = (1,12)\n",
    "# print(move[0])\n",
    "# print(move[1])\n",
    "# print(state)\n",
    "# state[move]\n",
    "\n",
    "x, y = move\n",
    "print(x, y)"
   ]
  },
  {
   "cell_type": "code",
   "execution_count": 87,
   "metadata": {},
   "outputs": [
    {
     "data": {
      "text/plain": [
       "[[0, 0], [0, 0], [0, 0]]"
      ]
     },
     "execution_count": 87,
     "metadata": {},
     "output_type": "execute_result"
    }
   ],
   "source": [
    "xlim, ylim = 3, 2  # board dimensions\n",
    "_board = [[0] * ylim for _ in range(xlim)]\n",
    "_board"
   ]
  },
  {
   "cell_type": "code",
   "execution_count": 91,
   "metadata": {},
   "outputs": [
    {
     "name": "stdout",
     "output_type": "stream",
     "text": [
      "1\n"
     ]
    }
   ],
   "source": [
    "b = 1\n",
    "if b:\n",
    "    print(b)\n",
    "else:\n",
    "    print(b)"
   ]
  },
  {
   "cell_type": "markdown",
   "metadata": {},
   "source": [
    "1 is interpreted as true, which o as false"
   ]
  },
  {
   "cell_type": "code",
   "execution_count": null,
   "metadata": {},
   "outputs": [],
   "source": []
  }
 ],
 "metadata": {
  "kernelspec": {
   "display_name": "Python 3",
   "language": "python",
   "name": "python3"
  },
  "language_info": {
   "codemirror_mode": {
    "name": "ipython",
    "version": 3
   },
   "file_extension": ".py",
   "mimetype": "text/x-python",
   "name": "python",
   "nbconvert_exporter": "python",
   "pygments_lexer": "ipython3",
   "version": "3.4.4"
  }
 },
 "nbformat": 4,
 "nbformat_minor": 2
}
