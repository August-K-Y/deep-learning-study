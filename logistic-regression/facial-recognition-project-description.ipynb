{
 "cells": [
  {
   "cell_type": "markdown",
   "metadata": {},
   "source": [
    "# Facial Expression Recognition Project Description"
   ]
  },
  {
   "cell_type": "markdown",
   "metadata": {},
   "source": [
    "\n"
   ]
  },
  {
   "cell_type": "markdown",
   "metadata": {},
   "source": [
    "### The data\n",
    "* [Download from Kaggle](https://www.kaggle.com/c/challenges-in-representation-learning-facial-expression-recognition-challenge/data)\n",
    "* 48x48 grayscale images\n",
    "* Faces are centered, approx same size\n",
    "* 7 classes:\n",
    "    * 0 = Angry\n",
    "    * 1 = Disgust\n",
    "    * 2 = Fear\n",
    "    * 3 = Happy\n",
    "    * 4 = Sad\n",
    "    * 5 = Surprise\n",
    "    * 6 = Neural\n",
    "* 3 column CSV: label, pixels (space-separated), train/test"
   ]
  },
  {
   "cell_type": "markdown",
   "metadata": {},
   "source": [
    "### Structure of data\n",
    "* Each image sample is 48x48=2304 dimensions\n",
    "* No color\n",
    "* If we had color, it would be 3x48x48=6912 dimensions\n",
    "* With logistic regression and basic neural networks, we will use a flat 2304 vector\n",
    "* Ignores spatial relationships, just considers each individual pixel intensity (flatten the image)\n",
    "    * Each image: [- row 1-] (1-48), [- row 2-] (49-96), ... , becomes: [- row 1 -- row 2 -- row3-...] (1-2304)\n",
    "* With convolutional neural networks we keep the original image shape."
   ]
  },
  {
   "cell_type": "markdown",
   "metadata": {},
   "source": [
    "### Normalize the data\n",
    "* Images have pixel intensities 0...255 (8 bit integers have 2^8=256 different possible values)\n",
    "* We want to normalize these to be from 0...1. Another way to normalize is z=(x-mean)/stddev.\n",
    "* Reason: sigmoid/tanh (used by Neural Network) are most active in the -1...+1 range"
   ]
  },
  {
   "cell_type": "markdown",
   "metadata": {},
   "source": [
    "### Challenges\n",
    "* Deep learning does not really give you plug-and-chug black boxes\n",
    "* Correct learn rate?\n",
    "    * Too high --> NaN\n",
    "    * Too low --> slow convergence\n",
    "* Correct regularization\n",
    "    * Too high --> just makes W very small, ignores actual pattern\n",
    "    * Too low --> cost may still explode to NaN\n",
    "* How many epochs?\n",
    "    * Stop too early --> steep slop, not at minimum error\n",
    "    * Stop too late --> No effect on error, takes too long\n"
   ]
  },
  {
   "cell_type": "markdown",
   "metadata": {},
   "source": [
    "### Pratices\n",
    "* We will try this problem in the context of many different deep learning models\n",
    "    * logistic using sigmoid/softmax\n",
    "    * classic ANN softmax/Theano/TensorFlow\n",
    "    * Convolutional Net, etc"
   ]
  },
  {
   "cell_type": "markdown",
   "metadata": {},
   "source": [
    "### Coding in class-based way\n",
    "\n",
    "* Make model class-based (OOD&OOP)\n",
    "* Mimic the Sci-Kit Learn interface\n",
    "* All supervised SKLearn models work like this:\n",
    "```\n",
    "model = MyModel()\n",
    "model.fit(X, Y)\n",
    "model.predict(X)\n",
    "model.score(X, Y)\n",
    "```\n",
    "* We can re-use the same model on different data in the future\n",
    "\n",
    "<img src=\"images/ml_ood.png\" alt=\"Drawing\" style=\"width:80%;height:80%\"/>"
   ]
  },
  {
   "cell_type": "code",
   "execution_count": null,
   "metadata": {},
   "outputs": [],
   "source": []
  }
 ],
 "metadata": {
  "kernelspec": {
   "display_name": "Python 3",
   "language": "python",
   "name": "python3"
  },
  "language_info": {
   "codemirror_mode": {
    "name": "ipython",
    "version": 3
   },
   "file_extension": ".py",
   "mimetype": "text/x-python",
   "name": "python",
   "nbconvert_exporter": "python",
   "pygments_lexer": "ipython3",
   "version": "3.4.4"
  }
 },
 "nbformat": 4,
 "nbformat_minor": 2
}
