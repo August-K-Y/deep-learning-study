{
 "cells": [
  {
   "cell_type": "markdown",
   "metadata": {},
   "source": [
    "# Logistic Regression for E-Commerce Course Project"
   ]
  },
  {
   "cell_type": "code",
   "execution_count": 6,
   "metadata": {},
   "outputs": [],
   "source": [
    "import pandas as pd\n",
    "import numpy as np\n",
    "import matplotlib.pyplot as plt\n",
    "\n",
    "from sklearn.utils import shuffle"
   ]
  },
  {
   "cell_type": "code",
   "execution_count": 88,
   "metadata": {},
   "outputs": [
    {
     "data": {
      "text/html": [
       "<div>\n",
       "<style>\n",
       "    .dataframe thead tr:only-child th {\n",
       "        text-align: right;\n",
       "    }\n",
       "\n",
       "    .dataframe thead th {\n",
       "        text-align: left;\n",
       "    }\n",
       "\n",
       "    .dataframe tbody tr th {\n",
       "        vertical-align: top;\n",
       "    }\n",
       "</style>\n",
       "<table border=\"1\" class=\"dataframe\">\n",
       "  <thead>\n",
       "    <tr style=\"text-align: right;\">\n",
       "      <th></th>\n",
       "      <th>is_mobile</th>\n",
       "      <th>n_products_viewed</th>\n",
       "      <th>visit_duration</th>\n",
       "      <th>is_returning_visitor</th>\n",
       "      <th>time_of_day</th>\n",
       "      <th>user_action</th>\n",
       "    </tr>\n",
       "  </thead>\n",
       "  <tbody>\n",
       "    <tr>\n",
       "      <th>0</th>\n",
       "      <td>1</td>\n",
       "      <td>0</td>\n",
       "      <td>0.657510</td>\n",
       "      <td>0</td>\n",
       "      <td>3</td>\n",
       "      <td>0</td>\n",
       "    </tr>\n",
       "    <tr>\n",
       "      <th>1</th>\n",
       "      <td>1</td>\n",
       "      <td>1</td>\n",
       "      <td>0.568571</td>\n",
       "      <td>0</td>\n",
       "      <td>2</td>\n",
       "      <td>1</td>\n",
       "    </tr>\n",
       "    <tr>\n",
       "      <th>2</th>\n",
       "      <td>1</td>\n",
       "      <td>0</td>\n",
       "      <td>0.042246</td>\n",
       "      <td>1</td>\n",
       "      <td>1</td>\n",
       "      <td>0</td>\n",
       "    </tr>\n",
       "    <tr>\n",
       "      <th>3</th>\n",
       "      <td>1</td>\n",
       "      <td>1</td>\n",
       "      <td>1.659793</td>\n",
       "      <td>1</td>\n",
       "      <td>1</td>\n",
       "      <td>2</td>\n",
       "    </tr>\n",
       "    <tr>\n",
       "      <th>4</th>\n",
       "      <td>0</td>\n",
       "      <td>1</td>\n",
       "      <td>2.014745</td>\n",
       "      <td>1</td>\n",
       "      <td>1</td>\n",
       "      <td>2</td>\n",
       "    </tr>\n",
       "  </tbody>\n",
       "</table>\n",
       "</div>"
      ],
      "text/plain": [
       "   is_mobile  n_products_viewed  visit_duration  is_returning_visitor  \\\n",
       "0          1                  0        0.657510                     0   \n",
       "1          1                  1        0.568571                     0   \n",
       "2          1                  0        0.042246                     1   \n",
       "3          1                  1        1.659793                     1   \n",
       "4          0                  1        2.014745                     1   \n",
       "\n",
       "   time_of_day  user_action  \n",
       "0            3            0  \n",
       "1            2            1  \n",
       "2            1            0  \n",
       "3            1            2  \n",
       "4            1            2  "
      ]
     },
     "execution_count": 88,
     "metadata": {},
     "output_type": "execute_result"
    }
   ],
   "source": [
    "df = pd.read_csv('data/ecommerce_data.csv')\n",
    "df.head()"
   ]
  },
  {
   "cell_type": "code",
   "execution_count": 89,
   "metadata": {},
   "outputs": [],
   "source": [
    "def get_data():\n",
    "    df=pd.read_csv('data/ecommerce_data.csv')\n",
    "    data=df.as_matrix()\n",
    "    \n",
    "    # split each row into features and label (the last column)\n",
    "    X=data[:,:-1]\n",
    "    Y=data[:,-1]\n",
    "    \n",
    "    # normalize column n_products_viewed and visti_duration\n",
    "    X[:,1]=(X[:,1]-X[:,1].mean())/X[:,1].std()\n",
    "    X[:,2]=(X[:,2]-X[:,2].mean())/X[:,2].std()\n",
    "\n",
    "        \n",
    "    # do the one-hot-encoding on column time_of_day\n",
    "    N, D = X.shape\n",
    "    X2=np.zeros((N, D + 3))\n",
    "    X2[:, 0:(D-1)] = X[:, 0:(D-1)]\n",
    "\n",
    "    \n",
    "    # the time_of_day is the 5th column (0-based)\n",
    "    for n in range(N):\n",
    "        t = int(X[n,4])\n",
    "        X2[n,t+D-1]=1\n",
    "        \n",
    "    return X2, Y\n",
    "\n",
    "def get_binary_data():\n",
    "    X, Y = get_data()\n",
    "    X2=X[Y<=1]\n",
    "    Y2=Y[Y<=1]\n",
    "    return X2, Y2"
   ]
  },
  {
   "cell_type": "code",
   "execution_count": 90,
   "metadata": {},
   "outputs": [
    {
     "name": "stdout",
     "output_type": "stream",
     "text": [
      "(298, 8)\n",
      "(298,)\n",
      "(100, 8)\n",
      "(100,)\n"
     ]
    }
   ],
   "source": [
    "X, Y = get_binary_data()\n",
    "X, Y = shuffle(X, Y)\n",
    "\n",
    "# hold 100 samples for testing\n",
    "Xtrain = X[:-100]\n",
    "Ytrain = Y[:-100]\n",
    "Xtest = X[-100:]\n",
    "Ytest = Y[-100:]\n",
    "\n",
    "print(Xtrain.shape)\n",
    "print(Ytrain.shape)\n",
    "print(Xtest.shape)\n",
    "print(Ytest.shape)\n"
   ]
  },
  {
   "cell_type": "code",
   "execution_count": 91,
   "metadata": {},
   "outputs": [],
   "source": [
    "def forward(X, W):\n",
    "    '''\n",
    "    Compute the output of the Logistic Regression Network\n",
    "    '''\n",
    "    return sigmoid(X.dot(W))\n",
    "\n",
    "def sigmoid(z):\n",
    "    return 1/(1+np.exp(-z))\n",
    "\n",
    "def classification_rate(Y, P):\n",
    "    return np.mean(Y==P)\n",
    "\n",
    "def cross_entropy(T, Y):\n",
    "    J = 0;\n",
    "    N = len(T)\n",
    "    for i in range(N):\n",
    "        if T[i] == 1:\n",
    "            J-=np.log(Y[i])\n",
    "        else:\n",
    "            J-=np.log(1-Y[i])\n",
    "    return J/N\n",
    "\n",
    "# def cross_entropy(T, Y):\n",
    "#     return -np.mean(T*np.log(Y) + (1-T)*np.log(1-Y))"
   ]
  },
  {
   "cell_type": "code",
   "execution_count": 92,
   "metadata": {},
   "outputs": [],
   "source": [
    "def fit_ridge(X, T, epochs=100, learning_rate=0.1, lamba=0.1):\n",
    "    \n",
    "    N, D = X.shape\n",
    "    \n",
    "    # add bias \n",
    "    ones = np.ones((N,1))\n",
    "    Xb = np.concatenate((X, ones), axis=1)\n",
    "\n",
    "    # randomly initialize weights\n",
    "    w = np.random.randn(D + 1)\n",
    "    \n",
    "    Y = forward(Xb, w)\n",
    "\n",
    "    # training weights using gradient descent\n",
    "    for i in range(epochs):\n",
    "        if i % 10 == 0:\n",
    "            print(i, cross_entropy(T, Y))\n",
    "        \n",
    "        w += learning_rate * (Xb.T.dot(T - Y) - lamba * w)\n",
    "        Y = forward(Xb, w)\n",
    "\n",
    "    return w"
   ]
  },
  {
   "cell_type": "code",
   "execution_count": 93,
   "metadata": {},
   "outputs": [],
   "source": [
    "'''\n",
    "If create a class for Logistic Regression, \n",
    "we can hold w as a interal object variable \n",
    "such that there is no need to pass in the weights w.\n",
    "'''\n",
    "def predict(X, T, w):\n",
    "    N, D = X.shape\n",
    "    \n",
    "    # add bias \n",
    "    ones = np.ones((N,1))\n",
    "    Xb = np.concatenate((X, ones), axis=1)\n",
    "\n",
    "    \n",
    "    Y = forward(Xb, w)\n",
    "    \n",
    "    print(\"classification rate:\", classification_rate(T, np.round(Y)))\n",
    "    "
   ]
  },
  {
   "cell_type": "code",
   "execution_count": 94,
   "metadata": {},
   "outputs": [
    {
     "name": "stdout",
     "output_type": "stream",
     "text": [
      "0 1.08532758132\n",
      "10 0.19313694999\n",
      "20 0.173882095417\n",
      "30 0.44092113747\n",
      "40 0.228556271098\n",
      "50 0.1822311929\n",
      "60 0.173530344407\n",
      "70 0.173203015252\n",
      "80 0.173479613681\n",
      "90 0.292778065194\n",
      "final w: [ 1.8206699   8.39427415  0.72444741  2.47000937  0.57614225 -0.72158962\n",
      "  0.10495549 -0.65666915 -0.47479969] <class 'numpy.ndarray'>\n",
      "classification rate: 0.976510067114\n",
      "classification rate: 0.95\n"
     ]
    }
   ],
   "source": [
    "w = fit_ridge(Xtrain, Ytrain)\n",
    " \n",
    "print(\"final w:\", w, type(w))\n",
    "predict(Xtrain, Ytrain, w)\n",
    "predict(Xtest, Ytest, w)"
   ]
  },
  {
   "cell_type": "markdown",
   "metadata": {},
   "source": [
    "## Logistic Regression with softmax (softmas regression)"
   ]
  },
  {
   "cell_type": "code",
   "execution_count": null,
   "metadata": {},
   "outputs": [],
   "source": []
  },
  {
   "cell_type": "code",
   "execution_count": 130,
   "metadata": {},
   "outputs": [],
   "source": [
    "def classification_rate(Y, P):\n",
    "    return np.mean(Y==P)\n",
    "\n",
    "def error_rate(T, P):\n",
    "    return np.mean(T != P)\n",
    "\n",
    "def softmax_cross_entropy(T, Y):\n",
    "    return -(T * np.log(Y)).mean()\n",
    "\n",
    "def softmax(A):\n",
    "    expA = np.exp(A)\n",
    "    return expA / expA.sum(axis=1, keepdims=True)\n",
    "\n",
    "# one-hot-encoding on labels\n",
    "def y2indicator(y, dims):\n",
    "    N = len(y)\n",
    "    y = y.astype(np.int32)\n",
    "    \n",
    "    # initialize the indicator matrix, \n",
    "    # N is the number of samples which dims is the number of classes\n",
    "    ind = np.zeros((N, dims))\n",
    "    for i in range(N):\n",
    "        ind[i, y[i]] = 1\n",
    "    return ind"
   ]
  },
  {
   "cell_type": "code",
   "execution_count": 146,
   "metadata": {},
   "outputs": [],
   "source": [
    "class SoftmaxRegression(object):\n",
    "    \n",
    "    def __init__(self):\n",
    "        pass\n",
    "    \n",
    "    def fit(self, X, Y, epochs=10000, learning_rate=0.001, reg=0.1, show_fig=False):\n",
    "        X, Y = shuffle(X, Y)\n",
    "        \n",
    "        N, D = X.shape\n",
    "        K = len(set(Y))\n",
    "        \n",
    "        # normally the split of data should be done before the fit method\n",
    "        Xvalid, Yvalid = X[-100:], Y[-100:]\n",
    "        X, Y = X[:-100], Y[:-100]\n",
    "        \n",
    "        T = y2indicator(Y, K)\n",
    "        Tvalid = y2indicator(Yvalid, K)\n",
    "        \n",
    "        self.W1 = np.random.randn(D, K) / np.sqrt(D + K)\n",
    "#         self.W1 = np.random.randn(D, K)\n",
    "        self.b1 = np.zeros(K)\n",
    "        \n",
    "        costs = []\n",
    "#         best_validation_error = 1\n",
    "        best_classification_rate = 0\n",
    "        for ep in range(epochs):\n",
    "            \n",
    "            Py = self.forward(X)\n",
    "            \n",
    "            Py_T = Py - T\n",
    "            self.W1 -= learning_rate * (X.T.dot(Py_T) + reg * self.W1)\n",
    "            self.b1 -= learning_rate * (Py_T.sum(axis=0) + reg * self.b1)\n",
    "            \n",
    "            \n",
    "            Pyvalid = self.forward(Xvalid)\n",
    "            c = softmax_cross_entropy(Tvalid, Pyvalid)\n",
    "            costs.append(c)\n",
    "                \n",
    "            if ep % 1000 == 0:\n",
    "#                 Pyvalid = self.forward(Xvalid)\n",
    "#                 c = softmax_cross_entropy(Tvalid, Pyvalid)\n",
    "#                 costs.append(c)\n",
    "                cl = classification_rate(Yvalid, np.argmax(Pyvalid, axis=1))\n",
    "                print(\"ep:\", ep, \"cost:\", c, \"classfication:\", cl)\n",
    "                if cl > best_classification_rate:\n",
    "                    best_classification_rate = cl\n",
    "                \n",
    "        print(\"best_classification_rate:\", best_classification_rate) \n",
    "        print(\"Final train classification rate:\", classification_rate(Y, self.predict(X))) \n",
    "        print(\"Final test classification rate:\", classification_rate(Yvalid, self.predict(Xvalid))) \n",
    "        \n",
    "        if show_fig:\n",
    "            plt.plot(costs)\n",
    "            plt.show()              \n",
    "\n",
    "    def forward(self, X):\n",
    "        return softmax(X.dot(self.W1) + self.b1)\n",
    "    \n",
    "    def predict(self, X):\n",
    "        Py = self.forward(X)\n",
    "        return np.argmax(Py, axis=1)"
   ]
  },
  {
   "cell_type": "code",
   "execution_count": 152,
   "metadata": {},
   "outputs": [
    {
     "name": "stdout",
     "output_type": "stream",
     "text": [
      "ep: 0 cost: 0.315030951582 classfication: 0.47\n",
      "ep: 1000 cost: 0.100148279431 classfication: 0.87\n",
      "ep: 2000 cost: 0.0956286325591 classfication: 0.87\n",
      "ep: 3000 cost: 0.0940821449067 classfication: 0.87\n",
      "ep: 4000 cost: 0.0933683607299 classfication: 0.88\n",
      "ep: 5000 cost: 0.0929861021298 classfication: 0.88\n",
      "ep: 6000 cost: 0.0927641833303 classfication: 0.88\n",
      "ep: 7000 cost: 0.092629233259 classfication: 0.88\n",
      "ep: 8000 cost: 0.0925448806776 classfication: 0.88\n",
      "ep: 9000 cost: 0.0924912705111 classfication: 0.88\n",
      "best_classification_rate: 0.88\n",
      "Final train classification rate: 0.93\n",
      "Final test classification rate: 0.88\n"
     ]
    },
    {
     "data": {
      "image/png": "[encoded data removed]",
      "text/plain": [
       "<matplotlib.figure.Figure at 0x109fb5400>"
      ]
     },
     "metadata": {},
     "output_type": "display_data"
    }
   ],
   "source": [
    "X, Y = get_data()\n",
    "\n",
    "# print(X.shape)\n",
    "model = SoftmaxRegression()\n",
    "model.fit(X, Y, learning_rate=0.001, epochs=10000, reg=0.1, show_fig=True)\n"
   ]
  },
  {
   "cell_type": "code",
   "execution_count": null,
   "metadata": {},
   "outputs": [],
   "source": []
  },
  {
   "cell_type": "code",
   "execution_count": null,
   "metadata": {},
   "outputs": [],
   "source": []
  },
  {
   "cell_type": "code",
   "execution_count": null,
   "metadata": {},
   "outputs": [],
   "source": []
  }
 ],
 "metadata": {
  "kernelspec": {
   "display_name": "Python 3",
   "language": "python",
   "name": "python3"
  },
  "language_info": {
   "codemirror_mode": {
    "name": "ipython",
    "version": 3
   },
   "file_extension": ".py",
   "mimetype": "text/x-python",
   "name": "python",
   "nbconvert_exporter": "python",
   "pygments_lexer": "ipython3",
   "version": "3.4.4"
  }
 },
 "nbformat": 4,
 "nbformat_minor": 2
}
