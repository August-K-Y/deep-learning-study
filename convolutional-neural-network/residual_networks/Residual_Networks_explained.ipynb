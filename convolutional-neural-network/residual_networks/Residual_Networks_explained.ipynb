{
 "cells": [
  {
   "cell_type": "markdown",
   "metadata": {},
   "source": [
    "# Residual Networks"
   ]
  },
  {
   "cell_type": "markdown",
   "metadata": {},
   "source": [
    "In recent years, neural networks have become deeper, with state-of-the-art networks going from just a few layers (e.g., AlexNet) to over a hundred layers.\n",
    "\n",
    "> The main benefit of a very deep network is that it can represent very complex functions. It can also learn features at many different levels of abstraction, from edges (at the lower layers) to very complex features (at the deeper layers). \n",
    "\n",
    "> However, using a deeper network doesn't always help. A huge barrier to training them is <b>vanishing (or exploding) gradients</b>: very deep networks often have a gradient signal that goes to zero quickly, thus making gradient descent unbearably slow. More specifically, during gradient descent, as you backprop from the final layer back to the first layer, you are multiplying by the weight matrix on each step, and thus the gradient can decrease exponentially quickly to zero (or, in rare cases, grow exponentially quickly and \"explode\" to take very large values). "
   ]
  },
  {
   "cell_type": "markdown",
   "metadata": {},
   "source": [
    "## Residual block"
   ]
  },
  {
   "cell_type": "markdown",
   "metadata": {},
   "source": [
    "ResNets can deminish the issue of vanishing gradients to some extend and thus it makes deep neural network easier to train. This is achieved by residual blocks. In a residual block, a \"shortcut\" or a \"skip connection\" allows to fast forward information multiple layers ahead and to backpropagate gradient directly to earlier layers."
   ]
  },
  {
   "cell_type": "markdown",
   "metadata": {},
   "source": [
    "Figure 1 shows a block without 'skip connection':\n",
    "\n",
    "<img src=\"images/block_without_short_cut.png\" style=\"width:800px;height:90px;\">\n",
    "<caption><center> <u> <font color='purple'> **Figure 1** </u><font color='purple'>  : A block without a **skip-connection** <br> </center></caption>"
   ]
  },
  {
   "cell_type": "markdown",
   "metadata": {},
   "source": [
    "Figure 2 shows a residual block:\n",
    "\n",
    "<img src=\"images/residual_block.png\" style=\"width:800px\">\n",
    "<caption><center> <u> <font color='purple'> **Figure 2** </u><font color='purple'>  : **A residual block** <br> </center></caption>\n",
    "    \n",
    "In this residual block, information can flow directly from point A to point B through the 'short cut' rather than going through all these steps through the main path. On the other way around, gradients can be propagated back directly from point B to point A. "
   ]
  },
  {
   "cell_type": "markdown",
   "metadata": {},
   "source": [
    "In this residual block (called `identity block` to be more precise), we calculate $a^{[l+2]}$ by $g(Z^{[l+2]} + a^{[l]})$ instead of $g(Z^{[l+2]})$ assuming that $Z^{[l+2]}$ and $a^{[l]}$ has the same dimension:\n",
    "\n",
    "$$ a^{[l+2]} = g(Z^{[l+2]} + a^{[l]}) $$\n",
    "\n",
    "If they have different dimension, we can multiply $a^{[l]}$ with a matrix $W_s$ to transform $a^{[l]}$ to have the same dimension as that of $Z^{[l+2]}$. Then, we have formular:\n",
    "\n",
    "$$ a^{[l+2]} = g(Z^{[l+2]} + W_s a^{[l]}) $$\n",
    "\n",
    "For Convoluational Neural Network, we achieve this by adding a convolutional layer to the 'short cut'. In this case, this residual block is called `convolutional block`. \n",
    "\n",
    "The way we build a ResNet is by taking many residual blocks and stacking them together to form a deep neural network."
   ]
  },
  {
   "cell_type": "markdown",
   "metadata": {},
   "source": [
    "## What is good about residual blocks for deep network?"
   ]
  },
  {
   "cell_type": "markdown",
   "metadata": {},
   "source": [
    "If we train a deep network that has no residual blocks, in theory, as we make the network deeper, the network should only perform better and better on the training data. However, In reality, we would find that as we increase the number of layes, the training error will tend to decrease for a while but then it will tend to go back up. \n",
    "\n",
    "In ResNet, as the number of layers gets larger, we can have the performance of the training error keep on going down. Even if we train a network with over hundreds of layers.\n",
    "\n",
    "<img src=\"images/training_error_comparison.png\">\n",
    "<caption><center> <u> <font color='purple'> **Figure 3** </u><font color='purple'>  : **Training error comparison** <br> </center></caption>"
   ]
  },
  {
   "cell_type": "markdown",
   "metadata": {},
   "source": [
    "## Why do ResNet work?"
   ]
  },
  {
   "cell_type": "markdown",
   "metadata": {},
   "source": [
    "Suppose we have a deep neural network, called A:\n",
    "\n",
    "<img src=\"images/deep_nn_example.png\" style=\"width:400px;height:60px\">\n",
    "<caption><center> <u> <font color='purple'> **Figure 4** </u><font color='purple'>  : ** A deep neural network** <br> </center></caption>\n",
    "\n",
    "We append a residual block to network A:\n",
    "\n",
    "<img src=\"images/deep_nn_rb_example.png\" style=\"width:600px;height:120px\">\n",
    "<caption><center> <u> <font color='purple'> **Figure 5** </u><font color='purple'>  : ** A deep neural network appended a residual block** <br> </center></caption>"
   ]
  },
  {
   "cell_type": "markdown",
   "metadata": {},
   "source": [
    "We use Relu activation. We have the output:\n",
    "    $$ a^{[l+2]} = g(Z^{[l+2]} + a^{[l]}) = g(W^{[l+2]}a^{[l+1]} + b^{[l+2]} + a^{[l]})$$\n",
    "\n",
    "if $W^{[l+2]}$ and $b^{[l+2]}$ are trained to be 0, then we learned a identity function (because $g(.)$ is Relu):\n",
    "    $$ g(a^{[l]}) = a^{[l]} $$"
   ]
  },
  {
   "cell_type": "markdown",
   "metadata": {},
   "source": [
    "What this shows is that the identity function is easy for residual network to learn. It easy to get $a^{[l+2]} = a^{[l]}$ because of the skip connection. Adding a residual block to network A does not really hurt A's ability to performance as well as network A when it has no residual block.\n",
    "\n",
    "> Our objective is not just not hurt the performance of the network. We hope that the residual blocks would learn something more useful making the deep neural network as a whole do even better than just learning identity functions.\n",
    "\n",
    "What the issue with very deep neural network without residual blocks is that: when we make the network deeper and deeper, it is very difficult for the network to choose parameters that learn the identity functions. This is why a lots of layers end up making the result worse rather then making the result better."
   ]
  },
  {
   "cell_type": "markdown",
   "metadata": {},
   "source": [
    "## References \n",
    "\n",
    "This notebook presents the ResNet algorithm due to He et al. (2015). The implementation here also took significant inspiration and follows the structure given in the github repository of Francois Chollet: \n",
    "\n",
    "- Kaiming He, Xiangyu Zhang, Shaoqing Ren, Jian Sun - [Deep Residual Learning for Image Recognition (2015)](https://arxiv.org/abs/1512.03385)\n",
    "- Francois Chollet's github repository: https://github.com/fchollet/deep-learning-models/blob/master/resnet50.py"
   ]
  },
  {
   "cell_type": "code",
   "execution_count": null,
   "metadata": {},
   "outputs": [],
   "source": []
  }
 ],
 "metadata": {
  "kernelspec": {
   "display_name": "Python 3",
   "language": "python",
   "name": "python3"
  },
  "language_info": {
   "codemirror_mode": {
    "name": "ipython",
    "version": 3
   },
   "file_extension": ".py",
   "mimetype": "text/x-python",
   "name": "python",
   "nbconvert_exporter": "python",
   "pygments_lexer": "ipython3",
   "version": "3.6.5"
  }
 },
 "nbformat": 4,
 "nbformat_minor": 2
}
